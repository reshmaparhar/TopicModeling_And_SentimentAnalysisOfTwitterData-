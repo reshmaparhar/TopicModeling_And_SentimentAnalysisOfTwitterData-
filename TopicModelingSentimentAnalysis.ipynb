{
 "cells": [
  {
   "cell_type": "markdown",
   "metadata": {
    "id": "id6jZVYHxPmV"
   },
   "source": []
  },
  {
   "cell_type": "code",
   "execution_count": 352,
   "metadata": {
    "colab": {
     "base_uri": "https://localhost:8080/",
     "height": 1000
    },
    "id": "Z4sVDiCkDDbX",
    "outputId": "f600076a-1973-40df-a310-a6f042881e86"
   },
   "outputs": [
    {
     "name": "stdout",
     "output_type": "stream",
     "text": [
      "RT @Bikash_Das_11: Damn &amp; yes ! \n",
      "We are Trending on the 17th Position In India ! \n",
      "Guys keep on tweeting &amp; most importantly retweeting ....…\n",
      "RT @Haggis_UK: Yvette Cooper - Hong Kong identified 47 covid cases on a single flight from Delhi, &amp; we have 16 more direct flights &amp; many m…\n",
      "RT @digvijaya_28: \"States Must Keep Oxygen Demand Under Control\": Union Minister Piyush Goyal\n",
      "\n",
      "How stupid Piyush ji!! Oxygen demand is need…\n",
      "RT @rssurjewala: The entire nation wishes you a speedy recovery Dr. Manmohan Singh ji.\n",
      "\n",
      "India needs the sagacious vision, self imposed rest…\n",
      "WTFFFFF!! And you know what the first ones to import this shit from America to India would be the liberal hindus\n",
      "RT @ANI: Govt of India announces liberalised &amp; accelerated Phase 3 strategy of COVID-19 vaccination from May 1; everyone above the age of 1…\n",
      "@TraderMindset @stockswala You wont find a responsible government anywhere in India , be it center or state , be it… https://t.co/8JBeAjzVYx\n",
      "RT @Chaital71870857: @BangtanINDIA @mcdonaldsindia @BTS_twt Dear @mcdonaldsindia can you please bring #BTS meal to all other parts of India…\n",
      "RT @swati_gs: Because no publication is covering rallies and hate speeches by fanatics in India over blasphemy, who are even declaring that…\n",
      "RT @swati_gs: Because no publication is covering rallies and hate speeches by fanatics in India over blasphemy, who are even declaring that…\n",
      "Chandrababu Naidu is known for his tremendous work for implementing the use of modern Information Technology (IT) i… https://t.co/b8srjJwHqz\n",
      "RT @StayingReal0511: The Nation is indebted to U for ur leadership,vision &amp; eco expertise, in our worst times🙏🏻\n",
      "Sincere prayers for ur smoo…\n",
      "RT @srivatsayb: Money to Vaccine Producers and 18+ to get Vaccinated\n",
      "\n",
      "2 more key suggestions of @RahulGandhi &amp; Congress Party accepted by t…\n",
      "RT @HuXijin_GT: As the US has been winning big, why not make real efforts to save friends who have devoted so much for the US, such as Indi…\n",
      "RT @yusufpore: Following his return to India, Dr. Ansari became heavily embroiled in the politics raging around him and in 1912, he led the…\n",
      "RT @ramakumarr: A quick thread on today's announcement of the Government of India (GoI) to open up Covid vaccination to those above 18 year…\n",
      "RT @chrischirp: India has been added to the red list - this is good. Mind you, whole red list philosophy very leaky but better than nothing…\n",
      "RT @DrEricDing: 6) Regardless, the epidemic situation from India is too hot. After another flight from India to HK that also carried cases,…\n",
      "BBC News: India added to coronavirus ‘red list’ BBC News - India added to coronavirus ‘red list’\n",
      "https://t.co/B0pwO0x8bC\n",
      "@Chris_Alifoe I’ve also been reminded of the furore earlier this year when it was reported that Disney+ were going… https://t.co/084gG2csKe\n",
      "RT @JujuliaGrace: India should be on the red travel list. \n",
      "\n",
      "RT if you agree 👍\n",
      "RT @SwarajyaMag: India To Become Top EV Manufacturer In The World; Will Start Making Lithium-Ion Batteries By Year End: Nitin Gadkari\n",
      "\n",
      "http…\n",
      "RT @Alan__020: Boris cancels trip to India, amid growing concerns of high COVID cases,\n",
      "Flights from India to the UK have not stopped  \n",
      "The…\n",
      "RT @MajorPoonia: Share Max 🙏\n",
      "RSS sets up Pan-India helpline for COVID-19 patients\n",
      "\n",
      "Come what may, Swayamsevaks always stood up for the huma…\n",
      "RT @tleehumphrey: 3 flights per day still land in Canada from India, why?\n",
      "RT @sadia_MAK: While Modi IT cell is doing fake trends like #CivilWarinPakistan, this is what happening in India.\n",
      "Modi is deviating his nat…\n",
      "RT @TriptiCharan: Resorts like these 🤩\n",
      "#ExploreWithTripti 🇮🇳 #travelblogger #blogger #traveling #gurgaonhotels #influencers #IndianTravelle…\n",
      "RT @BBCWorld: How India failed to prevent a deadly Covid second wave https://t.co/P9FGQ3uX88\n",
      "RT @BJP4WMedinipur: Thank you @narendramodi ji, Thank you @PMOIndia...\n",
      "\n",
      "Under the dynamic leadership of Hnble. Modiji we will definitely ov…\n",
      "RT @SeharShabirShah: At present I don't see a political leader fighting only for the plight of his people choosing to remain in jails of In…\n",
      "RT @thiruja: There are two.possibilities to save India from Covid\n",
      "\n",
      "1. Vaccinate 100 crore ppl in a week.\n",
      "\n",
      "2. Modi should Resign\n",
      "\n",
      "Tweet/ Ret…\n",
      "RT @narendramodi: Discussed the prevailing COVID-19 situation with leading doctors and medical experts. India is proud of the efforts of ou…\n",
      "RT @btsbengalarmys: Dear @mcdonaldsindia , \n",
      "We are absolutely thrilled to notice INDIA mentioned in BTS MEAL that is coming soon in May. Bu…\n",
      "RT @Dharma2X: @RamyaBhat26 @Swamy39 #Covishield is promoted as \"Made in India\" vaccine.. It is a Videshi vaccine, full name is Oxford-Astra…\n",
      "@narendramodi worst ever PM India ever had.. no respect even for those who respect you.\n",
      "RT @Mandoline_Blue: India is finally on the Red List.  \n",
      "\n",
      "In other news, Johnson puts his condom on AFTER he's had sex....\n",
      "RT @narendramodi: Discussed the prevailing COVID-19 situation with leading doctors and medical experts. India is proud of the efforts of ou…\n",
      "RT @optimusprime689: According to health minister OOPS Railway minister of India \"Oxygen is being given to people who don't need it &amp; they…\n",
      "RT @DilliDurAst: BJP doesn’t care about people dying because that’s one voter less to persuade. They see India as a vast network of polling…\n",
      "RT @BhavyaDhoni: FOR INDIA 🙏🏻 https://t.co/vyCAPBjKKM\n",
      "RT @leonbakhan: India has enough money to spend on pagoda election rallies..while little is being done to improve the basic health infrastr…\n",
      "RT @RahulGandhi: Dear Dr. Manmohan Singh Ji, \n",
      "\n",
      "Wishing you a speedy recovery. \n",
      "India needs your guidance and advice in this difficult time.\n",
      "@DrAMSinghvi a part reply to your question sir.\n",
      "RT @Mimiification: Idk why India and Pakistan hate each other when both countries are experiencing the MOST level of clownery by their PMs…\n",
      "No shayari nowadays noti @rautsanjay61 @AUThackeray @OfficeofUT @ShivsenaComms @SaamanaOnline @KishoriPednekar… https://t.co/HWaJXgcCNV\n",
      "RT @theskindoctor13: Cricket world cup final, 2023 : India needs 6 off 1 ball to win the cup.\n",
      "\n",
      "Uddhav : Idhar chakka\n",
      "maara to apan cup jeet…\n",
      "RT @narendramodi: Discussed the prevailing COVID-19 situation with leading doctors and medical experts. India is proud of the efforts of ou…\n",
      "RT @_sayema: Dr Manmohan Singh has been one of the best PMs of India. We need such visionaries. His silence was golden. His deeds spoke lou…\n",
      "RT @optimusprime689: According to health minister OOPS Railway minister of India \"Oxygen is being given to people who don't need it &amp; they…\n",
      "RT @Haggis_UK: Yvette Cooper - Hong Kong identified 47 covid cases on a single flight from Delhi, &amp; we have 16 more direct flights &amp; many m…\n",
      "#ResignModi \n",
      "\n",
      "India rejects the RSS-BJP junta. @rashtrapatibhvn should ask Modi to step down. \n",
      "\n",
      "@RahulGandhi… https://t.co/D06EdpUvm5\n",
      "The full 'red list' of 41 travel ban countries after India added https://t.co/WkV8OcImp5\n",
      "RT @BhavyaDhoni: FOR INDIA 🙏🏻 https://t.co/vyCAPBjKKM\n",
      "RT @SShashank1417: Prayers for speedy recovery of Former Prime Minister of India Dr Manmohan Singh. 🙏\n",
      "RT @Kareembasha001: Please come in front of this issue....\n",
      "All the students of india come in to this issue...#cancelapboardexams2021 \n",
      "#Canc…\n",
      "New Delhi enters lockdown as hospitals run short of beds and oxygen amid India’s COVID surge | World News https://t.co/r9taJAYgu5\n",
      "RT @stylistanu: Troll ministers are releasing statements as if they are totally unaware of the ground situation. \n",
      "\n",
      "@rsprasad &amp; @smritiirani…\n",
      "RT @BangtanINDIA: Dear @mcdonaldsindia can you please bring #BTS meal to all other parts of India? We all would really love and appreciate…\n",
      "RT @Sreya_Chattrjee: Mamata Banerjee has been asking this since February! https://t.co/WhhY9YLytD\n",
      "RT @h3h3productions: So many people are still dying of Covid in India, Brazil, everywhere, and people in the USA are saying no to the vacci…\n",
      "RT @sn12275: @sambitswaraj @narendramodi #WhereIsPM ??? As #BangalElection2021 getting over now @BJP4India is active ? Who will take respon…\n",
      "RT @BhavyaDhoni: FOR INDIA 🙏🏻 https://t.co/vyCAPBjKKM\n",
      "RT @rohanrgupta: Saddened to learn about former Prime Minister of India Dr Manmohan Singh ji being tested positive for COVID-19. My prayers…\n",
      "RT @thesaudadeguy: Kerala is donating oxygen to not just to Goa, but also to Tamil Nadu and Karnataka. Only because we have our public sect…\n",
      "RT @Kesariya_Indian: Dear Fellow Indians\n",
      "\n",
      "Yesterday It was Maharashtra\n",
      "\n",
      "Today It's Delhi\n",
      "\n",
      "Tomorrow It May Be Whole India\n",
      "\n",
      "So Show Some Matu…\n",
      "RT @BhadraPunchline: Good. He might have recruited Modi govt to bandwagon his risky Global Britain enterprise. EAM must be feeling disappoi…\n",
      "RT @alexvtunzelmann: Good. Going on an outreach trip at this time would have been completely inappropriate, and likely to put a lot of ordi…\n",
      "RT @charlesadler: \"Of the 106 COVID-infected flights that landed in Canada since March 4, 30 originated from Delhi,  9 landing at YVR- Vanc…\n",
      "RT @AstroAmigo: Everyone over 18 years of age eligible to get vaccine from May 1, announces Govt of India. \n",
      "\n",
      "RT please.\n",
      "RT @Bez78829056: Of course Johnson's impending visit to India?😉☹️⚰️\n",
      "(Now cancelled)\n",
      ".. so why wasn't India put on the red list 10 days ago.…\n",
      "RT @NarundarM: Govt denied Rahul Gandhi's useless suggestion to vaccinate everyone above 18 years old and decided to vaccinate those who ar…\n",
      "RT @mainhoonchacha: Manmohan Singh was a good PM. Under him India rapidly progressed  for 10 years.\n",
      "\n",
      "A #RahulRajya would prove equally frui…\n",
      "RT @guardiannews: India to go on England’s Covid travel ‘red list’ on Friday https://t.co/bkLdw8yFyQ\n",
      "RT @TeraAsli: INDIA'S MISINFORMATION AGENTS ALIVE WHO DESTROYED INDIA FROM WITHIN.\n",
      "\n",
      "THEY DO NOT DESERVE TO LIVE- \n",
      "\n",
      "1) #NarendraModi\n",
      "\n",
      "2)  #A…\n",
      "@amitabhk87 Are you sure that adequate supply is there.. India deserves better.\n",
      "@RahulGandhi is part time politician and full time fake news peddler \n",
      "His latest fake news is Govt stopped Insuranc… https://t.co/UKAmWKykHD\n",
      "RT @DidiKeBolo: India will remember. \n",
      "#ResignModi https://t.co/eJiv7w1L1x\n",
      "RT @RV_Deshpande: Saddened to hear that our beloved leader and former Prime Minister Dr Manmohan Singh ji has tested positive for COVID19.…\n",
      "RT @YamrajFromHell: BIG BREAKING: India allows vaccines for all above 18 beginning May 1 #VaccineForAll https://t.co/fIoxeR581i\n",
      "RT @TdpVenkata: Chandrababu Naidu is known for his tremendous work for implementing the use of modern Information Technology (IT) in Andhra…\n",
      "RT @BanglarGorboMB: No insurance for healthcare workers amid pandemic.\n",
      "Another sinister move by PM @narendramodi.\n",
      "\n",
      "India's warcry - #Resign…\n",
      "RT @MaryMillben: My prayers to you @PMOIndia @narendramodi as #IndiaFightsCorona. Your leadership will bring India to renewed health.\n",
      "\n",
      "God…\n",
      "Well explained!\n",
      "https://t.co/HWr43tS9Tj\n",
      "RT @subarnac: People should be told about the lack of evidence of effectiveness of convalescent plasma in #COVID19 outside of some very nic…\n",
      "RT @TdpVenkata: CBN started an amazing program called Manam-Vanam for planting trees and recently in recent ISFR 2017 rankings where India…\n",
      "RT @SkyNews: A child has been rescued after falling into the path of an oncoming train in India.\n",
      "\n",
      "Watch more videos from Sky News: https://…\n",
      "RT @stylistanu: Troll ministers are releasing statements as if they are totally unaware of the ground situation. \n",
      "\n",
      "@rsprasad &amp; @smritiirani…\n",
      "RT @PG_2_0: Trending At No.1 Position In India 🔥💪\n",
      "\n",
      "#3YearsForBharatAneNenu\n",
      "#SarkaruVaariPaata @urstrulyMahesh\n",
      "RT @rohanrgupta: Saddened to learn about former Prime Minister of India Dr Manmohan Singh ji being tested positive for COVID-19. My prayers…\n",
      "ME AND INDIA GONE BE LIT 🔥 COACH TIT.\n",
      "RT @Billbrowder: EU foreign ministers to meet on Navalny health as tensions with Russia soar. It’s time for the EU to apply its Magnitsky A…\n",
      "RT @diyankilaco: if this does well in india, we might just be one step closer to getting albums here in local stores.\n",
      "\n",
      "just maybe, because…\n",
      "RT @narendramodi: Discussed the prevailing COVID-19 situation with leading doctors and medical experts. India is proud of the efforts of ou…\n",
      "RT @itz_deebanvj: For India 👍 https://t.co/U6lCc61jkW\n",
      "RT @h3h3productions: So many people are still dying of Covid in India, Brazil, everywhere, and people in the USA are saying no to the vacci…\n",
      "RT @DenofRohit: Rohit sharma For India\n",
      "Rohit Sharma for Mi\n",
      "\n",
      "P. S - Not everyone is different😌 https://t.co/4KsaHkXjOs\n",
      "@JimSchn38427207 None of these Crypto Trulips are an actual Currency recognized by any Nation like the US Dollar is… https://t.co/OpeWQUO0HJ\n",
      "RT @AnisPFI: Among @BJP4India Cabinet Ministers there is more shortage of Brain and Sense than of #Oxygen..\n",
      "\n",
      "Everyone in the cabinet is com…\n",
      "RT @TimesNow: Centre takes a giant leap. All above 18 to get COVID vaccine from May 1. \n",
      "All-out assault on Corona - firewalling India’s pri…\n",
      "RT @RahulGandhi: Dear Dr. Manmohan Singh Ji, \n",
      "\n",
      "Wishing you a speedy recovery. \n",
      "India needs your guidance and advice in this difficult time.\n",
      "RT @reetiks: The missing fine print. #vaccine https://t.co/4uIM6BZgWk\n",
      "RT @NehaSharma961: M -Master \n",
      "O - Of \n",
      "D - Destroying\n",
      " I -  India \n",
      "\n",
      "#ResignModi https://t.co/6mmracUSa8\n",
      "RT @theskindoctor13: Cricket world cup final, 2023 : India needs 6 off 1 ball to win the cup.\n",
      "\n",
      "Uddhav : Idhar chakka\n",
      "maara to apan cup jeet…\n",
      "RT @NarundarM: Govt denied Rahul Gandhi's useless suggestion to vaccinate everyone above 18 years old and decided to vaccinate those who ar…\n",
      "RT @sudhirchaudhary: #BREAKINGNEWS : COVID-19 vaccine for all above 18 years from 1st May in India.\n",
      "RT @BBCPolitics: India will be added to the UK's travel-ban red list of countries from Friday, says Health Secretary Matt Hancock\n",
      "\n",
      "\"We must…\n",
      "RT @virsanghvi: I tweeted this yesterday. The government’s responses have become so predictable.\n",
      "It took just over 24 hours from the time I…\n",
      "RT @kcvenugopalmp: I pray for a full &amp; speedy recovery for Former PM, Dr. Manmohan Singh. \n",
      "\n",
      "India is need of his sage wisdom and guidance m…\n",
      "When u have who on ur side.. u call shots..\n",
      "RT @DrEricDing: 7) India 🇮🇳 right now... two consecutive weeks of 60% week by week increase in a row. That is quite exponential, and much f…\n",
      "RT @MrSamratX: Reminder: The \"double mutant\" Covid that's wreaking havoc in this second wave was detected in India last year in October. It…\n",
      "Let's pray 🙏🙏🙏\n",
      "\n",
      "India should overcome the covid situation soon🙏\n",
      "\n",
      "Help Like Sushant\n",
      "\n",
      "@2511_swati @vj_soni… https://t.co/ehPaXZikBc\n",
      "RT @narendramodi: Discussed the prevailing COVID-19 situation with leading doctors and medical experts. India is proud of the efforts of ou…\n",
      "RT @bhatia_niraj23: #RahulRajya In India will be Rahul-KAAL for RSS BJP, which has started already..\n",
      "\n",
      "Sabka Hisab Hoga ..\n",
      "RT @prempanicker: India's Covid response in 3 simple steps:\n",
      "\n",
      "1. Rahul Gandhi writes letter urging some course of action\n",
      "\n",
      "2. Govt ministers…\n",
      "RT @itz_deebanvj: For India 👍 https://t.co/U6lCc61jkW\n",
      "RT @rishibagree: Finance ministry approves ₹3000 cr credit for 'Serum Institute of India' and ₹1500 cr for 'Bharat Biotech' to scale up vac…\n",
      "RT @COVIDNewsByMIB: #IndiaFightsCorona\n",
      "\n",
      "Government of India announces a Liberalised and Accelerated Phase 3 Strategy of #COVID19Vaccination…\n",
      "RT @toryboypierce: Absolutely right for @BorisJohnson to cancel next week's trip to India as Delhi goes into #coivd lockdown. he should now…\n",
      "CBN@ncbn developed #vizag https://t.co/MVDDxbB8oM is one of the cleanest cities in #India. #HBDTeluguPrideCBN  -  A… https://t.co/1jk8dBjzYk\n",
      "RT @MSNBC: India faces Covid-19 crisis as second wave sends infections spiraling.\n",
      "\n",
      "Hospitals across the country are reporting severe oxygen…\n",
      "Good god\n",
      "RT @thewire_in: Former prime minister Manmohan Singh tested positive for COVID-19 and was admitted to All India Institute of Medical Scienc…\n",
      "Covid-19: India added to Britain’s travel ‘red list’ after surge in cases, says UK health minister\n",
      "Earlier on Monda… https://t.co/YPgFRdokFH\n",
      "RT @Pun_Starr: #HarshVardhanShouldResign is trending at no. 30 in India. Can we take it to top 10? https://t.co/0EUygITJiM\n",
      "@JM_Sparkle You are form Costa Rica or India?\n",
      "RT @Mandoline_Blue: Oh. So India has been added to Red List BUT people can still stroll in with no quarantine til 4am Friday. \n",
      "\n",
      "There will…\n",
      "@KomalNahta @adidas @RanveerOfficial Gpay / Ppay - 8779893273\n",
      "Your 10 rs is extremely valuable for me.. Father is o… https://t.co/Mmj4DlJCGO\n",
      "RT @bhatia_niraj23: #RahulRajya In India will be Rahul-KAAL for RSS BJP, which has started already..\n",
      "\n",
      "Sabka Hisab Hoga ..\n",
      "RT @anvith_kateel: I would like to congratulate the honorable useless education minister @drashwathcn Sir .\n",
      "Your SOP 's are Followed in suc…\n",
      "Just posted a photo @ Fatehpur, Uttar Pradesh, India https://t.co/Cg0yZww5YT\n",
      "RT @Preetam_M_Rao: Calling it India Variant, UK Variant, Brazil Variant &amp; SA Variant is acceptable but, refering to it as Chinese Virus is…\n",
      "@SwarajyaMag Yaar , inko Bus dadagiri karna aata hai. \n",
      "Socho ye Dusre State k logo k sath Aisa karte hai , agar Dus… https://t.co/pFk51zjSJd\n",
      "RT @ramakumarr: A quick thread on today's announcement of the Government of India (GoI) to open up Covid vaccination to those above 18 year…\n",
      "RT @fascinatorfun: I want to talk about big holes in our border controls in more detail in the light of these instances  from other countri…\n",
      "RT @Hereprak: India needs you Sir. Get well soon\n",
      "Dr. Manmohan singh. https://t.co/W2CwpgSgmF\n",
      "At last after 275k+ cases India added to red list while Pakistan was added with merely 4k+ cases\n",
      "RT @btsbengalarmys: Dear @mcdonaldsindia , \n",
      "We are absolutely thrilled to notice INDIA mentioned in BTS MEAL that is coming soon in May. Bu…\n",
      "RT @narendramodi: Discussed the prevailing COVID-19 situation with leading doctors and medical experts. India is proud of the efforts of ou…\n",
      "RT @TdpVenkata: Andhra Pradesh is the first state in India to start Talli Bidda Express, A special Ambulance service for pregnant women #HB…\n",
      "RT @likhiteshNBK_: Known as father of e-Governance, Naidu was the first chief minister in India to use information technology as effective…\n",
      "RT @almostinfamous: Hi if you see this and are not in India and have been vaccinated, how much did you pay for your jab(s)?\n",
      "RT @sritara: 3. This will significantly depress vaccine adoption, especially among the high-risk groups. This also worsens India's vaccine…\n",
      "RT @Maahi4SSR: Let's pray 🙏🙏🙏\n",
      "\n",
      "India should overcome the covid situation soon🙏\n",
      "\n",
      "Help Like Sushant\n",
      "\n",
      "@Self_Mirroring @Nidhi4SSR_ @mr_loneWolf…\n",
      "RT @RahulGandhi: Dear Dr. Manmohan Singh Ji, \n",
      "\n",
      "Wishing you a speedy recovery. \n",
      "India needs your guidance and advice in this difficult time.\n",
      "RT @rohanrgupta: Saddened to learn about former Prime Minister of India Dr Manmohan Singh ji being tested positive for COVID-19. My prayers…\n",
      "RT @sn12275: When #COVID19 cases were rising in India PM was busy in #BangalElection2021 #ModiMadeDisaster #ModiFailsIndia #ModiResign http…\n",
      "RT @DidiKeBolo: India will remember. \n",
      "#ResignModi https://t.co/eJiv7w1L1x\n",
      "So glad to have learnt from @deletedalit ! Wonderful work!\n",
      "RT @OpIndia_com: Everyone above the age of 18 eligible for COVID-19 vaccine from 1st May: Government of India https://t.co/opmdK0o4L7\n",
      "RT @Haggis_UK: Yvette Cooper - Hong Kong identified 47 covid cases on a single flight from Delhi, &amp; we have 16 more direct flights &amp; many m…\n",
      "RT @Dayanidhi_Maran: Wishing our beloved former Prime Minister Dr.Manmohan Singh a speedy recovery and best wishes for his good health. Ind…\n",
      "RT @AatishTaseer: My 91-year-old Nani has just tested positive for COVID in Delhi. I have never been angrier in all my life. COVID in 2020…\n",
      "@RahulGandhi Full form of GOI is Government of India not Gadha of India!!🤓🤓\n",
      "RT @SauravS09684933: Mexico - 1300 cases\n",
      "\n",
      "Exam cancelled\n",
      "\n",
      "Saudi arabia :- 695 cases\n",
      "\n",
      "Exam cancelled\n",
      "\n",
      "Kuwait :- 1357 cases\n",
      "\n",
      "Exam cancelled…\n",
      "RT @saraf_pankaj: The person who has changed the economy of India, from one of the worst economic situation to world's fastest growing econ…\n",
      "Chandrababu Naidu is the most specialist CM in India. No comparison with him. #HBDTeluguPrideCBN\n",
      "@MithyaNand Guten Tag, the unroll you asked for: A quick thread on today's announcement of the Government of India…… https://t.co/vO34LB4g2d\n",
      "RT @IndiaHistorypic: 1898 Painting by Velosco Salgado Depicting Vasco da Gama's Arrival In India In 1498 In The Court of Zamorin of Calicut…\n",
      "RT @theskindoctor13: Cricket world cup final, 2023 : India needs 6 off 1 ball to win the cup.\n",
      "\n",
      "Uddhav : Idhar chakka\n",
      "maara to apan cup jeet…\n",
      "RT @swati_gs: Because no publication is covering rallies and hate speeches by fanatics in India over blasphemy, who are even declaring that…\n",
      "RT @theskindoctor13: Cricket world cup final, 2023 : India needs 6 off 1 ball to win the cup.\n",
      "\n",
      "Uddhav : Idhar chakka\n",
      "maara to apan cup jeet…\n",
      "India's gold imports increase by 23% to $34.6 billion in 2020-21 https://t.co/nBeltVqpM1\n",
      "Under RakeshAsthana director @BSF_India #NCB #India has done a great #humanitarian work. They have gotten an innoce… https://t.co/JDu437QkCG\n",
      "RT @SkyNewsBreak: Health secretary Matt Hancock has told MPs India will be added to the UK's coronavirus travel \"red list\" from 4am on Frid…\n",
      "RT @BBCWorld: How India failed to prevent a deadly Covid second wave https://t.co/P9FGQ3uX88\n",
      "RT @globalfirstnews: Coronavirus Vaccine: Some women are experiencing this unusual side-effect after getting COVID-19 shot - Times of India…\n",
      "RT @Reuters: India's Modi scorned over reckless rallies, religious gathering amid virus mayhem https://t.co/O7Y5ZjttMt https://t.co/q8PDUiu…\n",
      "RT @RahulGandhi: Chinese occupation of Gogra-Hot Springs &amp; Depsang plains is a direct threat to India’s strategic interests including the D…\n",
      "what kinda BS headline is this?\n",
      "Building Energy Simulation Software Market - Global &amp; India Industry Analysis, Size, Share, Growth, Trends, and For… https://t.co/3E4qDH6x08\n",
      "RT @theskindoctor13: Cricket world cup final, 2023 : India needs 6 off 1 ball to win the cup.\n",
      "\n",
      "Uddhav : Idhar chakka\n",
      "maara to apan cup jeet…\n",
      "RT @TarriPoha: Ghar se nikalte hi : Vaccine is not safe. Why trust India made vaccine🤨\n",
      "\n",
      "Kuch der chalte hi : Look...!! Mudi listened to my…\n",
      "RT @DrAsh_Mahendra: Real Problem with students 2020-21\n",
      "\" Online classes last year were exhausting not as effective as classroom education,p…\n",
      "RT @alok_bhatt: India is the ONLY country in the world to open vaccination for everyone above 18. And knowing PM @narendramodi , one can be…\n",
      "RT @ramakumarr: A quick thread on today's announcement of the Government of India (GoI) to open up Covid vaccination to those above 18 year…\n",
      "RT @derekobrienmp: British PM : I have just cancelled my trip to India\n",
      "\n",
      "Indian PM : Cool. I am campaigning in Bengal🤪\n",
      "\n",
      "#COVID19 #MaskOn\n",
      "@Satirical_Dhruv India was mature enough until 2014 happened.\n",
      "RT @KanchanGupta: Just to put it in perspective, #India kept operating Air India flights to UK when Britain was being savaged by the highly…\n",
      "RT @DrEricDing: The new “double mutation” variant from India 🇮🇳 #B1617 is surging fast in UK—5x increase in % of #COVID19 cases in just 2 w…\n",
      "RT @RahulGandhi: Dear Dr. Manmohan Singh Ji, \n",
      "\n",
      "Wishing you a speedy recovery. \n",
      "India needs your guidance and advice in this difficult time.\n",
      "RT @timesofindia: 8-lane expressway expandable to 12 lanes. Cutting across 5 states. Delhi to Mumbai in just 12 hours. \n",
      "\n",
      "Read how India's l…\n",
      "RT @EconomicTimes: India added to “red list” of countries from which most travel to UK is banned amid concerns about coronavirus variant (B…\n",
      "RT @NarundarM: Govt denied Rahul Gandhi's useless suggestion to vaccinate everyone above 18 years old and decided to vaccinate those who ar…\n",
      "RT @INCIndia: We applaud the Modi govt for setting its ego aside and accepting two more suggestions by Shri @RahulGandhi and the Congress p…\n",
      "RT @TdpVenkata: CBN@ncbn developed #vizag https://t.co/gbxVsWgg2h is one of the cleanest cities in #India. #HBDTeluguPrideCBN\n",
      "RT @theskindoctor13: Cricket world cup final, 2023 : India needs 6 off 1 ball to win the cup.\n",
      "\n",
      "Uddhav : Idhar chakka\n",
      "maara to apan cup jeet…\n",
      "What has Modi govt done?\n",
      "RT @RahulGandhi: Dear Dr. Manmohan Singh Ji, \n",
      "\n",
      "Wishing you a speedy recovery. \n",
      "India needs your guidance and advice in this difficult time.\n",
      "ChandraBabu Naidu proposed Vizag- Chennai Industrial Corridor (VCIC). It was the India’s first coastal corridor.  #HBDTeluguPrideCBN\n",
      "RT @RahulGandhi: Dear Dr. Manmohan Singh Ji, \n",
      "\n",
      "Wishing you a speedy recovery. \n",
      "India needs your guidance and advice in this difficult time.\n",
      "RT @DidiKeBolo: India will remember. \n",
      "#ResignModi https://t.co/eJiv7w1L1x\n",
      "RT @RahulGandhi: Dear Dr. Manmohan Singh Ji, \n",
      "\n",
      "Wishing you a speedy recovery. \n",
      "India needs your guidance and advice in this difficult time.\n",
      "RT @GauravPandhi: India is facing acute shortage of Oxygen cylinders because of lack of vision. Since last year, PM Modi is working on his…\n",
      "RT @vaishali_1611: A really helpful Google doc with information about hospital beds, remdesivir, oxygen, plasma. This is all India and upda…\n",
      "Hong Kong halts India, Pakistan, the Philippines flights https://t.co/n91fPZjtm9\n",
      "RT @himabista: My heart goes to friends and their families, known and unknown in #India who is fighting #COVIDSecondWave ❤️sending you #lov…\n",
      "RT @Maahi4SSR: Let's pray 🙏🙏🙏\n",
      "\n",
      "India should overcome the covid situation soon🙏\n",
      "\n",
      "Help Like Sushant\n",
      "\n",
      "@Self_Mirroring @Nidhi4SSR_ @mr_loneWolf…\n",
      "RT @swati_gs: Because no publication is covering rallies and hate speeches by fanatics in India over blasphemy, who are even declaring that…\n",
      "RT @prasana_kumar: CBN started an amazing program called Manam-Vanam for planting trees and recently in recent ISFR 2017 rankings where Ind…\n",
      "RT @KafuiDey: Can you help Priscilla?\n",
      "\n",
      "She's being managed for End Stage Kidney Failure from Chronic Glomerulonephritis and needs an urgent…\n",
      "RT @rssurjewala: The entire nation wishes you a speedy recovery Dr. Manmohan Singh ji.\n",
      "\n",
      "India needs the sagacious vision, self imposed rest…\n",
      "RT @PuneetSingh84: @AwanishSharan Shameless citizen of India\n",
      "RT @BhavyaDhoni: FOR INDIA 🙏🏻 https://t.co/vyCAPBjKKM\n",
      "#TeamRPUafo #BreakingNews #trabn: India added to “red list” of countries from which most travel to UK is banned ami… https://t.co/h79jryWA6d\n",
      "RT @gypsy_nilima: @ARanganathan72 @PMOIndia @DrSJaishankar  \n",
      "On March 5, 2021 Adaar Poonawala raised  concerns about materials shortage\n",
      "\n",
      "On…\n",
      "RT @Fact: About 70% of the world’s spices come from India.\n",
      "RT @BhavyaDhoni: FOR INDIA 🙏🏻 https://t.co/vyCAPBjKKM\n",
      "RT @ramakumarr: A quick thread on today's announcement of the Government of India (GoI) to open up Covid vaccination to those above 18 year…\n",
      "RT @INCIndia: We applaud the Modi govt for setting its ego aside and accepting two more suggestions by Shri @RahulGandhi and the Congress p…\n",
      "RT @meenakandasamy: What starts in Tamil Nadu, starts trending in India. If this PM continues, the nation will be plunged into a disaster b…\n",
      "RT @dpradhanbjp: Our oil, gas &amp; steel companies have continuously risen up to the occasion in strengthening India’s fight against the #Covi…\n",
      "I trust my PM. India with @narendramodi ji ❤️\n",
      "\n",
      "#Nation_With_Modi\n",
      "RT @SkyNews: A child has been rescued after falling into the path of an oncoming train in India.\n",
      "\n",
      "Watch more videos from Sky News: https://…\n",
      "RT @theskindoctor13: Cricket world cup final, 2023 : India needs 6 off 1 ball to win the cup.\n",
      "\n",
      "Uddhav : Idhar chakka\n",
      "maara to apan cup jeet…\n",
      "RT @Iamkhan45944700: Shame on India \n",
      "#KashmirBleeds \n",
      "#freeshabirshah\n",
      "RT @DrAsh_Mahendra: Real Problem with students 2020-21\n",
      "\" Online classes last year were exhausting not as effective as classroom education,p…\n",
      "@CTVNews Meanwhile Trudeau and hus band of dysfunctional imbeciles are easing travel restrictions from covid infested Brazil and India.\n",
      "RT @RahulGandhi: Dear Dr. Manmohan Singh Ji, \n",
      "\n",
      "Wishing you a speedy recovery. \n",
      "India needs your guidance and advice in this difficult time.\n",
      "Gravitas LIVE! With Palki Sharma Upadhyay | The second wave of COVID-19 https://t.co/QCvbmZBOka via @YouTube #India… https://t.co/hFagqKE6Jb\n",
      "RT @Omkar_Raii: .@STPIGuwahati has played a catalytic role in boosting IT/ITeS exports from North Eastern region of India. The export growt…\n",
      "RT @rohanrgupta: Saddened to learn about former Prime Minister of India Dr Manmohan Singh ji being tested positive for COVID-19. My prayers…\n",
      "India added to “red list” of countries from which most travel to UK is banned amid concerns about coronavirus varia… https://t.co/DycjggL4zx\n",
      "RT @narendramodi: Discussed the prevailing COVID-19 situation with leading doctors and medical experts. India is proud of the efforts of ou…\n",
      "RT @SudipaBhatt: This is also our India\n",
      "#Meghalaya a painter's muse &amp; a poet's dream....\n",
      "#IncredibleIndia \n",
      "#India https://t.co/FJQ2RUaW8X\n",
      "@bunbaekhyunie Yeah I saw this v interesting thread about it \n",
      "\n",
      "https://t.co/PPci5XbIKS\n",
      "RT @theskindoctor13: Cricket world cup final, 2023 : India needs 6 off 1 ball to win the cup.\n",
      "\n",
      "Uddhav : Idhar chakka\n",
      "maara to apan cup jeet…\n",
      "RT @byadavbjp: Very timely and important decision taken by PM Shri @narendramodi to allow vaccination of all adults in India. From May 1, e…\n",
      "RT @sridhar1085: India needs you now more than ever!!! \n",
      "\n",
      "Wishing you a speedy recovery Dr. Manmohan Singh!!! 🙏\n",
      "\n",
      "#StayStrongManmohanJi\n",
      "Stop spreading these types of hatred. He did what you and your's rallies representatives can't do. \n",
      "This time he is… https://t.co/q5lH8A2vxO\n",
      "Pride of India by @ncbn \n",
      "\n",
      "#HBDTeluguPrideCBN \n",
      "#HBDPeoplesLeaderCBN \n",
      "#HBDVisionaryCBN https://t.co/G5QqAYemAz\n",
      "RT @DilliDurAst: BJP doesn’t care about people dying because that’s one voter less to persuade. They see India as a vast network of polling…\n",
      "RT @prasana_kumar: CBN is known for his tremendous work for implementing the use of modern Information Technology (IT) in Andhra Pradesh. N…\n",
      "RT @sarvmanglamcom: Situation is like fizzy fuzzy frizzy \n",
      "\n",
      "at funeral in UP. \n",
      "\n",
      "Horns are 🔐 🔐🔒🗝🔏🔑 over \n",
      "#lockdown2021\n",
      "\n",
      "#ModiMadeDisaster\n",
      "#Yo…\n",
      "RT @ANI: Govt of India announces liberalised &amp; accelerated Phase 3 strategy of COVID-19 vaccination from May 1; everyone above the age of 1…\n",
      "RT @madhukishwar: 3 Dharampal ji ''s scholarly book on state of education in pre British India using British accounts shows India was far a…\n",
      "RT @GeneralBakshi: We Are at 54,000 signatures need to get to 75000 amd  on to a laakh Installation Of Netaji's Statue Near India Gate/ War…\n",
      "RT @TdpVenkata: CBN won numerous awards including 'IT Indian of the Millenium' by India Today #HBDTeluguPrideCBN\n",
      "RT @theskindoctor13: Cricket world cup final, 2023 : India needs 6 off 1 ball to win the cup.\n",
      "\n",
      "Uddhav : Idhar chakka\n",
      "maara to apan cup jeet…\n",
      "States Can Buy Covid Vaccines Directly From Manufacturers: Centre - NDTV https://t.co/8UPRg9INmC\n",
      "RT @ShivxAK: India is a country of fools....look at the quotes &amp; replies of people who are believing this fake news....this man is doing se…\n",
      "RT @RahulGandhi: Dear Dr. Manmohan Singh Ji, \n",
      "\n",
      "Wishing you a speedy recovery. \n",
      "India needs your guidance and advice in this difficult time.\n",
      "RT @yusufpore: Upon his return to India from #Turkey Dr. Ansari continued his medical practice from Delhi while remaining politically activ…\n",
      "RT @theskindoctor13: Cricket world cup final, 2023 : India needs 6 off 1 ball to win the cup.\n",
      "\n",
      "Uddhav : Idhar chakka\n",
      "maara to apan cup jeet…\n",
      "RT @PippaCrerar: BREAKING: Matt Hancock confirms that India will be added to the travel 'red list' - a precautionary move as there are now…\n",
      "CBN @ncbn has RTG center where we can track rainfall, street lights, groundwater levels and many more. It uses IOT… https://t.co/7INZYLGQFJ\n",
      "RT @shytigress: With Every Wave of Covid and its mutations there is only one reaction from every home and family that has lost a Loved one…\n",
      "RT @Preetam_M_Rao: Calling it India Variant, UK Variant, Brazil Variant &amp; SA Variant is acceptable but, refering to it as Chinese Virus is…\n",
      "RT @narendramodi: Discussed the prevailing COVID-19 situation with leading doctors and medical experts. India is proud of the efforts of ou…\n",
      "RT @DilliDurAst: A worker at an Ahmedabad crematorium: “We have been asked to not write Covid as the cause of death … instead write ‘death…\n",
      "How do you keep the enemy closer by giving contracts which could go to L &amp; T or PSUs?\n",
      "World's largest democracy whi… https://t.co/hixjy9LoR9\n",
      "RT @Preetam_M_Rao: Calling it India Variant, UK Variant, Brazil Variant &amp; SA Variant is acceptable but, refering to it as Chinese Virus is…\n",
      "RT @BenKentish: It’s too dangerous for Brits to fly to Spain, but “okay for now” for thousands of people to arrive in the UK from India, wh…\n",
      "RT @terence_fdes: India trends with one voice\n",
      "#ResignModi \n",
      "265K Tweets 👊\n",
      "It's Over 🧟‍♂️🧟‍♀️\n",
      "#IsBaarAntimSarkar \n",
      "#COVIDSecondWaveInIndia htt…\n",
      "RT @webtelworld: This One THREAD Includes All #COVID19 Important Information &amp; RESOURCES Of Various Cities In India !!\n",
      "\n",
      "Please Go Through I…\n",
      "@WowAafiya @ShreeKrishnaRK @Patel07Paresh @onkargss11 @Parvesh65632017 @SavitaSikarwar @ManojJa37766871… https://t.co/bxCuaKG5Fr\n",
      "RT @TIME: India's capital to go into lockdown as coronavirus cases top 15 million https://t.co/9ThA79bx2v\n",
      "RT @SpecialCouncil: SAC-M calls on the Government of India to ensure that #Rohingya and all #refugees from #Myanmar are given protection, r…\n",
      "RT @charlesadler: \"Of the 106 COVID-infected flights that landed in Canada since March 4, 30 originated from Delhi,  9 landing at YVR- Vanc…\n",
      "RT @RahulGandhi: Dear Dr. Manmohan Singh Ji, \n",
      "\n",
      "Wishing you a speedy recovery. \n",
      "India needs your guidance and advice in this difficult time.\n",
      "Firstly, we are desperately short of vaccines. Secondly, most states are on a shoestring budget since GOI has starv… https://t.co/mpkYKueBVW\n",
      "RT @kaushkrahul: Manmohan Singh's contribution to India's health infrastructure.\n",
      "https://t.co/RfIbFFYvLh\n",
      "As part of India@75 #AmritMahotsav celebrations, Embassy organised Quiz Competition on ‘Monuments of India’ &amp; award… https://t.co/pTrmQsWXwm\n",
      "RT @RahulGandhi: Dear Dr. Manmohan Singh Ji, \n",
      "\n",
      "Wishing you a speedy recovery. \n",
      "India needs your guidance and advice in this difficult time.\n",
      "RT @TdpVenkata: CBN was voted IT 'Indian of the Millennium' in a poll by India Today and 20:20 Media.  #HBDTeluguPrideCBN\n",
      "RT @Dilsedesh: India has been added to the UK's\n",
      "red list on Travel Ban to India .\n",
      "RT @SalmanSoz: Dear Dr. Harsh Vardhan:\n",
      "\n",
      "When Dr. Manmohan Singh seeks a response from you, he will write to you. He wrote to PM Modi. It is…\n",
      "RT @RahulGandhi: Dear Dr. Manmohan Singh Ji, \n",
      "\n",
      "Wishing you a speedy recovery. \n",
      "India needs your guidance and advice in this difficult time.\n",
      "Everybody tries 2prove that they are Indian by pretending to be very traditional but there has always been the non… https://t.co/AZsb8t61xp\n",
      "RT @NarundarM: Govt denied Rahul Gandhi's useless suggestion to vaccinate everyone above 18 years old and decided to vaccinate those who ar…\n",
      "RT @republic: Telangana CM KCR tests positive for COVID with mild symptoms; isolates self in farmhouse https://t.co/Mbo7Wr6vIO\n",
      "@AshwiniMS_TNIE Expecting people to follow social distancing in India is stupidity. It is highly unpractical; peopl… https://t.co/I6lVGMOHYO\n",
      "RT @narendramodi: Discussed the prevailing COVID-19 situation with leading doctors and medical experts. India is proud of the efforts of ou…\n",
      "RT @rohanrgupta: Saddened to learn about former Prime Minister of India Dr Manmohan Singh ji being tested positive for COVID-19. My prayers…\n",
      "RT @irsdcinfo: I thank all the dignitaries, members, participants, &amp; guests for their valuable insights. The outcome of this robust discuss…\n",
      "You know what I am happy about ... INDIA OPENED VACCINATION CLINICS FOR EVERYONE 18+\n",
      "\n",
      "Ontario,Canada? Is a joke right now\n",
      "RT @BangtanINDIA: Make your own tweets and tag Mickey D to make it available pan India.\n",
      "\n",
      "#BTS @BTS_twt #방탄소년단\n",
      "RT @Preetam_M_Rao: Calling it India Variant, UK Variant, Brazil Variant &amp; SA Variant is acceptable but, refering to it as Chinese Virus is…\n",
      "(As of midnight, all flights from the Philippines, India and Pakistan are also banned to land in HK for 14 days, an… https://t.co/4Mc66CsmYs\n",
      "RT @FellowcitizenES: @RahulGandhi #ManmohanSingh &amp; #AIIMS, both are @INCIndia’s Treasures and India’s Breathing Mechanisms. Get Well Soon a…\n",
      "RT @btsbengalarmys: Dear @mcdonaldsindia , \n",
      "We are absolutely thrilled to notice INDIA mentioned in BTS MEAL that is coming soon in May. Bu…\n",
      "RT @PITCHBOSS: I challenge no one can match in #India @ncbn garu is the best .Adv. Happy Birthday sir💐\n",
      "#HBDTeluguPrideCBN\n",
      "@yezaawa @loharukayash https://t.co/DG32LgeLjY\n",
      "\n",
      "Ye link me search karo.\n",
      "RT @ThatTimWalker: The lag between when Johnson does anything - like cancelling his India trip - and the point when everyone else recognise…\n",
      "RT @narendramodi: Discussed the prevailing COVID-19 situation with leading doctors and medical experts. India is proud of the efforts of ou…\n",
      "RT @IaSouthern: Nb Sub Deepak Punia (19 Raj Rif) who had already qualified for Tokyo Olympics 2021 today won #silver medal in 86 kgs Free S…\n",
      "RT @ramakumarr: A quick thread on today's announcement of the Government of India (GoI) to open up Covid vaccination to those above 18 year…\n",
      "RT @AnupamPKher: Thrilled to be a part of the inaugural @bafta Breakthrough India Jury! Can’t wait for you to see the incredible talent we…\n",
      "RT @Mandoline_Blue: India is finally on the Red List.  \n",
      "\n",
      "In other news, Johnson puts his condom on AFTER he's had sex....\n",
      "RT @BBCWorld: How India failed to prevent a deadly Covid second wave https://t.co/P9FGQ3uX88\n",
      "RT @Advsaifalam: Asalamualikum just had a call with DCP cyber Mumbai, they have asked YouTube India to remove the channel. \n",
      "Hope, this will…\n",
      "RT @RahulGandhi: Chinese occupation of Gogra-Hot Springs &amp; Depsang plains is a direct threat to India’s strategic interests including the D…\n",
      "RT @AunindyoC: Nationalise all vaccine companies for 6 months &amp; produce vaccines on a war-footing at zero profit. India's vaccine makers sh…\n",
      "@BryanPassifiume @brianlilley Citizens of India with money hop on a plane to \"free\" healthcare Canada. Trudeau let'… https://t.co/IIpRLrSI1w\n",
      "RT @charlesadler: \"Of the 106 COVID-infected flights that landed in Canada since March 4, 30 originated from Delhi,  9 landing at YVR- Vanc…\n",
      "RT @SkyNewsBreak: Health secretary Matt Hancock has told MPs India will be added to the UK's coronavirus travel \"red list\" from 4am on Frid…\n",
      "RT @derekobrienmp: British PM : I have just cancelled my trip to India\n",
      "\n",
      "Indian PM : Cool. I am campaigning in Bengal🤪\n",
      "\n",
      "#COVID19 #MaskOn\n",
      "RT @BhavyaDhoni: FOR INDIA 🙏🏻 https://t.co/vyCAPBjKKM\n",
      "RT @RahulGandhi: Dear Dr. Manmohan Singh Ji, \n",
      "\n",
      "Wishing you a speedy recovery. \n",
      "India needs your guidance and advice in this difficult time.\n",
      "RT @hardikparekh8: @VRtrendfollower https://t.co/85lceJZ1Cg  A great tool who ever made this it gets updated every 5 minutes. It contains i…\n",
      "RT @Ishuyad10819435: Yadav Trends\n",
      "@YadavTrends\n",
      "·\n",
      "4m\n",
      "#VeerAhirLorik\n",
      "\n",
      "#veerahirlorik\n",
      "A great warrior of india\n",
      "\n",
      "All of You my Dear Yadav Broth…\n",
      "RT @BDUTT: \"This is India's worst crisis that I have seen in my journalistic career &amp; the Ministers in the Modi government still don't get…\n",
      "RT @khotikarokmodi: Killing people all over the country, your hands have turned red with blood !! It is being published to the Citizens Of…\n",
      "@VTambde No these are liberandu folks. I have been to edison NJ and been to these Nri parties hosted by uncle aunti… https://t.co/KGZ9dJVZro\n",
      "RT @iihtishamm: India added to “red list” of countries from which most travel to UK is banned amid concerns about coronavirus variant.\n",
      "RT @pzfahad: From 1 May, everyone above the age of 18 eligible to get COVID-19 vaccine in India.\n",
      "@DIVYASOLGAMA @adidas @RanveerOfficial @yrf Gpay / Ppay - 8779893273\n",
      "Your 10 rs is extremely valuable for me.. Fath… https://t.co/K5zpNTYg91\n",
      "RT @OfficialArupRoy: Modi ji has failed to take immediate action for the pandemic situation, does he even deserve to be the PM of India?\n",
      "#R…\n",
      "RT @Taehyung_india_: [Trends🇮🇳] \n",
      "\n",
      "𝗢𝗿𝗲𝗼 𝗠𝗰𝗳𝗹𝘂𝗿𝗿𝘆 trending #20 India after #McDonalds x BTS announcement 😅\n",
      "\n",
      "#Taehyung #뷔 #V #BTSV @BTS_twt ht…\n",
      "RT @kashmir_watch: New Industrial Policy in #Jammu &amp; #Kashmir \n",
      "\n",
      " 🔶J&amp;K Moving towards a New Era of Development &amp; Prosperity. \n",
      "#GloryReturnsT…\n",
      "RT @Sassy_Hindu: If Congress were in power today, today’s announcement would have been: As of May 1st all minorities in India eligible for…\n",
      "RT @RahulGandhi: Dear Dr. Manmohan Singh Ji, \n",
      "\n",
      "Wishing you a speedy recovery. \n",
      "India needs your guidance and advice in this difficult time.\n",
      "RT @MuthukumarRaj16: @orbitskill @swati_gs And down south Krishnadevaraya of Vijayanagar made the Bijapur Sultan kiss his feet after the fa…\n",
      "RT @TeraAsli: https://t.co/1fY3V1NZxd\n",
      "\n",
      "CHECK OUT THE INDIA'S TRAITOR NO #1.\n",
      "\n",
      "#VADAKAYILPOLLS\n",
      "#VADAKAYIL\n",
      "#blogger\n",
      "The Free Nationals Feat. Anderson .Paak, Chronixx &amp; India Shawn: NPR Mus... https://t.co/gunsKBo4zY via @YouTube\n",
      "Who say India not help their citizen in other countries here is a great example of a couple\n",
      "Great Work NCB https://t.co/Dy4hUpjReG\n",
      "RT @burner_bits: Govt of India announces liberalised &amp; accelerated Phase 3 strategy of COVID-19 vaccination from May 1; everyone above the…\n",
      "RT @TdpVenkata: CBN @ncbn has RTG center where we can track rainfall, street lights, groundwater levels and many more. It uses IOT first st…\n",
      "RT @nslwin: SAC-M @SpecialCouncil calls on the Government of India to ensure that #Rohingya and all #refugees from #Myanmar are given prote…\n",
      "RT @ramakumarr: A quick thread on today's announcement of the Government of India (GoI) to open up Covid vaccination to those above 18 year…\n",
      "Attn: @JustinTrudeau - The variants didn't come into Canada, with magical gusts of wind from 🇬🇧🇿🇦🇧🇷-- They ALL came… https://t.co/vvt1fVJQzo\n",
      "RT @virsanghvi: I tweeted this yesterday. The government’s responses have become so predictable.\n",
      "It took just over 24 hours from the time I…\n",
      "RT @RahulGandhi: Dear Dr. Manmohan Singh Ji, \n",
      "\n",
      "Wishing you a speedy recovery. \n",
      "India needs your guidance and advice in this difficult time.\n",
      "@cowboylikeseven Retweeting from India\n",
      "RT @Dhonifan184: Many of them said that he did not dived when playing for India but dived for CSK,but the truth is he is not a diving playe…\n",
      "RT @TVMohandasPai: Typical arrogance by Winter Birds, people who have left india, to improve their economic standing and comment on us! The…\n",
      "RT @ShivaKap: MMS has no clue to economics or India. Darkest and the most undesirable history of India was under him IMO.\n",
      "RT @BangtanINDIA: Make your own tweets and tag Mickey D to make it available pan India.\n",
      "\n",
      "#BTS @BTS_twt #방탄소년단\n",
      "RT @BrightnessFalse: @zeneraalstuff india is one sed stery after the other na\n",
      "RT @EastCoastIndia: Because of this incompetent Uddhav Thackrey, the whole India is suffering!!\n",
      "Shame on this bloody Uddhav!\n",
      "RT @Haggis_UK: Yvette Cooper - Hong Kong identified 47 covid cases on a single flight from Delhi, &amp; we have 16 more direct flights &amp; many m…\n",
      "RT @sdineshaa: #Alert : Government of India announces a Liberalised and Accelerated Phase 3 Strategy of Covid-19 Vaccination from 1st May.…\n",
      "RT @TheWolfpackIN: French media: France govt pulled back 15 diplomats from it's embassy in Pakistan to mark increasing strategic alignment…\n",
      "RT @narendramodi: Discussed the prevailing COVID-19 situation with leading doctors and medical experts. India is proud of the efforts of ou…\n",
      "RT @jcm247: A bit of common sense, but late as usual!\n",
      "Fingers crossed we keep that variant out.\n",
      "India Added To UK's Covid Travel 'Red List'…\n",
      "RT @srivatsayb: Money to Vaccine Producers and 18+ to get Vaccinated\n",
      "\n",
      "2 more key suggestions of @RahulGandhi &amp; Congress Party accepted by t…\n",
      "RT @RadG_Dodo: PARI Education @PARInetwork draws connections, explaining interlinkages and breaks stereotypes in classrooms and curriculums…\n",
      "RT @manishjethwani_: Another day, more deaths...\n",
      "Another day, more sufferings...\n",
      "Another day, more COVID-19 cases...\n",
      "\n",
      "#ResignModi, India re…\n",
      "RT @BangtanINDIA: Dear @mcdonaldsindia can you please bring #BTS meal to all other parts of India? We all would really love and appreciate…\n",
      "Join the kill brigade\n",
      "RT @zeneraalstuff: would have been thrashed by passers-by. In urban India, young women get a wide rope, which they take undue advantage of…\n",
      "RT @swati_gs: Because no publication is covering rallies and hate speeches by fanatics in India over blasphemy, who are even declaring that…\n",
      "RT @M_A_Thakur: Any bets that #India will suddenly find itself on a #terror alert, either in India or on its borders, &amp; blame #Pakistan?\n",
      "\n",
      "A…\n",
      "RT @RahulGandhi: Dear Dr. Manmohan Singh Ji, \n",
      "\n",
      "Wishing you a speedy recovery. \n",
      "India needs your guidance and advice in this difficult time.\n",
      "RT @RahulGandhi: Dear Dr. Manmohan Singh Ji, \n",
      "\n",
      "Wishing you a speedy recovery. \n",
      "India needs your guidance and advice in this difficult time.\n",
      "RT @Andrew_Adonis: That’s a much higher proportion than in Britain, where still only 38% of the rail network is electrified\n",
      "RT @BJP4WMedinipur: Thank you @narendramodi ji, Thank you @PMOIndia...\n",
      "\n",
      "Under the dynamic leadership of Hnble. Modiji we will definitely ov…\n",
      "Watch @gurchrandhawa comment on India being added to the #COVID19 'red list' on @RTUKnews at 5pm.\n",
      "\n",
      "From Friday, mos… https://t.co/HB3dv9uRIH\n",
      "And it never got hyped by So called free Indian Media ... \n",
      "And no one dare come close to the rescue of the poor wom… https://t.co/VuSj3GHy1t\n",
      "RT @rupagulab: Say thank you to the Opposition parties who demanded this. Credit goes to them, not to the incompetent BJP.\n",
      "RT @MSNBC: India faces Covid-19 crisis as second wave sends infections spiraling.\n",
      "\n",
      "Hospitals across the country are reporting severe oxygen…\n",
      "RT @narendramodi: Discussed the prevailing COVID-19 situation with leading doctors and medical experts. India is proud of the efforts of ou…\n",
      "RT @KingKatriar: Govt of India announces new vaccination norms starting 1st May. More than a dozen politicians and political entities frm t…\n",
      "@RahulCipher @drharshvardhan @RahulGandhi @priyankagandhi @irobertvadra Honestly I personally feel Pfizer vaccine i… https://t.co/vedVfrCmGu\n",
      "RT @BDUTT: \"This is India's worst crisis that I have seen in my journalistic career &amp; the Ministers in the Modi government still don't get…\n",
      "RT @mariawirth1: if you haven't yet read my book \"Thank you India - a German woman's journey to the wisdom of yoga\", now is the best time t…\n",
      "RT @LyaHaru: Junta have struck a deal with Northeast rebels to attack the Refugee stragglers fleeing to India and force them to return thei…\n",
      "RT @dpradhanbjp: Our oil, gas &amp; steel companies have continuously risen up to the occasion in strengthening India’s fight against the #Covi…\n",
      "RT @manojkjhadu: 'Gujarat Model of Development'..which believes in and ensures 'Management of Deaths'....Hey Ram!!\n",
      "Honda 2Wheelers India celebrates 6th anniversary of its Traffic Training Park in Hyderabad .. all details -… https://t.co/HtsZxPpqVX\n",
      "RT @PriyabrataT: A society that values an uneducated fake chaiwala and trash a man who exhausted all degrees and yet chose to serve India f…\n",
      "RT @aditya__88: Who knows India might have won the 2019 wc had Msd dived that day the way he did tonight \n",
      "But he knows his priorities \n",
      "#CSK…\n",
      "@btsbengalarmys @mcdonaldsindia @BTS_twt 💯 PLEASE WE WANT IT!!!\n",
      "Dear @mcdonaldsindia please bring #BTS meal to all… https://t.co/uqU184wafX\n",
      "RT @narendramodi: Discussed the prevailing COVID-19 situation with leading doctors and medical experts. India is proud of the efforts of ou…\n",
      "RT @varungandhi80: Out of 7 bn vaccine doses, 4.2 bn have gone to high income countries. 16% of the world’s population is currently holding…\n",
      "RT @iofficialraj: For the good of the nation, for the victory of democracy and for the destruction of Hindutva fascism it’s imperative that…\n",
      "Best decision taken by the UK Prime Minister in connection with his visit to India.\n",
      "RT @narendramodi: Discussed the prevailing COVID-19 situation with leading doctors and medical experts. India is proud of the efforts of ou…\n",
      "RT @muglikar_: When Corona Virus had entered India last year, I had tweeted to Modi that we will need a vaccine.\n",
      "\n",
      "Not only Modi, but all sc…\n",
      "Worse, everyone is having to pay 25-30,000 for cremations.\n",
      "RT @yusufpore: Dr. Ansari was a lifelong member of the Congress Working Committee (CWC) from 1922 onwards. He was also General Secretary of…\n",
      "RT @RahulGandhi: Dear Dr. Manmohan Singh Ji, \n",
      "\n",
      "Wishing you a speedy recovery. \n",
      "India needs your guidance and advice in this difficult time.\n",
      "RT @narendramodi: Discussed the prevailing COVID-19 situation with leading doctors and medical experts. India is proud of the efforts of ou…\n",
      "The vaccines are nigh but..\n",
      "RT @ndtvfeed: \"Get Well Soon\" Messages Pour In For Ex-PM Hospitalised With Covid https://t.co/07bmfbKjHp https://t.co/phK9yxaPlN\n",
      "RT @theskindoctor13: Cricket world cup final, 2023 : India needs 6 off 1 ball to win the cup.\n",
      "\n",
      "Uddhav : Idhar chakka\n",
      "maara to apan cup jeet…\n",
      "RT @theskindoctor13: Cricket world cup final, 2023 : India needs 6 off 1 ball to win the cup.\n",
      "\n",
      "Uddhav : Idhar chakka\n",
      "maara to apan cup jeet…\n",
      "RT @ErayCr: Bollywood—a filthy world full of drugs, bullies, suicide-gangs, murderers, extortionists, money launderers, rapists, egos—funde…\n",
      "RT @RahulGandhi: Dear Dr. Manmohan Singh Ji, \n",
      "\n",
      "Wishing you a speedy recovery. \n",
      "India needs your guidance and advice in this difficult time.\n",
      "RT @ShoaibDaniyal: West Bengal – at last – has a positive effect on India's Covid response.\n",
      "\n",
      "Yesterday, Mamata wrote an extremely political…\n",
      "RT @alok_bhatt: India is the ONLY country in the world to open vaccination for everyone above 18. And knowing PM @narendramodi , one can be…\n",
      "RT @SrkianDas04: The lady, who is handicapped, came all the way to India to give SRK a copy of her book ‘The Game Of Destiny’. ❤\n",
      "\n",
      "This is O…\n",
      "RT @MoHFW_INDIA: #LargestVaccineDrive \n",
      "#NewVaccineStrategy\n",
      "\n",
      "Government of India today announced a Liberalised and Accelerated Phase 3 Strat…\n",
      "RT @rohanrgupta: Saddened to learn about former Prime Minister of India Dr Manmohan Singh ji being tested positive for COVID-19. My prayers…\n",
      "RT @SrkianDas04: The lady, who is handicapped, came all the way to India to give SRK a copy of her book ‘The Game Of Destiny’. ❤\n",
      "\n",
      "This is O…\n",
      "Thread\n",
      "RT @RanaAyyub: Has to be the most insensitive Prime Minister in the history of independent India\n",
      "RT @muglikar_: When Corona Virus had entered India last year, I had tweeted to Modi that we will need a vaccine.\n",
      "\n",
      "Not only Modi, but all sc…\n",
      "India's worst Health Minister..... #HarshVardhanShouldResign\n",
      "RT @theskindoctor13: Cricket world cup final, 2023 : India needs 6 off 1 ball to win the cup.\n",
      "\n",
      "Uddhav : Idhar chakka\n",
      "maara to apan cup jeet…\n",
      "RT @Vidyaraj51: Manmohan Singh was a good PM. Under him India rapidly progressed  for 10 years.\n",
      "\n",
      "A #RahulRajya would prove equally fruitful…\n",
      "RT @docwhoshoots: What we're seeing happening in mainland India, will soon hit Kashmir. We need a lockdown, now and an immediate stop to al…\n",
      "RT @jsaideepak: Here is the link to my interview today to The Financial Express on the unconstitutionality of the Places of Worship Act 199…\n",
      "RT @JujuliaGrace: India should be on the red travel list. \n",
      "\n",
      "RT if you agree 👍\n",
      "RT @rishibagree: Finance ministry approves ₹3000 cr credit for 'Serum Institute of India' and ₹1500 cr for 'Bharat Biotech' to scale up vac…\n",
      "RT @DrEricDing: 7) India 🇮🇳 right now... two consecutive weeks of 60% week by week increase in a row. That is quite exponential, and much f…\n",
      "RT @narendramodi: Discussed the prevailing COVID-19 situation with leading doctors and medical experts. India is proud of the efforts of ou…\n",
      "@MamataOfficial Mamata Banerjee always had a soft corner for #ManmohanSingh and had even wanted to make him the Pre… https://t.co/a1s4Gvm9PA\n",
      "RT @kabeerbackup: I Never Saw CRAZE n Madness for any ITV star like this🔥\n",
      "\n",
      "Without his clear IMAGE..ppl are going crazy for Him🔥\n",
      "\n",
      "#Sidharth…\n",
      "RT @ANI: Govt of India announces liberalised &amp; accelerated Phase 3 strategy of COVID-19 vaccination from May 1; everyone above the age of 1…\n",
      "‘Aphrodisiac’ of the ocean: how sea cucumbers became gold for organised crime https://t.co/PcV8RLolNP\n",
      "RT @selkween__: @cpcharts @charlieputh @selenagomez The fact that this song hasn't left the Indian Spotify yet!! I can scream one line and…\n",
      "RT @editorji: #Acer has launched the #PredatorHelios300 gaming laptop in India with 10th-gen Intel Core i7 CPUs and Nvidia RTX 30 series GP…\n",
      "RT @KalHoNaHo__: Please if anyone need, this Remdesivir injection. \n",
      "Call :- 7387418909\n",
      "They are delivering all over India.\n",
      "PLEASE RT \n",
      "#COVI…\n",
      "RT @h3h3productions: So many people are still dying of Covid in India, Brazil, everywhere, and people in the USA are saying no to the vacci…\n",
      "RT @UKinIndia: (1/5) India has been added to England’s travel ban red list, with effect from 4am BST Friday 23 April.  This is to help prev…\n",
      "RT @dna: 'Every house in India should have sons like #SalmanKhan, #SohailKhan': #RakhiSawant thanks actor for 'saving mom's life'\n",
      "\n",
      "https://…\n",
      "RT @theskindoctor13: Cricket world cup final, 2023 : India needs 6 off 1 ball to win the cup.\n",
      "\n",
      "Uddhav : Idhar chakka\n",
      "maara to apan cup jeet…\n",
      "Bxtches be fake like plasticware. \n",
      "India &amp; Asia are fine china. #Models\n",
      "RT @gurdeepsappal: Get well soon sir #DrManMohanSingh \n",
      "\n",
      "You life is your message.\n",
      "India needs your wisdom and guidance in these times of tr…\n",
      "RT @ramakumarr: A quick thread on today's announcement of the Government of India (GoI) to open up Covid vaccination to those above 18 year…\n",
      "RT @RahulGandhi: Dear Dr. Manmohan Singh Ji, \n",
      "\n",
      "Wishing you a speedy recovery. \n",
      "India needs your guidance and advice in this difficult time.\n",
      "RT @INCIndia: We applaud the Modi govt for setting its ego aside and accepting two more suggestions by Shri @RahulGandhi and the Congress p…\n",
      "Wishing speedy recovery to former Prime Minister of India Shri Manmohan Singh ji, who has tested positive for… https://t.co/9h4x8w0UHC\n",
      "India added to coronavirus ‘red list’\n",
      "https://t.co/7XFfbxxWxn\n",
      "RT @shytigress: With Every Wave of Covid and its mutations there is only one reaction from every home and family that has lost a Loved one…\n",
      "RT @RahulGandhi: Chinese occupation of Gogra-Hot Springs &amp; Depsang plains is a direct threat to India’s strategic interests including the D…\n",
      "@AmazonHelp Hope amazon closes in india soon\n",
      "RT @INCIndia: A \"botch-up\", \"lack of funding\" &amp; \"delayed support\" later India finds itself in a vaccine mess. \n",
      "\n",
      "Why does every action of th…\n",
      "RT @kashmir_watch: 🔶#Balochistan - Crying for International Humanitarian Intervention because of Atrocities caused by #Pakistan.\n",
      "\n",
      "@UN To Pl…\n",
      "RT @theskindoctor13: Cricket world cup final, 2023 : India needs 6 off 1 ball to win the cup.\n",
      "\n",
      "Uddhav : Idhar chakka\n",
      "maara to apan cup jeet…\n",
      "RT @prasana_kumar: CBN@ncbn developed #vizag https://t.co/c4tKLVxoXQ is one of the cleanest cities in #India. #HBDTeluguPrideCBN PN!\n",
      "RT @BBCWorld: Covid-19: How India failed to prevent a deadly second wave https://t.co/yBvzhLYVzr\n",
      "RT @SpecialCouncil: SAC-M calls on the Government of India to ensure that #Rohingya and all #refugees from #Myanmar are given protection, r…\n",
      "RT @DrEricDing: 10) WOW—nearly ever single flight from India to Toronto airport this past month has had at least a passenger carrying #COVI…\n",
      "RT @sanket: All the best oxygen express. Railways today, quite literally the lifeline of India. @RailMinIndia https://t.co/hfPxtvKBuq\n",
      "RT @ANI: As a foreign minister, I'm pushing other countries particularly some big countries, saying - look, please keep the raw materials f…\n",
      "RT @proud__Bhartiya: Green train for oxygen supply on the way within 24 hours\n",
      "\n",
      "Efforts are praiseworthy👏👏👏👏\n",
      "\n",
      "Well done @narendramodi @RailM…\n",
      "RT @AzamJamil53: People in Pakistan and India should stop rejoicing the trouble in either Country. \n",
      "The common man is suffering.\n",
      "RT @SalmanSoz: Dear Dr. Harsh Vardhan:\n",
      "\n",
      "When Dr. Manmohan Singh seeks a response from you, he will write to you. He wrote to PM Modi. It is…\n",
      "RT @sridhar1085: India needs you now more than ever!!! \n",
      "\n",
      "Wishing you a speedy recovery Dr. Manmohan Singh!!! 🙏\n",
      "\n",
      "#StayStrongManmohanJi\n",
      "#COVID19 Surge | In the middle of rising Covid-19 cases in Jammu and Kashmir and the government closing educational… https://t.co/z9Ha7qlq12\n",
      "RT @TeamSilverCity: #BREAKINGNEWS : COVID-19 vaccine for all above 18 years from 1st May in India.\n",
      "#VaccinateAll  #CoronaVaccine #COVID19Va…\n",
      "RT @INCIndia: We applaud the Modi govt for setting its ego aside and accepting two more suggestions by Shri @RahulGandhi and the Congress p…\n",
      "RT @balwindEr_24: babasaheb had studied the world. He studied World's politics , ideologies , economies , law , constitutions , religions ,…\n",
      "RT @RahulGandhi: Dear Dr. Manmohan Singh Ji, \n",
      "\n",
      "Wishing you a speedy recovery. \n",
      "India needs your guidance and advice in this difficult time.\n",
      "RT @OnePanjaban: Pray for India 🙏🏿\n",
      "\n",
      "@nasinuja8 @shivamnow @Jaswind17242063 @aalamjot24 @DrRicky0203 @ArmaanMalik22 https://t.co/07cocUqiju\n",
      "RT @AunindyoC: Nationalise all vaccine companies for 6 months &amp; produce vaccines on a war-footing at zero profit. India's vaccine makers sh…\n",
      "RT @RahulGandhi: Dear Dr. Manmohan Singh Ji, \n",
      "\n",
      "Wishing you a speedy recovery. \n",
      "India needs your guidance and advice in this difficult time.\n",
      "RT @UnSubtleDesi: Government of India opens COVID-19 vaccine for everyone above 18 years of age: All you need to know\n",
      "\n",
      "https://t.co/S7Zur4Y…\n",
      "Acer Predator Helios 300 gaming laptop with up to NVIDIA RTX 3070 GPU launched in India https://t.co/Q2ohIv0HY1 https://t.co/OoJJiFb17y\n",
      "Kia India's Plant Construction In Andhra Pradesh Stays Ahead Of Schedule. #HBDTeluguPrideCBN   -  #NriTDPCanada https://t.co/bEZXNxIxMM\n",
      "RT @fmtoday: London's decision is in light of surging cases and the emergence of a new virus variant in the country. #FMTNews https://t.co/…\n",
      "No flight ban, but will airlines now have the appetite now to fly London. #aviation #UK\n",
      "RT @BDUTT: \"This is India's worst crisis that I have seen in my journalistic career &amp; the Ministers in the Modi government still don't get…\n",
      "RT @Preetam_M_Rao: Calling it India Variant, UK Variant, Brazil Variant &amp; SA Variant is acceptable but, refering to it as Chinese Virus is…\n",
      "#McDonaldsXBTS \n",
      "#mcdonaldsindia\n",
      "#McDonalds \n",
      "Me:\n",
      "There's India          only mumbai&amp;delhi https://t.co/UM3258W1QI\n",
      "RT @TheWolfpackIN: French media: France govt pulled back 15 diplomats from it's embassy in Pakistan to mark increasing strategic alignment…\n",
      "#Hackers claim to have access to 13TB of Domino’s India #data https://t.co/1mhcqUifPL\n",
      "RT @ramakumarr: A quick thread on today's announcement of the Government of India (GoI) to open up Covid vaccination to those above 18 year…\n",
      "RT @SkyNews: A child has been rescued after falling into the path of an oncoming train in India.\n",
      "\n",
      "Watch more videos from Sky News: https://…\n",
      "This kind of reply is expected from a vengeful 25 YO. Even if you disagree, this is distasteful and outright disres… https://t.co/p8RR511u2k\n",
      "RT @SkyNews: A child has been rescued after falling into the path of an oncoming train in India.\n",
      "\n",
      "Watch more videos from Sky News: https://…\n",
      "RT @DrEricDing: 9) let this sink in— nearly every single flight from India to Toronto had a passenger who tested #COVID19 positive. And 1 i…\n",
      "RT @QureshiPTI2: #محافظ_ختم_نبوت_عمران_خان\n",
      "It urged India to allow the Commission and other international organisations access to Indian-oc…\n",
      "@ISuresh29 @desimojito Kuldip Sengar\n",
      "Chinmay anand\n",
      "Hathras case\n",
      "Mukul Roy rehabilitation\n",
      "Narayan Rane rehabilitatio… https://t.co/xMRcCDampp\n",
      "RT @swati_gs: Because no publication is covering rallies and hate speeches by fanatics in India over blasphemy, who are even declaring that…\n",
      "@porus_ @ANI Im not an citizen of india? Wow. My opinion doesn't matter. Soon lakhs and crores of rajasthani starte… https://t.co/P6Dvw4xtlc\n",
      "RT @RahulGandhi: Dear Dr. Manmohan Singh Ji, \n",
      "\n",
      "Wishing you a speedy recovery. \n",
      "India needs your guidance and advice in this difficult time.\n",
      "RT @Tigers4Ever2010: Did you know that some people in India say that if you see a mongoose it is lucky &amp; you'll see a wild #tiger, whilst o…\n",
      "RT @TheWolfpackIN: French media: France govt pulled back 15 diplomats from it's embassy in Pakistan to mark increasing strategic alignment…\n",
      "RT @ramakumarr: A quick thread on today's announcement of the Government of India (GoI) to open up Covid vaccination to those above 18 year…\n",
      "RT @Mandoline_Blue: India is finally on the Red List.  \n",
      "\n",
      "In other news, Johnson puts his condom on AFTER he's had sex....\n",
      "RT @Reuters: Non-stop cremations cast doubt on India's counting of COVID dead https://t.co/EjTN9VyM2N https://t.co/1AUGDLtkSE\n",
      "RT @RahulGandhi: Dear Dr. Manmohan Singh Ji, \n",
      "\n",
      "Wishing you a speedy recovery. \n",
      "India needs your guidance and advice in this difficult time.\n",
      "RT @swati_gs: Because no publication is covering rallies and hate speeches by fanatics in India over blasphemy, who are even declaring that…\n",
      "This is the beauty of our great nation #India A #Hindu officer with #RSS roots and a #Sikh deputy helping a #muslim… https://t.co/DRUqOq6EfF\n",
      "RT @NarundarM: Govt denied Rahul Gandhi's useless suggestion to vaccinate everyone above 18 years old and decided to vaccinate those who ar…\n",
      "In india the school fees issue in english medium schools is the main crises due to corona epidemic.but the governme… https://t.co/6Vq3rDFHoS\n",
      "RT @thehill: Weeklong lockdown imposed in India's capital amid coronavirus surge https://t.co/ZNfbgD8lTs https://t.co/77PmWaGTmp\n",
      "RT @derekobrienmp: British PM : I have just cancelled my trip to India\n",
      "\n",
      "Indian PM : Cool. I am campaigning in Bengal🤪\n",
      "\n",
      "#COVID19 #MaskOn\n",
      "RT @dwatchorn: Aye.... The new varient has a handshake agreement with Johnson not to travel until 4am Friday when it's formally banned from…\n",
      "RT @narendramodi: Discussed the prevailing COVID-19 situation with leading doctors and medical experts. India is proud of the efforts of ou…\n",
      "RT @Educationpointw: @elonmusk @narendramodi\n",
      "@BarackObama @JeffBezos\n",
      "@justinbieber @rajinikanth\n",
      "Please read and share my blog\n",
      "The link of p…\n",
      "RT @ramakumarr: A quick thread on today's announcement of the Government of India (GoI) to open up Covid vaccination to those above 18 year…\n",
      "RT @CurtisSChin: ↕️ Every nation should celebrate its people, their stories and their triumphs, including their reach for the stars (or at…\n",
      "RT @theskindoctor13: Cricket world cup final, 2023 : India needs 6 off 1 ball to win the cup.\n",
      "\n",
      "Uddhav : Idhar chakka\n",
      "maara to apan cup jeet…\n",
      "@russonchristine I am sure he must be from India ....coz such crap always come from some 'idiot Guru'...\n",
      "RT @OwaisGandhi: A culmination of all experiences since 2014 has taught us one thing, In search of glittering gold we surely have sidelined…\n",
      "RT @theskindoctor13: Cricket world cup final, 2023 : India needs 6 off 1 ball to win the cup.\n",
      "\n",
      "Uddhav : Idhar chakka\n",
      "maara to apan cup jeet…\n",
      "RT @CaitlinScotland: Two of my friends took an essential 2-hour plane ride in India, removed their mask once to eat a donut.  Both contract…\n",
      "RT @ANI: Govt of India announces liberalised &amp; accelerated Phase 3 strategy of COVID-19 vaccination from May 1; everyone above the age of 1…\n",
      "@MeghUpdates Liberal India ,Liberal People\n",
      "RT @_sayema: Dr Manmohan Singh has been one of the best PMs of India. We need such visionaries. His silence was golden. His deeds spoke lou…\n",
      "RT @RaviMaharshi14: @narendramodi You should have done this work a year ago. India's health sector needs a lot of improvement.\n",
      "RT @DrSRaghavachari: @narendramodi Our pharma industry contribution has been stellar - esp in Corona times. Their input has formed a crucia…\n",
      "India's New Vaccine Drive From May 1: Key Points - NDTV https://t.co/ECnDp7L6k0\n",
      "It is a wuhan virus,that's it 😐😐😐\n",
      "India added to coronavirus ‘red list’ https://t.co/O0bfPGoh9G\n",
      "@priyankac19 what a hit PC\n",
      "RT @sagarikaghose: A letter which should remind an anti-intellectual government that there is no substitute for well educated administrator…\n",
      "RT @BhavyaDhoni: FOR INDIA 🙏🏻 https://t.co/vyCAPBjKKM\n",
      "RT @narendramodi: Discussed the prevailing COVID-19 situation with leading doctors and medical experts. India is proud of the efforts of ou…\n",
      "RT @AunindyoC: No, that is incorrect. India has amongst the lowest ratio of public servants to population. In 2015, India had 16 'public em…\n",
      "RT @ARanganathan72: Demographic breakdown by Age for India and Italy, and Death Rate by Age for #COVID19.\n",
      " https://t.co/HHzqdl89kl https://…\n",
      "RT @mangellife29: @ANI This what we get 📍\n",
      "Save india 🇮🇳🇮🇳🇮🇳\n",
      "Don't want BJP anymore 📍 https://t.co/tucftqURLk\n",
      "All holding Indian Passports cannot go to UK\n",
      "This shows where we have failed @RahulGandhi @YashwantSinha… https://t.co/5ypgqA9YcO\n",
      "RT @DrEricDing: The new “double mutation” variant from India 🇮🇳 #B1617 is surging fast in UK—5x increase in % of #COVID19 cases in just 2 w…\n",
      "RT @BanglarGorboMB: Exactly why #ResignModi.\n",
      "After spending nearly two years in jail, a Mumbai couple convicted for 10 years in a drug trafficking case in Qatar… https://t.co/MkYMRyeX2H\n",
      "Samsung now offers Pick-up and Drop for smartphone service in India https://t.co/BvBqsagGkY https://t.co/hZVBRvtHyh\n",
      "RT @drjawalsh: Really concerning that Dr Jenny Harries, who last March told us that *testing was just for poor countries without enough ven…\n",
      "RT @RahulGandhi: Dear Dr. Manmohan Singh Ji, \n",
      "\n",
      "Wishing you a speedy recovery. \n",
      "India needs your guidance and advice in this difficult time.\n",
      "RT @INCIndia: As Covid19 crisis threatens Indian lives, Chinese occupation threatens India's sovereignty- no wonder the people of India are…\n",
      "RT @ANI: Division of vaccine supply 50% to Govt of India &amp; 50% to another channel would be applicable uniformly across for all vaccines man…\n",
      "RT @narendramodi: Discussed the prevailing COVID-19 situation with leading doctors and medical experts. India is proud of the efforts of ou…\n",
      "RT @NarundarM: Govt denied Rahul Gandhi's useless suggestion to vaccinate everyone above 18 years old and decided to vaccinate those who ar…\n",
      "@karthik_es @arunver1289 @VMaya11156 @Drvilasjagdale @SanjayMehta_ @c400_t @anmol_ambani @ytengra @poojabeditweets… https://t.co/8CRlZtlqUF\n",
      "@narendramodi \n",
      "Hello Sir why are you not implement Sanskrit in whole INDIA? 26 english alphabet is not enough ,I am humbly Request.\n",
      "RT @RahulGandhi: Dear Dr. Manmohan Singh Ji, \n",
      "\n",
      "Wishing you a speedy recovery. \n",
      "India needs your guidance and advice in this difficult time.\n",
      "RT @AadhiraiPonni: I honestly can’t even comprehend India has such a loser as Health minister during the time of a global pandemic. \n",
      "\n",
      "Keep…\n",
      "RT @MeghUpdates: Ministry of Finance gives In Principle Approval of ₹3000 cr credit for 'Serum Institute of India' &amp; ₹1500 cr for 'Bharat B…\n",
      "RT @JAIN_24T: Plasma Pan India\n",
      "Network of Plasma donors ... in case anyone needs plasma, put request here. \n",
      "\n",
      "https://t.co/7117fRz7lX\n",
      "RT @MujMash: “India’s size is going to to dominate the global numbers — how the world performs on Covid is going to be very dependent on ho…\n",
      "RT @143blueredblack: #ResignModi\n",
      "#HarshVardhanShouldResign \n",
      "#ModiMadeDisaster #CSKvsRR #rrvscsk #HarshVardhan #vck #Thirumavalavan #COVIDSe…\n",
      "RT @ahmermkhan: BJP president JP Nadda’s public rally today in West Bengal. \n",
      "\n",
      "Meanwhile, India reported 2,73,810 new Covid-19 cases in the…\n",
      "RT @narendramodi: Discussed the prevailing COVID-19 situation with leading doctors and medical experts. India is proud of the efforts of ou…\n",
      "RT @rohanrgupta: Saddened to learn about former Prime Minister of India Dr Manmohan Singh ji being tested positive for COVID-19. My prayers…\n",
      "RT @Ravidevt: A #RahulRajya would not have waited till the arrival of second wave of coronavirus. \n",
      "India would have had adequate supply of…\n",
      "RT @ramakumarr: A quick thread on today's announcement of the Government of India (GoI) to open up Covid vaccination to those above 18 year…\n",
      "RT @PippaCrerar: BREAKING: Matt Hancock confirms that India will be added to the travel 'red list' - a precautionary move as there are now…\n",
      "RT @RahulGandhi: Dear Dr. Manmohan Singh Ji, \n",
      "\n",
      "Wishing you a speedy recovery. \n",
      "India needs your guidance and advice in this difficult time.\n",
      "RT @INCIndia: We applaud the Modi govt for setting its ego aside and accepting two more suggestions by Shri @RahulGandhi and the Congress p…\n",
      "RT @TimesNow: If a patient is on home isolation, 2-3 things need to be done – monitor his fever, saturation: Dr Randeep Guleria, Director,…\n",
      "RT @MSNBC: India faces Covid-19 crisis as second wave sends infections spiraling.\n",
      "\n",
      "Hospitals across the country are reporting severe oxygen…\n",
      "RT @RahulGandhi: Dear Dr. Manmohan Singh Ji, \n",
      "\n",
      "Wishing you a speedy recovery. \n",
      "India needs your guidance and advice in this difficult time.\n",
      "RT @narendramodi: Discussed the prevailing COVID-19 situation with leading doctors and medical experts. India is proud of the efforts of ou…\n",
      "RT @rudrastic: If you need plasma for covid patient anywhere or need blood, this is India's first free blood call center Red Cross Indore w…\n",
      "RT @CanuckTraveler: UK hasn't lifted most of its PH measures and yet UK is facing a surge in variant cases from India.\n",
      "RT @byadavbjp: Very timely and important decision taken by PM Shri @narendramodi to allow vaccination of all adults in India. From May 1, e…\n",
      "RT @sushmitadevinc: I remember @PMOIndia met Dr Singh when he became PM. Was that a photo opportunity or was it for real. \n",
      "\n",
      "Hope PM will ac…\n",
      "RT @sultan_bharat: After making DISASTER. PM Modi is enjoying. To be honest he is unfit to be a PM. Shameless PM. Never ever you will see t…\n",
      "RT @dezzymay22: I love when people say “ Justin Trudeau you’re such a great leader “ then you look at their profile and it’s somebody from…\n",
      "RT @tavleen_singh: How India lost its way with Covid-19, as Modi govt walks into a crisis s... https://t.co/qrlfKKGs6X via @YouTube\n",
      "RT @narendramodi: Discussed the prevailing COVID-19 situation with leading doctors and medical experts. India is proud of the efforts of ou…\n",
      "RT @RahulGandhi: Dear Dr. Manmohan Singh Ji, \n",
      "\n",
      "Wishing you a speedy recovery. \n",
      "India needs your guidance and advice in this difficult time.\n",
      "RT @vb_jens: Some concerning B.1.617 (India) stats out of Britain. Too early to day for sure if that's signal or noise, but something we sh…\n",
      "RT @swati_gs: Because no publication is covering rallies and hate speeches by fanatics in India over blasphemy, who are even declaring that…\n",
      "@rvaidya2000 Also such a big Insurance renewal is done typically much prior to expiry.\n",
      "For insurance starting on 25… https://t.co/sbQKcxhggY\n",
      "RT @Bikash_Das_11: Damn &amp; yes ! \n",
      "We are Trending on the 17th Position In India ! \n",
      "Guys keep on tweeting &amp; most importantly retweeting ....…\n",
      "RT @psd_harsha: #cancelapboardexams2021\n",
      "Don't stop raise our roar all our india\n",
      "RT @_sayema: Dr Manmohan Singh has been one of the best PMs of India. We need such visionaries. His silence was golden. His deeds spoke lou…\n",
      "India has been added to #UK’s travel ban red list, with effect from 4am BST Friday 23 April.  \n",
      "\n",
      "@UKinIndia https://t.co/KVa6KQRGw4\n",
      "Hard times like these define people, else you become a liability like the unqualified PM. #India #COVIDSecondWaveInIndia\n",
      "RT @Onlyshashi9999: In March 2000, Naidu Invited US Prez @BillClinton to tour Hyd, at \" India and US world leaders in technology summit \" N…\n",
      "RT @btsbengalarmys: Dear @mcdonaldsindia , \n",
      "We are absolutely thrilled to notice INDIA mentioned in BTS MEAL that is coming soon in May. Bu…\n",
      "RT @narendramodi: Discussed the prevailing COVID-19 situation with leading doctors and medical experts. India is proud of the efforts of ou…\n",
      "RT @Haggis_UK: Yvette Cooper - Hong Kong identified 47 covid cases on a single flight from Delhi, &amp; we have 16 more direct flights &amp; many m…\n",
      "RT @bookishfables: 🆘️ Delhi, India \n",
      "\n",
      "Needs bed with oxygen for a patient. No ventilator required. Please drop new leads, old ones are exhau…\n",
      "Good that India Today is able to decipher the writing on the Wall...call it by any name- anti-incumbency or somethi… https://t.co/LRpnA0fmUS\n",
      "RT @narendramodi: Discussed the prevailing COVID-19 situation with leading doctors and medical experts. India is proud of the efforts of ou…\n",
      "RT @BDUTT: \"This is India's worst crisis that I have seen in my journalistic career &amp; the Ministers in the Modi government still don't get…\n",
      "RT @srivatsayb: Money to Vaccine Producers and 18+ to get Vaccinated\n",
      "\n",
      "2 more key suggestions of @RahulGandhi &amp; Congress Party accepted by t…\n",
      "RT @suitcase_poetry: #ourpoets #6 @chandrikanm is a Dublin-based arts manager, writer, and performer from India. Award-winning poet (Fingal…\n",
      "RT @rohanrgupta: Saddened to learn about former Prime Minister of India Dr Manmohan Singh ji being tested positive for COVID-19. My prayers…\n",
      "RT @BDUTT: \"This is India's worst crisis that I have seen in my journalistic career &amp; the Ministers in the Modi government still don't get…\n",
      "RT @rohanrgupta: Saddened to learn about former Prime Minister of India Dr Manmohan Singh ji being tested positive for COVID-19. My prayers…\n",
      "RT @TOIIndiaNews: India's vision of Indo-Pacific as free, open, inclusive region premised upon ASEAN centrality: EAM https://t.co/JKt1SPimqR\n",
      "RT @HarshRo45_: Don't Troll MSD for his slow and small inning!!\n",
      "\n",
      "Whole India will cry when he will retire from all forms of Cricket!!😢\n",
      "\n",
      "Bet…\n",
      "RT @sidhant: New Zealand, Hong Kong, &amp; now UK. Curbs for Indian flights, and travellers as Covid cases surge in India. https://t.co/D4eEEbL…\n",
      "Salute sir!! what an answer for such victim card question 👏 https://t.co/CsmvE19eS7\n",
      "RT @MenTooRHuman: Hey @NCPCR_ 25th April is globally observed  #ParentalAlienation Awareness Day to raise issue of child and parent relatio…\n",
      "I think days into this, we already know that @CMOGuj @vijayrupanibjp @MoHFW_GUJARAT @GujHFWDept lies about the numb… https://t.co/GbA6msMgWy\n",
      "RT @kashmir_watch: Mysterious ‘Invest In #Turkey’ Hoardings Appear In #Srinagar Lal Chowk #Kashmir.\n",
      "\n",
      "🔶US &amp; NATO turn off the cash tap. Erdo…\n",
      "RT @BangtanINDIA: Dear @mcdonaldsindia can you please bring #BTS meal to all other parts of India? We all would really love and appreciate…\n",
      "RT @BBCPolitics: India will be added to the UK's travel-ban red list of countries from Friday, says Health Secretary Matt Hancock\n",
      "\n",
      "\"We must…\n",
      "RT @moon_chandani: Health care workers dancing to raise the spirits of covid patients in India https://t.co/6a9AjnsVcY\n",
      "@choi_bts2 And it's already summer in India, the season I hate the most.😔\n",
      "RT @TdpVenkata: Both CNN and Time gave widespread coverage to Naidu's way of functioning, CNN said, In just five years, he has turned an im…\n",
      "RT @narendramodi: Discussed the prevailing COVID-19 situation with leading doctors and medical experts. India is proud of the efforts of ou…\n",
      "RT @narendramodi: Discussed the prevailing COVID-19 situation with leading doctors and medical experts. India is proud of the efforts of ou…\n",
      "RT @ShareTalkNews: Long-awaited Cambay PSC deal nears closure in #India for @oilexltd “The long-awaited resolution provides the company wit…\n",
      "RT @surekhapillai: while the government figures ways to do this, this important tweet also tells me those of us who can afford to (especial…\n",
      "RT @narendramodi: Discussed the prevailing COVID-19 situation with leading doctors and medical experts. India is proud of the efforts of ou…\n",
      "RT @madhavikanwar: @brajeshlive His wife has explained the truths of care of covid patients .till now we thought it is happening with commo…\n",
      "RT @CNBCTV18News: '@sputnikvaccine &amp; J&amp;J are two #vaccines which will be among first ones (to be available in India)', says Dr NK Arora, Na…\n",
      "RT @RahulGandhi: Dear Dr. Manmohan Singh Ji, \n",
      "\n",
      "Wishing you a speedy recovery. \n",
      "India needs your guidance and advice in this difficult time.\n",
      "RT @RahulGandhi: Dear Dr. Manmohan Singh Ji, \n",
      "\n",
      "Wishing you a speedy recovery. \n",
      "India needs your guidance and advice in this difficult time.\n",
      "RT @RahulGandhi: Dear Dr. Manmohan Singh Ji, \n",
      "\n",
      "Wishing you a speedy recovery. \n",
      "India needs your guidance and advice in this difficult time.\n",
      "RT @RahulGandhi: Dear Dr. Manmohan Singh Ji, \n",
      "\n",
      "Wishing you a speedy recovery. \n",
      "India needs your guidance and advice in this difficult time.\n",
      "RT @Khan____INC: On arrival of Corona in India\n",
      "\n",
      "👉Light the wick and candle first\n",
      "\n",
      " 👉Zombies are now being burnt in the crematoriums day and…\n",
      "This sh*t ain't stopping(((\n",
      "RT @mariawirth1: headline on web today:\n",
      "\"Daily #Covid19 cases in Turkey drop below 60,000\"\n",
      "318 dead on 18.4.\n",
      "(in spite of high vax%)\n",
      "\n",
      "To be…\n",
      "RT @USAID_NISHTHA: We are proud to showcase our esteemed speakers for the session on 'The Power of Convergence: Building Cross-Sectoral Vis…\n",
      "RT @swati_gs: Because no publication is covering rallies and hate speeches by fanatics in India over blasphemy, who are even declaring that…\n",
      "@TechNinjaSpeaks How much and shipment to India available ???\n",
      "RT @DrAsh_Mahendra: Real Problem with students 2020-21\n",
      "\" Online classes last year were exhausting not as effective as classroom education,p…\n",
      "RT @rohanrgupta: Saddened to learn about former Prime Minister of India Dr Manmohan Singh ji being tested positive for COVID-19. My prayers…\n",
      "RT @VarsityOfDream: Worst Health Minister of India @mangalpandeybjp providing all manipulated data. \n",
      "#BiharHealthEmergency https://t.co/I9C…\n",
      "RT @theskindoctor13: Cricket world cup final, 2023 : India needs 6 off 1 ball to win the cup.\n",
      "\n",
      "Uddhav : Idhar chakka\n",
      "maara to apan cup jeet…\n",
      "RT @RahulGandhi: Chinese occupation of Gogra-Hot Springs &amp; Depsang plains is a direct threat to India’s strategic interests including the D…\n",
      "RT @narendramodi: Discussed the prevailing COVID-19 situation with leading doctors and medical experts. India is proud of the efforts of ou…\n",
      "RT @ramakumarr: A quick thread on today's announcement of the Government of India (GoI) to open up Covid vaccination to those above 18 year…\n",
      "RT @lildeekenergyy: Considering the severe vaccine shortage that the country is going through, to think that they'll turn it around in 11 d…\n",
      "RT @MrsGandhi: India becomes fastest country to administer 12 crore vaccinations in 92 days as Covid-19 cases surge. America in second posi…\n",
      "RT @JujuliaGrace: India should be on the red travel list. \n",
      "\n",
      "RT if you agree 👍\n",
      "RT @BangtanINDIA: McDonald's have revealed the 'BTS meal', coming worldwide starting May.\n",
      "It shows it will be in India but its bracketed wi…\n",
      "RT @BryanPassifiume: 275,000 new #COVID19 cases in India today, heartbreaking appeals from Indians on social media seeking help,  now break…\n",
      "Well this is pretty terrible.\n",
      "RT @ANI: If you ask why are you exporting (vaccines) at all, somebody will ask -- why am I exporting to India. That is so short-sighted. On…\n",
      "@mcdonaldsindia please make the #BTSxMcD BTS MEAL available in all of the McDonald stores in India and considering… https://t.co/pU9hvL9ipH\n",
      "RT @SalmanSoz: During a pandemic, the goal is to vaccinate as many people as possible but to do so equitably. Creating a separate queue for…\n",
      "Oh but you can 😂\n",
      "RT @manojkjhadu: 'Gujarat Model of Development'..which believes in and ensures 'Management of Deaths'....Hey Ram!!\n",
      "RT @Taehyung_india_: [Trends🇮🇳] \n",
      "\n",
      "𝗢𝗿𝗲𝗼 𝗠𝗰𝗳𝗹𝘂𝗿𝗿𝘆 trending #20 India after #McDonalds x BTS announcement 😅\n",
      "\n",
      "#Taehyung #뷔 #V #BTSV @BTS_twt ht…\n",
      "RT @Onlyshashi9999: Kia India's Plant Construction In Andhra Pradesh Stays Ahead Of Schedule. #HBDTeluguPrideCBN   -  #NriTDPCanada https:/…\n",
      "RT @OnlyNakedTruth: Coupta, not our problem that you need to justify the money that your handlers pay you.\n",
      "\n",
      "India has been vaccinating vuln…\n",
      "RT @BhavyaDhoni: FOR INDIA 🙏🏻 https://t.co/vyCAPBjKKM\n",
      "RT @Haggis_UK: Yvette Cooper - Hong Kong identified 47 covid cases on a single flight from Delhi, &amp; we have 16 more direct flights &amp; many m…\n",
      "RT @TheWolfpackIN: French media: France govt pulled back 15 diplomats from it's embassy in Pakistan to mark increasing strategic alignment…\n",
      "@happyoye Hallo, the unroll you asked for: A quick thread on today's announcement of the Government of India…… https://t.co/qx0TGNuuty\n",
      "@isiddheshRkadam @CMOMaharashtra @AUThackeray Indeed the hour of need. Thank u Saheb 🙏\n",
      "\n",
      "Jai Maharastra \n",
      "Jai Hind india 🇮🇳\n",
      "Night curfew to be imposed in Kerala from tomorrow\n",
      "#india\n",
      "#kerala\n",
      "RT @samar11: A Lesson For India: How the Tiny Kingdom of Bhutan Out-Vaccinated Most of the World \n",
      "More than 60% have had a shot. Some villa…\n",
      "RT @DrEricDing: 2) If it weren’t for hotel quarantine—Hong along would have completely allowed these 39 to have begin spreading in the comm…\n",
      "#Rakeshasthana and #KPSMalhotra proves that humanity still exists  uniting them with their family after 3yrs of sep… https://t.co/LT7hhCiTpx\n",
      "RT @anonHaak: @hkaur0353 @Nagendr01514258 India attacked on Tibet border but kicked the shit out of CCP \n",
      "2500 Jio towers w/ no CCP parts  b…\n",
      "@trvisXX Plz come to India after this pandemic shit is over.\n",
      "RT @SkyNews: A child has been rescued after falling into the path of an oncoming train in India.\n",
      "\n",
      "Watch more videos from Sky News: https://…\n",
      "RT @BanglarGorboMB: Exactly why #ResignModi.\n",
      "@EduardoHagn I'm from India....I started watching football for arsenal and arsenal only...let aside West ham...most… https://t.co/HISJtXE7BD\n",
      "RT @NANA_PATOLE: Former PM  Dr Manmohan Singh Ji has tested positive for COVID &amp; has been admitted to AIIMS.\n",
      "\n",
      "Wishing him a speedy recovery…\n"
     ]
    },
    {
     "ename": "ProtocolError",
     "evalue": "ignored",
     "output_type": "error",
     "traceback": [
      "\u001b[0;31m---------------------------------------------------------------------------\u001b[0m",
      "\u001b[0;31mConnectionResetError\u001b[0m                      Traceback (most recent call last)",
      "\u001b[0;32m/usr/local/lib/python3.7/dist-packages/urllib3/response.py\u001b[0m in \u001b[0;36m_error_catcher\u001b[0;34m(self)\u001b[0m\n\u001b[1;32m    361\u001b[0m             \u001b[0;32mtry\u001b[0m\u001b[0;34m:\u001b[0m\u001b[0;34m\u001b[0m\u001b[0;34m\u001b[0m\u001b[0m\n\u001b[0;32m--> 362\u001b[0;31m                 \u001b[0;32myield\u001b[0m\u001b[0;34m\u001b[0m\u001b[0;34m\u001b[0m\u001b[0m\n\u001b[0m\u001b[1;32m    363\u001b[0m \u001b[0;34m\u001b[0m\u001b[0m\n",
      "\u001b[0;32m/usr/local/lib/python3.7/dist-packages/urllib3/response.py\u001b[0m in \u001b[0;36mread\u001b[0;34m(self, amt, decode_content, cache_content)\u001b[0m\n\u001b[1;32m    443\u001b[0m                 \u001b[0mcache_content\u001b[0m \u001b[0;34m=\u001b[0m \u001b[0;32mFalse\u001b[0m\u001b[0;34m\u001b[0m\u001b[0;34m\u001b[0m\u001b[0m\n\u001b[0;32m--> 444\u001b[0;31m                 \u001b[0mdata\u001b[0m \u001b[0;34m=\u001b[0m \u001b[0mself\u001b[0m\u001b[0;34m.\u001b[0m\u001b[0m_fp\u001b[0m\u001b[0;34m.\u001b[0m\u001b[0mread\u001b[0m\u001b[0;34m(\u001b[0m\u001b[0mamt\u001b[0m\u001b[0;34m)\u001b[0m\u001b[0;34m\u001b[0m\u001b[0;34m\u001b[0m\u001b[0m\n\u001b[0m\u001b[1;32m    445\u001b[0m                 \u001b[0;32mif\u001b[0m \u001b[0mamt\u001b[0m \u001b[0;34m!=\u001b[0m \u001b[0;36m0\u001b[0m \u001b[0;32mand\u001b[0m \u001b[0;32mnot\u001b[0m \u001b[0mdata\u001b[0m\u001b[0;34m:\u001b[0m  \u001b[0;31m# Platform-specific: Buggy versions of Python.\u001b[0m\u001b[0;34m\u001b[0m\u001b[0;34m\u001b[0m\u001b[0m\n",
      "\u001b[0;32m/usr/lib/python3.7/http/client.py\u001b[0m in \u001b[0;36mread\u001b[0;34m(self, amt)\u001b[0m\n\u001b[1;32m    460\u001b[0m             \u001b[0mb\u001b[0m \u001b[0;34m=\u001b[0m \u001b[0mbytearray\u001b[0m\u001b[0;34m(\u001b[0m\u001b[0mamt\u001b[0m\u001b[0;34m)\u001b[0m\u001b[0;34m\u001b[0m\u001b[0;34m\u001b[0m\u001b[0m\n\u001b[0;32m--> 461\u001b[0;31m             \u001b[0mn\u001b[0m \u001b[0;34m=\u001b[0m \u001b[0mself\u001b[0m\u001b[0;34m.\u001b[0m\u001b[0mreadinto\u001b[0m\u001b[0;34m(\u001b[0m\u001b[0mb\u001b[0m\u001b[0;34m)\u001b[0m\u001b[0;34m\u001b[0m\u001b[0;34m\u001b[0m\u001b[0m\n\u001b[0m\u001b[1;32m    462\u001b[0m             \u001b[0;32mreturn\u001b[0m \u001b[0mmemoryview\u001b[0m\u001b[0;34m(\u001b[0m\u001b[0mb\u001b[0m\u001b[0;34m)\u001b[0m\u001b[0;34m[\u001b[0m\u001b[0;34m:\u001b[0m\u001b[0mn\u001b[0m\u001b[0;34m]\u001b[0m\u001b[0;34m.\u001b[0m\u001b[0mtobytes\u001b[0m\u001b[0;34m(\u001b[0m\u001b[0;34m)\u001b[0m\u001b[0;34m\u001b[0m\u001b[0;34m\u001b[0m\u001b[0m\n",
      "\u001b[0;32m/usr/lib/python3.7/http/client.py\u001b[0m in \u001b[0;36mreadinto\u001b[0;34m(self, b)\u001b[0m\n\u001b[1;32m    494\u001b[0m         \u001b[0;32mif\u001b[0m \u001b[0mself\u001b[0m\u001b[0;34m.\u001b[0m\u001b[0mchunked\u001b[0m\u001b[0;34m:\u001b[0m\u001b[0;34m\u001b[0m\u001b[0;34m\u001b[0m\u001b[0m\n\u001b[0;32m--> 495\u001b[0;31m             \u001b[0;32mreturn\u001b[0m \u001b[0mself\u001b[0m\u001b[0;34m.\u001b[0m\u001b[0m_readinto_chunked\u001b[0m\u001b[0;34m(\u001b[0m\u001b[0mb\u001b[0m\u001b[0;34m)\u001b[0m\u001b[0;34m\u001b[0m\u001b[0;34m\u001b[0m\u001b[0m\n\u001b[0m\u001b[1;32m    496\u001b[0m \u001b[0;34m\u001b[0m\u001b[0m\n",
      "\u001b[0;32m/usr/lib/python3.7/http/client.py\u001b[0m in \u001b[0;36m_readinto_chunked\u001b[0;34m(self, b)\u001b[0m\n\u001b[1;32m    589\u001b[0m             \u001b[0;32mwhile\u001b[0m \u001b[0;32mTrue\u001b[0m\u001b[0;34m:\u001b[0m\u001b[0;34m\u001b[0m\u001b[0;34m\u001b[0m\u001b[0m\n\u001b[0;32m--> 590\u001b[0;31m                 \u001b[0mchunk_left\u001b[0m \u001b[0;34m=\u001b[0m \u001b[0mself\u001b[0m\u001b[0;34m.\u001b[0m\u001b[0m_get_chunk_left\u001b[0m\u001b[0;34m(\u001b[0m\u001b[0;34m)\u001b[0m\u001b[0;34m\u001b[0m\u001b[0;34m\u001b[0m\u001b[0m\n\u001b[0m\u001b[1;32m    591\u001b[0m                 \u001b[0;32mif\u001b[0m \u001b[0mchunk_left\u001b[0m \u001b[0;32mis\u001b[0m \u001b[0;32mNone\u001b[0m\u001b[0;34m:\u001b[0m\u001b[0;34m\u001b[0m\u001b[0;34m\u001b[0m\u001b[0m\n",
      "\u001b[0;32m/usr/lib/python3.7/http/client.py\u001b[0m in \u001b[0;36m_get_chunk_left\u001b[0;34m(self)\u001b[0m\n\u001b[1;32m    557\u001b[0m             \u001b[0;32mtry\u001b[0m\u001b[0;34m:\u001b[0m\u001b[0;34m\u001b[0m\u001b[0;34m\u001b[0m\u001b[0m\n\u001b[0;32m--> 558\u001b[0;31m                 \u001b[0mchunk_left\u001b[0m \u001b[0;34m=\u001b[0m \u001b[0mself\u001b[0m\u001b[0;34m.\u001b[0m\u001b[0m_read_next_chunk_size\u001b[0m\u001b[0;34m(\u001b[0m\u001b[0;34m)\u001b[0m\u001b[0;34m\u001b[0m\u001b[0;34m\u001b[0m\u001b[0m\n\u001b[0m\u001b[1;32m    559\u001b[0m             \u001b[0;32mexcept\u001b[0m \u001b[0mValueError\u001b[0m\u001b[0;34m:\u001b[0m\u001b[0;34m\u001b[0m\u001b[0;34m\u001b[0m\u001b[0m\n",
      "\u001b[0;32m/usr/lib/python3.7/http/client.py\u001b[0m in \u001b[0;36m_read_next_chunk_size\u001b[0;34m(self)\u001b[0m\n\u001b[1;32m    517\u001b[0m         \u001b[0;31m# Read the next chunk size from the file\u001b[0m\u001b[0;34m\u001b[0m\u001b[0;34m\u001b[0m\u001b[0;34m\u001b[0m\u001b[0m\n\u001b[0;32m--> 518\u001b[0;31m         \u001b[0mline\u001b[0m \u001b[0;34m=\u001b[0m \u001b[0mself\u001b[0m\u001b[0;34m.\u001b[0m\u001b[0mfp\u001b[0m\u001b[0;34m.\u001b[0m\u001b[0mreadline\u001b[0m\u001b[0;34m(\u001b[0m\u001b[0m_MAXLINE\u001b[0m \u001b[0;34m+\u001b[0m \u001b[0;36m1\u001b[0m\u001b[0;34m)\u001b[0m\u001b[0;34m\u001b[0m\u001b[0;34m\u001b[0m\u001b[0m\n\u001b[0m\u001b[1;32m    519\u001b[0m         \u001b[0;32mif\u001b[0m \u001b[0mlen\u001b[0m\u001b[0;34m(\u001b[0m\u001b[0mline\u001b[0m\u001b[0;34m)\u001b[0m \u001b[0;34m>\u001b[0m \u001b[0m_MAXLINE\u001b[0m\u001b[0;34m:\u001b[0m\u001b[0;34m\u001b[0m\u001b[0;34m\u001b[0m\u001b[0m\n",
      "\u001b[0;32m/usr/lib/python3.7/socket.py\u001b[0m in \u001b[0;36mreadinto\u001b[0;34m(self, b)\u001b[0m\n\u001b[1;32m    588\u001b[0m             \u001b[0;32mtry\u001b[0m\u001b[0;34m:\u001b[0m\u001b[0;34m\u001b[0m\u001b[0;34m\u001b[0m\u001b[0m\n\u001b[0;32m--> 589\u001b[0;31m                 \u001b[0;32mreturn\u001b[0m \u001b[0mself\u001b[0m\u001b[0;34m.\u001b[0m\u001b[0m_sock\u001b[0m\u001b[0;34m.\u001b[0m\u001b[0mrecv_into\u001b[0m\u001b[0;34m(\u001b[0m\u001b[0mb\u001b[0m\u001b[0;34m)\u001b[0m\u001b[0;34m\u001b[0m\u001b[0;34m\u001b[0m\u001b[0m\n\u001b[0m\u001b[1;32m    590\u001b[0m             \u001b[0;32mexcept\u001b[0m \u001b[0mtimeout\u001b[0m\u001b[0;34m:\u001b[0m\u001b[0;34m\u001b[0m\u001b[0;34m\u001b[0m\u001b[0m\n",
      "\u001b[0;32m/usr/lib/python3.7/ssl.py\u001b[0m in \u001b[0;36mrecv_into\u001b[0;34m(self, buffer, nbytes, flags)\u001b[0m\n\u001b[1;32m   1070\u001b[0m                   self.__class__)\n\u001b[0;32m-> 1071\u001b[0;31m             \u001b[0;32mreturn\u001b[0m \u001b[0mself\u001b[0m\u001b[0;34m.\u001b[0m\u001b[0mread\u001b[0m\u001b[0;34m(\u001b[0m\u001b[0mnbytes\u001b[0m\u001b[0;34m,\u001b[0m \u001b[0mbuffer\u001b[0m\u001b[0;34m)\u001b[0m\u001b[0;34m\u001b[0m\u001b[0;34m\u001b[0m\u001b[0m\n\u001b[0m\u001b[1;32m   1072\u001b[0m         \u001b[0;32melse\u001b[0m\u001b[0;34m:\u001b[0m\u001b[0;34m\u001b[0m\u001b[0;34m\u001b[0m\u001b[0m\n",
      "\u001b[0;32m/usr/lib/python3.7/ssl.py\u001b[0m in \u001b[0;36mread\u001b[0;34m(self, len, buffer)\u001b[0m\n\u001b[1;32m    928\u001b[0m             \u001b[0;32mif\u001b[0m \u001b[0mbuffer\u001b[0m \u001b[0;32mis\u001b[0m \u001b[0;32mnot\u001b[0m \u001b[0;32mNone\u001b[0m\u001b[0;34m:\u001b[0m\u001b[0;34m\u001b[0m\u001b[0;34m\u001b[0m\u001b[0m\n\u001b[0;32m--> 929\u001b[0;31m                 \u001b[0;32mreturn\u001b[0m \u001b[0mself\u001b[0m\u001b[0;34m.\u001b[0m\u001b[0m_sslobj\u001b[0m\u001b[0;34m.\u001b[0m\u001b[0mread\u001b[0m\u001b[0;34m(\u001b[0m\u001b[0mlen\u001b[0m\u001b[0;34m,\u001b[0m \u001b[0mbuffer\u001b[0m\u001b[0;34m)\u001b[0m\u001b[0;34m\u001b[0m\u001b[0;34m\u001b[0m\u001b[0m\n\u001b[0m\u001b[1;32m    930\u001b[0m             \u001b[0;32melse\u001b[0m\u001b[0;34m:\u001b[0m\u001b[0;34m\u001b[0m\u001b[0;34m\u001b[0m\u001b[0m\n",
      "\u001b[0;31mConnectionResetError\u001b[0m: [Errno 104] Connection reset by peer",
      "\nDuring handling of the above exception, another exception occurred:\n",
      "\u001b[0;31mProtocolError\u001b[0m                             Traceback (most recent call last)",
      "\u001b[0;32m<ipython-input-352-59eacc04a610>\u001b[0m in \u001b[0;36m<module>\u001b[0;34m()\u001b[0m\n\u001b[1;32m     51\u001b[0m \u001b[0;34m\u001b[0m\u001b[0m\n\u001b[1;32m     52\u001b[0m                 \u001b[0;31m#Terms to track\u001b[0m\u001b[0;34m\u001b[0m\u001b[0;34m\u001b[0m\u001b[0;34m\u001b[0m\u001b[0m\n\u001b[0;32m---> 53\u001b[0;31m                 \u001b[0mstream\u001b[0m\u001b[0;34m.\u001b[0m\u001b[0mfilter\u001b[0m\u001b[0;34m(\u001b[0m\u001b[0mtrack\u001b[0m\u001b[0;34m=\u001b[0m\u001b[0;34m[\u001b[0m\u001b[0;34m\"india\"\u001b[0m\u001b[0;34m]\u001b[0m\u001b[0;34m,\u001b[0m \u001b[0mlanguages\u001b[0m\u001b[0;34m=\u001b[0m\u001b[0;34m[\u001b[0m\u001b[0;34m\"en\"\u001b[0m\u001b[0;34m]\u001b[0m\u001b[0;34m)\u001b[0m\u001b[0;34m\u001b[0m\u001b[0;34m\u001b[0m\u001b[0m\n\u001b[0m\u001b[1;32m     54\u001b[0m \u001b[0;34m\u001b[0m\u001b[0m\n\u001b[1;32m     55\u001b[0m                 \u001b[0;31m#Alternatively, location box  for geotagged tweets\u001b[0m\u001b[0;34m\u001b[0m\u001b[0;34m\u001b[0m\u001b[0;34m\u001b[0m\u001b[0m\n",
      "\u001b[0;32m/usr/local/lib/python3.7/dist-packages/tweepy/streaming.py\u001b[0m in \u001b[0;36mfilter\u001b[0;34m(self, follow, track, is_async, locations, stall_warnings, languages, encoding, filter_level)\u001b[0m\n\u001b[1;32m    472\u001b[0m             \u001b[0mself\u001b[0m\u001b[0;34m.\u001b[0m\u001b[0mbody\u001b[0m\u001b[0;34m[\u001b[0m\u001b[0;34m'filter_level'\u001b[0m\u001b[0;34m]\u001b[0m \u001b[0;34m=\u001b[0m \u001b[0mfilter_level\u001b[0m\u001b[0;34m.\u001b[0m\u001b[0mencode\u001b[0m\u001b[0;34m(\u001b[0m\u001b[0mencoding\u001b[0m\u001b[0;34m)\u001b[0m\u001b[0;34m\u001b[0m\u001b[0;34m\u001b[0m\u001b[0m\n\u001b[1;32m    473\u001b[0m         \u001b[0mself\u001b[0m\u001b[0;34m.\u001b[0m\u001b[0msession\u001b[0m\u001b[0;34m.\u001b[0m\u001b[0mparams\u001b[0m \u001b[0;34m=\u001b[0m \u001b[0;34m{\u001b[0m\u001b[0;34m'delimited'\u001b[0m\u001b[0;34m:\u001b[0m \u001b[0;34m'length'\u001b[0m\u001b[0;34m}\u001b[0m\u001b[0;34m\u001b[0m\u001b[0;34m\u001b[0m\u001b[0m\n\u001b[0;32m--> 474\u001b[0;31m         \u001b[0mself\u001b[0m\u001b[0;34m.\u001b[0m\u001b[0m_start\u001b[0m\u001b[0;34m(\u001b[0m\u001b[0mis_async\u001b[0m\u001b[0;34m)\u001b[0m\u001b[0;34m\u001b[0m\u001b[0;34m\u001b[0m\u001b[0m\n\u001b[0m\u001b[1;32m    475\u001b[0m \u001b[0;34m\u001b[0m\u001b[0m\n\u001b[1;32m    476\u001b[0m     def sitestream(self, follow, stall_warnings=False,\n",
      "\u001b[0;32m/usr/local/lib/python3.7/dist-packages/tweepy/streaming.py\u001b[0m in \u001b[0;36m_start\u001b[0;34m(self, is_async)\u001b[0m\n\u001b[1;32m    387\u001b[0m             \u001b[0mself\u001b[0m\u001b[0;34m.\u001b[0m\u001b[0m_thread\u001b[0m\u001b[0;34m.\u001b[0m\u001b[0mstart\u001b[0m\u001b[0;34m(\u001b[0m\u001b[0;34m)\u001b[0m\u001b[0;34m\u001b[0m\u001b[0;34m\u001b[0m\u001b[0m\n\u001b[1;32m    388\u001b[0m         \u001b[0;32melse\u001b[0m\u001b[0;34m:\u001b[0m\u001b[0;34m\u001b[0m\u001b[0;34m\u001b[0m\u001b[0m\n\u001b[0;32m--> 389\u001b[0;31m             \u001b[0mself\u001b[0m\u001b[0;34m.\u001b[0m\u001b[0m_run\u001b[0m\u001b[0;34m(\u001b[0m\u001b[0;34m)\u001b[0m\u001b[0;34m\u001b[0m\u001b[0;34m\u001b[0m\u001b[0m\n\u001b[0m\u001b[1;32m    390\u001b[0m \u001b[0;34m\u001b[0m\u001b[0m\n\u001b[1;32m    391\u001b[0m     \u001b[0;32mdef\u001b[0m \u001b[0mon_closed\u001b[0m\u001b[0;34m(\u001b[0m\u001b[0mself\u001b[0m\u001b[0;34m,\u001b[0m \u001b[0mresp\u001b[0m\u001b[0;34m)\u001b[0m\u001b[0;34m:\u001b[0m\u001b[0;34m\u001b[0m\u001b[0;34m\u001b[0m\u001b[0m\n",
      "\u001b[0;32m/usr/local/lib/python3.7/dist-packages/tweepy/streaming.py\u001b[0m in \u001b[0;36m_run\u001b[0;34m(self)\u001b[0m\n\u001b[1;32m    318\u001b[0m             \u001b[0;31m# call a handler first so that the exception can be logged.\u001b[0m\u001b[0;34m\u001b[0m\u001b[0;34m\u001b[0m\u001b[0;34m\u001b[0m\u001b[0m\n\u001b[1;32m    319\u001b[0m             \u001b[0mself\u001b[0m\u001b[0;34m.\u001b[0m\u001b[0mlistener\u001b[0m\u001b[0;34m.\u001b[0m\u001b[0mon_exception\u001b[0m\u001b[0;34m(\u001b[0m\u001b[0mexc_info\u001b[0m\u001b[0;34m[\u001b[0m\u001b[0;36m1\u001b[0m\u001b[0;34m]\u001b[0m\u001b[0;34m)\u001b[0m\u001b[0;34m\u001b[0m\u001b[0;34m\u001b[0m\u001b[0m\n\u001b[0;32m--> 320\u001b[0;31m             \u001b[0msix\u001b[0m\u001b[0;34m.\u001b[0m\u001b[0mreraise\u001b[0m\u001b[0;34m(\u001b[0m\u001b[0;34m*\u001b[0m\u001b[0mexc_info\u001b[0m\u001b[0;34m)\u001b[0m\u001b[0;34m\u001b[0m\u001b[0;34m\u001b[0m\u001b[0m\n\u001b[0m\u001b[1;32m    321\u001b[0m \u001b[0;34m\u001b[0m\u001b[0m\n\u001b[1;32m    322\u001b[0m     \u001b[0;32mdef\u001b[0m \u001b[0m_data\u001b[0m\u001b[0;34m(\u001b[0m\u001b[0mself\u001b[0m\u001b[0;34m,\u001b[0m \u001b[0mdata\u001b[0m\u001b[0;34m)\u001b[0m\u001b[0;34m:\u001b[0m\u001b[0;34m\u001b[0m\u001b[0;34m\u001b[0m\u001b[0m\n",
      "\u001b[0;32m/usr/local/lib/python3.7/dist-packages/six.py\u001b[0m in \u001b[0;36mreraise\u001b[0;34m(tp, value, tb)\u001b[0m\n\u001b[1;32m    701\u001b[0m             \u001b[0;32mif\u001b[0m \u001b[0mvalue\u001b[0m\u001b[0;34m.\u001b[0m\u001b[0m__traceback__\u001b[0m \u001b[0;32mis\u001b[0m \u001b[0;32mnot\u001b[0m \u001b[0mtb\u001b[0m\u001b[0;34m:\u001b[0m\u001b[0;34m\u001b[0m\u001b[0;34m\u001b[0m\u001b[0m\n\u001b[1;32m    702\u001b[0m                 \u001b[0;32mraise\u001b[0m \u001b[0mvalue\u001b[0m\u001b[0;34m.\u001b[0m\u001b[0mwith_traceback\u001b[0m\u001b[0;34m(\u001b[0m\u001b[0mtb\u001b[0m\u001b[0;34m)\u001b[0m\u001b[0;34m\u001b[0m\u001b[0;34m\u001b[0m\u001b[0m\n\u001b[0;32m--> 703\u001b[0;31m             \u001b[0;32mraise\u001b[0m \u001b[0mvalue\u001b[0m\u001b[0;34m\u001b[0m\u001b[0;34m\u001b[0m\u001b[0m\n\u001b[0m\u001b[1;32m    704\u001b[0m         \u001b[0;32mfinally\u001b[0m\u001b[0;34m:\u001b[0m\u001b[0;34m\u001b[0m\u001b[0;34m\u001b[0m\u001b[0m\n\u001b[1;32m    705\u001b[0m             \u001b[0mvalue\u001b[0m \u001b[0;34m=\u001b[0m \u001b[0;32mNone\u001b[0m\u001b[0;34m\u001b[0m\u001b[0;34m\u001b[0m\u001b[0m\n",
      "\u001b[0;32m/usr/local/lib/python3.7/dist-packages/tweepy/streaming.py\u001b[0m in \u001b[0;36m_run\u001b[0;34m(self)\u001b[0m\n\u001b[1;32m    287\u001b[0m                     \u001b[0mself\u001b[0m\u001b[0;34m.\u001b[0m\u001b[0msnooze_time\u001b[0m \u001b[0;34m=\u001b[0m \u001b[0mself\u001b[0m\u001b[0;34m.\u001b[0m\u001b[0msnooze_time_step\u001b[0m\u001b[0;34m\u001b[0m\u001b[0;34m\u001b[0m\u001b[0m\n\u001b[1;32m    288\u001b[0m                     \u001b[0mself\u001b[0m\u001b[0;34m.\u001b[0m\u001b[0mlistener\u001b[0m\u001b[0;34m.\u001b[0m\u001b[0mon_connect\u001b[0m\u001b[0;34m(\u001b[0m\u001b[0;34m)\u001b[0m\u001b[0;34m\u001b[0m\u001b[0;34m\u001b[0m\u001b[0m\n\u001b[0;32m--> 289\u001b[0;31m                     \u001b[0mself\u001b[0m\u001b[0;34m.\u001b[0m\u001b[0m_read_loop\u001b[0m\u001b[0;34m(\u001b[0m\u001b[0mresp\u001b[0m\u001b[0;34m)\u001b[0m\u001b[0;34m\u001b[0m\u001b[0;34m\u001b[0m\u001b[0m\n\u001b[0m\u001b[1;32m    290\u001b[0m             \u001b[0;32mexcept\u001b[0m \u001b[0;34m(\u001b[0m\u001b[0mTimeout\u001b[0m\u001b[0;34m,\u001b[0m \u001b[0mssl\u001b[0m\u001b[0;34m.\u001b[0m\u001b[0mSSLError\u001b[0m\u001b[0;34m)\u001b[0m \u001b[0;32mas\u001b[0m \u001b[0mexc\u001b[0m\u001b[0;34m:\u001b[0m\u001b[0;34m\u001b[0m\u001b[0;34m\u001b[0m\u001b[0m\n\u001b[1;32m    291\u001b[0m                 \u001b[0;31m# This is still necessary, as a SSLError can actually be\u001b[0m\u001b[0;34m\u001b[0m\u001b[0;34m\u001b[0m\u001b[0;34m\u001b[0m\u001b[0m\n",
      "\u001b[0;32m/usr/local/lib/python3.7/dist-packages/tweepy/streaming.py\u001b[0m in \u001b[0;36m_read_loop\u001b[0;34m(self, resp)\u001b[0m\n\u001b[1;32m    337\u001b[0m             \u001b[0mlength\u001b[0m \u001b[0;34m=\u001b[0m \u001b[0;36m0\u001b[0m\u001b[0;34m\u001b[0m\u001b[0;34m\u001b[0m\u001b[0m\n\u001b[1;32m    338\u001b[0m             \u001b[0;32mwhile\u001b[0m \u001b[0;32mnot\u001b[0m \u001b[0mresp\u001b[0m\u001b[0;34m.\u001b[0m\u001b[0mraw\u001b[0m\u001b[0;34m.\u001b[0m\u001b[0mclosed\u001b[0m\u001b[0;34m:\u001b[0m\u001b[0;34m\u001b[0m\u001b[0;34m\u001b[0m\u001b[0m\n\u001b[0;32m--> 339\u001b[0;31m                 \u001b[0mline\u001b[0m \u001b[0;34m=\u001b[0m \u001b[0mbuf\u001b[0m\u001b[0;34m.\u001b[0m\u001b[0mread_line\u001b[0m\u001b[0;34m(\u001b[0m\u001b[0;34m)\u001b[0m\u001b[0;34m\u001b[0m\u001b[0;34m\u001b[0m\u001b[0m\n\u001b[0m\u001b[1;32m    340\u001b[0m                 \u001b[0mstripped_line\u001b[0m \u001b[0;34m=\u001b[0m \u001b[0mline\u001b[0m\u001b[0;34m.\u001b[0m\u001b[0mstrip\u001b[0m\u001b[0;34m(\u001b[0m\u001b[0;34m)\u001b[0m \u001b[0;32mif\u001b[0m \u001b[0mline\u001b[0m \u001b[0;32melse\u001b[0m \u001b[0mline\u001b[0m \u001b[0;31m# line is sometimes None so we need to check here\u001b[0m\u001b[0;34m\u001b[0m\u001b[0;34m\u001b[0m\u001b[0m\n\u001b[1;32m    341\u001b[0m                 \u001b[0;32mif\u001b[0m \u001b[0;32mnot\u001b[0m \u001b[0mstripped_line\u001b[0m\u001b[0;34m:\u001b[0m\u001b[0;34m\u001b[0m\u001b[0;34m\u001b[0m\u001b[0m\n",
      "\u001b[0;32m/usr/local/lib/python3.7/dist-packages/tweepy/streaming.py\u001b[0m in \u001b[0;36mread_line\u001b[0;34m(self, sep)\u001b[0m\n\u001b[1;32m    198\u001b[0m             \u001b[0;32melse\u001b[0m\u001b[0;34m:\u001b[0m\u001b[0;34m\u001b[0m\u001b[0;34m\u001b[0m\u001b[0m\n\u001b[1;32m    199\u001b[0m                 \u001b[0mstart\u001b[0m \u001b[0;34m=\u001b[0m \u001b[0mlen\u001b[0m\u001b[0;34m(\u001b[0m\u001b[0mself\u001b[0m\u001b[0;34m.\u001b[0m\u001b[0m_buffer\u001b[0m\u001b[0;34m)\u001b[0m\u001b[0;34m\u001b[0m\u001b[0;34m\u001b[0m\u001b[0m\n\u001b[0;32m--> 200\u001b[0;31m             \u001b[0mself\u001b[0m\u001b[0;34m.\u001b[0m\u001b[0m_buffer\u001b[0m \u001b[0;34m+=\u001b[0m \u001b[0mself\u001b[0m\u001b[0;34m.\u001b[0m\u001b[0m_stream\u001b[0m\u001b[0;34m.\u001b[0m\u001b[0mread\u001b[0m\u001b[0;34m(\u001b[0m\u001b[0mself\u001b[0m\u001b[0;34m.\u001b[0m\u001b[0m_chunk_size\u001b[0m\u001b[0;34m)\u001b[0m\u001b[0;34m\u001b[0m\u001b[0;34m\u001b[0m\u001b[0m\n\u001b[0m\u001b[1;32m    201\u001b[0m         \u001b[0;32mreturn\u001b[0m \u001b[0msix\u001b[0m\u001b[0;34m.\u001b[0m\u001b[0mb\u001b[0m\u001b[0;34m(\u001b[0m\u001b[0;34m''\u001b[0m\u001b[0;34m)\u001b[0m\u001b[0;34m\u001b[0m\u001b[0;34m\u001b[0m\u001b[0m\n\u001b[1;32m    202\u001b[0m \u001b[0;34m\u001b[0m\u001b[0m\n",
      "\u001b[0;32m/usr/local/lib/python3.7/dist-packages/urllib3/response.py\u001b[0m in \u001b[0;36mread\u001b[0;34m(self, amt, decode_content, cache_content)\u001b[0m\n\u001b[1;32m    459\u001b[0m                         \u001b[0;31m# raised during streaming, so all calls with incorrect\u001b[0m\u001b[0;34m\u001b[0m\u001b[0;34m\u001b[0m\u001b[0;34m\u001b[0m\u001b[0m\n\u001b[1;32m    460\u001b[0m                         \u001b[0;31m# Content-Length are caught.\u001b[0m\u001b[0;34m\u001b[0m\u001b[0;34m\u001b[0m\u001b[0;34m\u001b[0m\u001b[0m\n\u001b[0;32m--> 461\u001b[0;31m                         \u001b[0;32mraise\u001b[0m \u001b[0mIncompleteRead\u001b[0m\u001b[0;34m(\u001b[0m\u001b[0mself\u001b[0m\u001b[0;34m.\u001b[0m\u001b[0m_fp_bytes_read\u001b[0m\u001b[0;34m,\u001b[0m \u001b[0mself\u001b[0m\u001b[0;34m.\u001b[0m\u001b[0mlength_remaining\u001b[0m\u001b[0;34m)\u001b[0m\u001b[0;34m\u001b[0m\u001b[0;34m\u001b[0m\u001b[0m\n\u001b[0m\u001b[1;32m    462\u001b[0m \u001b[0;34m\u001b[0m\u001b[0m\n\u001b[1;32m    463\u001b[0m         \u001b[0;32mif\u001b[0m \u001b[0mdata\u001b[0m\u001b[0;34m:\u001b[0m\u001b[0;34m\u001b[0m\u001b[0;34m\u001b[0m\u001b[0m\n",
      "\u001b[0;32m/usr/lib/python3.7/contextlib.py\u001b[0m in \u001b[0;36m__exit__\u001b[0;34m(self, type, value, traceback)\u001b[0m\n\u001b[1;32m    128\u001b[0m                 \u001b[0mvalue\u001b[0m \u001b[0;34m=\u001b[0m \u001b[0mtype\u001b[0m\u001b[0;34m(\u001b[0m\u001b[0;34m)\u001b[0m\u001b[0;34m\u001b[0m\u001b[0;34m\u001b[0m\u001b[0m\n\u001b[1;32m    129\u001b[0m             \u001b[0;32mtry\u001b[0m\u001b[0;34m:\u001b[0m\u001b[0;34m\u001b[0m\u001b[0;34m\u001b[0m\u001b[0m\n\u001b[0;32m--> 130\u001b[0;31m                 \u001b[0mself\u001b[0m\u001b[0;34m.\u001b[0m\u001b[0mgen\u001b[0m\u001b[0;34m.\u001b[0m\u001b[0mthrow\u001b[0m\u001b[0;34m(\u001b[0m\u001b[0mtype\u001b[0m\u001b[0;34m,\u001b[0m \u001b[0mvalue\u001b[0m\u001b[0;34m,\u001b[0m \u001b[0mtraceback\u001b[0m\u001b[0;34m)\u001b[0m\u001b[0;34m\u001b[0m\u001b[0;34m\u001b[0m\u001b[0m\n\u001b[0m\u001b[1;32m    131\u001b[0m             \u001b[0;32mexcept\u001b[0m \u001b[0mStopIteration\u001b[0m \u001b[0;32mas\u001b[0m \u001b[0mexc\u001b[0m\u001b[0;34m:\u001b[0m\u001b[0;34m\u001b[0m\u001b[0;34m\u001b[0m\u001b[0m\n\u001b[1;32m    132\u001b[0m                 \u001b[0;31m# Suppress StopIteration *unless* it's the same exception that\u001b[0m\u001b[0;34m\u001b[0m\u001b[0;34m\u001b[0m\u001b[0;34m\u001b[0m\u001b[0m\n",
      "\u001b[0;32m/usr/local/lib/python3.7/dist-packages/urllib3/response.py\u001b[0m in \u001b[0;36m_error_catcher\u001b[0;34m(self)\u001b[0m\n\u001b[1;32m    378\u001b[0m             \u001b[0;32mexcept\u001b[0m \u001b[0;34m(\u001b[0m\u001b[0mHTTPException\u001b[0m\u001b[0;34m,\u001b[0m \u001b[0mSocketError\u001b[0m\u001b[0;34m)\u001b[0m \u001b[0;32mas\u001b[0m \u001b[0me\u001b[0m\u001b[0;34m:\u001b[0m\u001b[0;34m\u001b[0m\u001b[0;34m\u001b[0m\u001b[0m\n\u001b[1;32m    379\u001b[0m                 \u001b[0;31m# This includes IncompleteRead.\u001b[0m\u001b[0;34m\u001b[0m\u001b[0;34m\u001b[0m\u001b[0;34m\u001b[0m\u001b[0m\n\u001b[0;32m--> 380\u001b[0;31m                 \u001b[0;32mraise\u001b[0m \u001b[0mProtocolError\u001b[0m\u001b[0;34m(\u001b[0m\u001b[0;34m'Connection broken: %r'\u001b[0m \u001b[0;34m%\u001b[0m \u001b[0me\u001b[0m\u001b[0;34m,\u001b[0m \u001b[0me\u001b[0m\u001b[0;34m)\u001b[0m\u001b[0;34m\u001b[0m\u001b[0;34m\u001b[0m\u001b[0m\n\u001b[0m\u001b[1;32m    381\u001b[0m \u001b[0;34m\u001b[0m\u001b[0m\n\u001b[1;32m    382\u001b[0m             \u001b[0;31m# If no exception is thrown, we should avoid cleaning up\u001b[0m\u001b[0;34m\u001b[0m\u001b[0;34m\u001b[0m\u001b[0;34m\u001b[0m\u001b[0m\n",
      "\u001b[0;31mProtocolError\u001b[0m: (\"Connection broken: ConnectionResetError(104, 'Connection reset by peer')\", ConnectionResetError(104, 'Connection reset by peer'))"
     ]
    }
   ],
   "source": [
    "from tweepy.streaming import StreamListener\n",
    "from tweepy import OAuthHandler\n",
    "from tweepy import Stream\n",
    "import json\n",
    "\n",
    "consumer_key=\"\"\n",
    "consumer_secret=\"\"\n",
    "access_token=\"\"\n",
    "access_token_secret=\"\"\n",
    "\n",
    "\n",
    "class StdOutListener(StreamListener):\n",
    "        \n",
    "        #This function gets called every time a new tweet is received on the stream\n",
    "    def on_data(self, data):\n",
    "          \n",
    "          fhOut.write(data)\n",
    "                \n",
    "                #Convert the data to a json object (shouldn't do this in production; might slow down and miss tweets)\n",
    "          j=json.loads(data)\n",
    "\n",
    "                \n",
    "          text=j[\"text\"] #The text of the tweet\n",
    "          print(text) #Print it out\n",
    "           \n",
    "\n",
    "    def on_error(self, status):\n",
    "        print(\"ERROR\")\n",
    "        print(status)\n",
    "\n",
    "if __name__ == '__main__':\n",
    "        try:\n",
    "                #Create a file to store output. \"a\" means append (add on to previous file)\n",
    "                fhOut = open(\"output.json\",\"a\")\n",
    "\n",
    "                #Create the listener\n",
    "                l = StdOutListener()\n",
    "                auth = OAuthHandler(consumer_key, consumer_secret)\n",
    "                auth.set_access_token(access_token, access_token_secret)\n",
    "\n",
    "                #Connect to the Twitter stream\n",
    "                stream = Stream(auth, l)        \n",
    "\n",
    "                #Terms to track\n",
    "                stream.filter(track=[\"india\"], languages=[\"en\"])\n",
    "                \n",
    "                #Alternatively, location box  for geotagged tweets\n",
    "                #stream.filter(locations=[-0.530, 51.322, 0.231, 51.707])\n",
    "\n",
    "        except KeyboardInterrupt:\n",
    "                #User pressed ctrl+c -- get ready to exit the program\n",
    "                pass\n",
    "\n",
    "        #Close the \n",
    "        fhOut.close()\n"
   ]
  },
  {
   "cell_type": "code",
   "execution_count": 1,
   "metadata": {
    "colab": {
     "base_uri": "https://localhost:8080/"
    },
    "id": "3D9YacOUx0dG",
    "outputId": "8e0c177b-318e-496b-bb3f-ee7c64701821"
   },
   "outputs": [
    {
     "data": {
      "text/plain": [
       "3282"
      ]
     },
     "execution_count": 1,
     "metadata": {},
     "output_type": "execute_result"
    }
   ],
   "source": [
    "import json\n",
    "tweets = []\n",
    "for line in open('output (4).json', 'r'):\n",
    "    tweets.append(json.loads(line)[\"text\"])\n",
    "#print(tweets[:10])\n",
    "\n",
    "type(tweets[2])\n",
    "tweets[9]\n",
    "\n",
    "len(tweets)"
   ]
  },
  {
   "cell_type": "code",
   "execution_count": 2,
   "metadata": {
    "colab": {
     "base_uri": "https://localhost:8080/",
     "height": 406
    },
    "id": "kyon9EL_S_-h",
    "outputId": "899f0054-6ed7-40cb-8609-f812016bee7a"
   },
   "outputs": [
    {
     "data": {
      "text/html": [
       "<div>\n",
       "<style scoped>\n",
       "    .dataframe tbody tr th:only-of-type {\n",
       "        vertical-align: middle;\n",
       "    }\n",
       "\n",
       "    .dataframe tbody tr th {\n",
       "        vertical-align: top;\n",
       "    }\n",
       "\n",
       "    .dataframe thead th {\n",
       "        text-align: right;\n",
       "    }\n",
       "</style>\n",
       "<table border=\"1\" class=\"dataframe\">\n",
       "  <thead>\n",
       "    <tr style=\"text-align: right;\">\n",
       "      <th></th>\n",
       "      <th>Tweets</th>\n",
       "    </tr>\n",
       "  </thead>\n",
       "  <tbody>\n",
       "    <tr>\n",
       "      <th>0</th>\n",
       "      <td>RT @Joydas: When Is the Last Election Rally of...</td>\n",
       "    </tr>\n",
       "    <tr>\n",
       "      <th>1</th>\n",
       "      <td>RT @abir_1729: #cancelboardexam2021\\n#cancelbo...</td>\n",
       "    </tr>\n",
       "    <tr>\n",
       "      <th>2</th>\n",
       "      <td>RT @LiveLawIndia: Can Centre Intervene If A St...</td>\n",
       "    </tr>\n",
       "    <tr>\n",
       "      <th>3</th>\n",
       "      <td>RT @soompi: #GOT7's #BamBam Pauses Activities ...</td>\n",
       "    </tr>\n",
       "    <tr>\n",
       "      <th>4</th>\n",
       "      <td>RT @NagpurKaRajini: So Covid in Maharashtra sp...</td>\n",
       "    </tr>\n",
       "    <tr>\n",
       "      <th>...</th>\n",
       "      <td>...</td>\n",
       "    </tr>\n",
       "    <tr>\n",
       "      <th>995</th>\n",
       "      <td>Maha-Kumbh Mela Vs Tablighi Jamaat: Not Compar...</td>\n",
       "    </tr>\n",
       "    <tr>\n",
       "      <th>996</th>\n",
       "      <td>RT @Pritam68450622: #postponeneetpg \\nCbse iaf...</td>\n",
       "    </tr>\n",
       "    <tr>\n",
       "      <th>997</th>\n",
       "      <td>Where are thier keeping Negative Covid-19 repo...</td>\n",
       "    </tr>\n",
       "    <tr>\n",
       "      <th>998</th>\n",
       "      <td>RT @dinesh_sir: Thanks for taking decisions fo...</td>\n",
       "    </tr>\n",
       "    <tr>\n",
       "      <th>999</th>\n",
       "      <td>RT @Shehzad_Ind: Several people of a particula...</td>\n",
       "    </tr>\n",
       "  </tbody>\n",
       "</table>\n",
       "<p>1000 rows × 1 columns</p>\n",
       "</div>"
      ],
      "text/plain": [
       "                                                Tweets\n",
       "0    RT @Joydas: When Is the Last Election Rally of...\n",
       "1    RT @abir_1729: #cancelboardexam2021\\n#cancelbo...\n",
       "2    RT @LiveLawIndia: Can Centre Intervene If A St...\n",
       "3    RT @soompi: #GOT7's #BamBam Pauses Activities ...\n",
       "4    RT @NagpurKaRajini: So Covid in Maharashtra sp...\n",
       "..                                                 ...\n",
       "995  Maha-Kumbh Mela Vs Tablighi Jamaat: Not Compar...\n",
       "996  RT @Pritam68450622: #postponeneetpg \\nCbse iaf...\n",
       "997  Where are thier keeping Negative Covid-19 repo...\n",
       "998  RT @dinesh_sir: Thanks for taking decisions fo...\n",
       "999  RT @Shehzad_Ind: Several people of a particula...\n",
       "\n",
       "[1000 rows x 1 columns]"
      ]
     },
     "execution_count": 2,
     "metadata": {},
     "output_type": "execute_result"
    }
   ],
   "source": [
    "import pandas as pd\n",
    "\n",
    "df = pd.DataFrame(tweets, columns=['Tweets'])\n",
    "df.head(1000)\n",
    "#data_text = df.Tweets"
   ]
  },
  {
   "cell_type": "code",
   "execution_count": 3,
   "metadata": {
    "id": "Z7H0WhYraCyS"
   },
   "outputs": [],
   "source": [
    "data_text = df.Tweets.tolist()"
   ]
  },
  {
   "cell_type": "code",
   "execution_count": null,
   "metadata": {
    "id": "fm3ZkFSp0zel"
   },
   "outputs": [],
   "source": []
  },
  {
   "cell_type": "code",
   "execution_count": 4,
   "metadata": {
    "colab": {
     "base_uri": "https://localhost:8080/"
    },
    "id": "NLnXbafO26ZV",
    "outputId": "125eea34-9dd3-41e6-ac1d-cbc04d5d1194"
   },
   "outputs": [
    {
     "name": "stderr",
     "output_type": "stream",
     "text": [
      "[nltk_data] Downloading package punkt to\n",
      "[nltk_data]     C:\\Users\\Admin\\AppData\\Roaming\\nltk_data...\n",
      "[nltk_data]   Package punkt is already up-to-date!\n"
     ]
    },
    {
     "data": {
      "text/plain": [
       "True"
      ]
     },
     "execution_count": 4,
     "metadata": {},
     "output_type": "execute_result"
    }
   ],
   "source": [
    "import nltk\n",
    "nltk.download('punkt')"
   ]
  },
  {
   "cell_type": "code",
   "execution_count": 5,
   "metadata": {
    "colab": {
     "base_uri": "https://localhost:8080/"
    },
    "id": "XQ_2_Rrc3BwG",
    "outputId": "e2e7c125-c048-4191-c067-98d40e3c330b"
   },
   "outputs": [
    {
     "name": "stderr",
     "output_type": "stream",
     "text": [
      "[nltk_data] Downloading package averaged_perceptron_tagger to\n",
      "[nltk_data]     C:\\Users\\Admin\\AppData\\Roaming\\nltk_data...\n",
      "[nltk_data]   Package averaged_perceptron_tagger is already up-to-\n",
      "[nltk_data]       date!\n"
     ]
    },
    {
     "data": {
      "text/plain": [
       "True"
      ]
     },
     "execution_count": 5,
     "metadata": {},
     "output_type": "execute_result"
    }
   ],
   "source": [
    "nltk.download('averaged_perceptron_tagger')"
   ]
  },
  {
   "cell_type": "code",
   "execution_count": 6,
   "metadata": {
    "id": "kxq6EtE-S1XO"
   },
   "outputs": [],
   "source": [
    "#tweets['new'] = tweets.apply(lambda x: re.sub(r\"http\\S+\", \"\", x))\n",
    "from nltk.stem.porter import *\n",
    "import nltk\n",
    "import numpy as np\n",
    "df['new'] = df['Tweets'].apply(lambda x: re.sub(r\"http\\S+\", \"\", x))\n",
    "\n",
    "\n",
    "#  Removing Twitter Handles (@user)\n",
    "def remove_pattern(input_txt, pattern):\n",
    "    r = re.findall(pattern, input_txt)\n",
    "    for i in r:\n",
    "        input_txt = re.sub(i, '', input_txt)\n",
    "        \n",
    "    return input_txt    \n",
    "\n",
    "\n",
    "\n",
    "# remove twitter handles (@user)\n",
    "df['tidy_text'] = np.vectorize(remove_pattern)(df['new'], \"@[\\w]*\")\n",
    "\n",
    "\n",
    "\n",
    "# remove special characters, numbers, punctuations\n",
    "df['tidy_text'] = df['tidy_text'].str.replace(\"[^a-zA-Z#]\", \" \")\n",
    "\n",
    " # Removing Short Words     \n",
    "df['tidy_text'] = df['tidy_text'].apply(lambda x: ' '.join([w for w in x.split() if len(w)>3]))\n",
    "\n",
    "\n",
    "\n",
    "# Tokenization\n",
    "tweets = df.values.tolist()\n",
    "df['tok'] = df['tidy_text'].apply(lambda x: nltk.word_tokenize(x))\n",
    "\n",
    "\n",
    "noun = []   \n",
    "#for  index, row in tweets.iterrows():\n",
    "for pos, row in df.iterrows():\n",
    "    noun.append([word for word,pos in nltk.pos_tag(row['tok']) if pos == 'NN' or pos =='NNP' or pos == 'NNS' or pos == 'NNPS'])\n",
    "    \n",
    "    \n",
    "df['nouns'] = noun\n",
    "\n",
    "\n",
    "\n",
    "\n",
    "\n",
    "tokenized_tweet = df['nouns']\n",
    "\n",
    "\n",
    "\n",
    "# Stemming\n",
    "\n",
    "stemmer = PorterStemmer()\n",
    "\n",
    "tokenized_tweet = tokenized_tweet.apply(lambda x: [stemmer.stem(i) for i in x]) \n",
    "\n",
    "\n",
    "\n",
    "docs = tokenized_tweet.tolist()\n",
    "\n",
    "vocab = set( x for doc in docs for x in doc)\n",
    "n_terms = len(vocab)\n",
    "\n"
   ]
  },
  {
   "cell_type": "code",
   "execution_count": null,
   "metadata": {
    "id": "qHUSKZ7WJzOb"
   },
   "outputs": [],
   "source": []
  },
  {
   "cell_type": "code",
   "execution_count": 7,
   "metadata": {
    "colab": {
     "base_uri": "https://localhost:8080/"
    },
    "id": "EqgUmVrXx6u4",
    "outputId": "227702d7-58a3-4434-eb53-496fb402a783"
   },
   "outputs": [
    {
     "data": {
      "text/plain": [
       "(2114,)"
      ]
     },
     "execution_count": 7,
     "metadata": {},
     "output_type": "execute_result"
    }
   ],
   "source": [
    "df.Tweets.unique().shape\n"
   ]
  },
  {
   "cell_type": "code",
   "execution_count": 8,
   "metadata": {
    "colab": {
     "base_uri": "https://localhost:8080/",
     "height": 347
    },
    "id": "jxzc4hCVyBVU",
    "outputId": "fa85e3d7-4845-4be3-90ab-6b33871a4afe"
   },
   "outputs": [
    {
     "data": {
      "text/html": [
       "<div>\n",
       "<style scoped>\n",
       "    .dataframe tbody tr th:only-of-type {\n",
       "        vertical-align: middle;\n",
       "    }\n",
       "\n",
       "    .dataframe tbody tr th {\n",
       "        vertical-align: top;\n",
       "    }\n",
       "\n",
       "    .dataframe thead th {\n",
       "        text-align: right;\n",
       "    }\n",
       "</style>\n",
       "<table border=\"1\" class=\"dataframe\">\n",
       "  <thead>\n",
       "    <tr style=\"text-align: right;\">\n",
       "      <th></th>\n",
       "      <th>Tweets</th>\n",
       "      <th>counts</th>\n",
       "    </tr>\n",
       "  </thead>\n",
       "  <tbody>\n",
       "    <tr>\n",
       "      <th>1249</th>\n",
       "      <td>RT @SonuSood: C:   Cancel \\nB:   Board’s \\nS: ...</td>\n",
       "      <td>255</td>\n",
       "    </tr>\n",
       "    <tr>\n",
       "      <th>1322</th>\n",
       "      <td>RT @TrendPSPK: Friends,\\n\\nEMERGENCY REQUIREME...</td>\n",
       "      <td>38</td>\n",
       "    </tr>\n",
       "    <tr>\n",
       "      <th>1696</th>\n",
       "      <td>RT @nidhiindiatv: Delhi CM @ArvindKejriwal req...</td>\n",
       "      <td>34</td>\n",
       "    </tr>\n",
       "    <tr>\n",
       "      <th>1883</th>\n",
       "      <td>RT @trolllikebroo: Delhi CM comes out in suppo...</td>\n",
       "      <td>19</td>\n",
       "    </tr>\n",
       "    <tr>\n",
       "      <th>789</th>\n",
       "      <td>RT @DipshikhaGhosh: Please, please wear masks....</td>\n",
       "      <td>19</td>\n",
       "    </tr>\n",
       "    <tr>\n",
       "      <th>1499</th>\n",
       "      <td>RT @dinesh_sir: Thanks for taking decisions fo...</td>\n",
       "      <td>19</td>\n",
       "    </tr>\n",
       "    <tr>\n",
       "      <th>1598</th>\n",
       "      <td>RT @johnfraher: 💉Vaccine Tracker Update-April ...</td>\n",
       "      <td>16</td>\n",
       "    </tr>\n",
       "    <tr>\n",
       "      <th>1025</th>\n",
       "      <td>RT @MahuaMoitra: At Kumbh, Covid guard slips: ...</td>\n",
       "      <td>15</td>\n",
       "    </tr>\n",
       "    <tr>\n",
       "      <th>1622</th>\n",
       "      <td>RT @latokens: Cities for the post-COVID future...</td>\n",
       "      <td>15</td>\n",
       "    </tr>\n",
       "    <tr>\n",
       "      <th>1580</th>\n",
       "      <td>RT @imchandanRay: Gov’t should be held respons...</td>\n",
       "      <td>14</td>\n",
       "    </tr>\n",
       "  </tbody>\n",
       "</table>\n",
       "</div>"
      ],
      "text/plain": [
       "                                                 Tweets  counts\n",
       "1249  RT @SonuSood: C:   Cancel \\nB:   Board’s \\nS: ...     255\n",
       "1322  RT @TrendPSPK: Friends,\\n\\nEMERGENCY REQUIREME...      38\n",
       "1696  RT @nidhiindiatv: Delhi CM @ArvindKejriwal req...      34\n",
       "1883  RT @trolllikebroo: Delhi CM comes out in suppo...      19\n",
       "789   RT @DipshikhaGhosh: Please, please wear masks....      19\n",
       "1499  RT @dinesh_sir: Thanks for taking decisions fo...      19\n",
       "1598  RT @johnfraher: 💉Vaccine Tracker Update-April ...      16\n",
       "1025  RT @MahuaMoitra: At Kumbh, Covid guard slips: ...      15\n",
       "1622  RT @latokens: Cities for the post-COVID future...      15\n",
       "1580  RT @imchandanRay: Gov’t should be held respons...      14"
      ]
     },
     "execution_count": 8,
     "metadata": {},
     "output_type": "execute_result"
    }
   ],
   "source": [
    "df['is_retweet'] = df['Tweets'].apply(lambda x: x[:2]=='RT')\n",
    "df['is_retweet'].sum()  # number of retweets\n",
    "\n",
    "df.loc[df['is_retweet']].Tweets.unique().size\n",
    "\n",
    "df.groupby(['Tweets']).size().reset_index(name='counts')\\\n",
    "  .sort_values('counts', ascending=False).head(10)\n"
   ]
  },
  {
   "cell_type": "code",
   "execution_count": 9,
   "metadata": {
    "colab": {
     "base_uri": "https://localhost:8080/",
     "height": 278
    },
    "id": "5efbTa0tyEpU",
    "outputId": "2249f1e0-a78c-4c0b-ede9-471ac782df68"
   },
   "outputs": [
    {
     "data": {
      "image/png": "[encoded data removed]",
      "text/plain": [
       "<Figure size 432x288 with 1 Axes>"
      ]
     },
     "metadata": {
      "needs_background": "light"
     },
     "output_type": "display_data"
    }
   ],
   "source": [
    "import numpy as np\n",
    "import matplotlib.pyplot as plt\n",
    "counts = df.groupby(['Tweets']).size()\\\n",
    "           .reset_index(name='counts')\\\n",
    "           .counts\n",
    "\n",
    "# define bins for histogram\n",
    "my_bins = np.arange(0,counts.max()+2, 1)-0.5\n",
    "\n",
    "# plot histogram of tweet counts\n",
    "plt.figure()\n",
    "plt.hist(counts, bins = my_bins)\n",
    "plt.xlabels = np.arange(1,counts.max()+1, 1)\n",
    "plt.xlabel('copies of each tweet')\n",
    "plt.ylabel('frequency')\n",
    "plt.yscale('log', nonposy='clip')\n",
    "plt.show()"
   ]
  },
  {
   "cell_type": "code",
   "execution_count": 10,
   "metadata": {
    "id": "DDKRe5vKyH9r"
   },
   "outputs": [],
   "source": [
    "def find_retweeted(tweet):\n",
    "    '''This function will extract the twitter handles of retweed people'''\n",
    "    return re.findall('(?<=RT\\s)(@[A-Za-z]+[A-Za-z0-9-_]+)', tweet)\n",
    "\n",
    "def find_mentioned(tweet):\n",
    "    '''This function will extract the twitter handles of people mentioned in the tweet'''\n",
    "    return re.findall('(?<!RT\\s)(@[A-Za-z]+[A-Za-z0-9-_]+)', tweet)  \n",
    "\n",
    "def find_hashtags(tweet):\n",
    "    '''This function will extract hashtags'''\n",
    "    return re.findall('(#[A-Za-z]+[A-Za-z0-9-_]+)', tweet)\n"
   ]
  },
  {
   "cell_type": "code",
   "execution_count": 13,
   "metadata": {},
   "outputs": [],
   "source": [
    "df['retweeted'] = df.Tweets.apply(find_retweeted)\n",
    "df['mentioned'] = df.Tweets.apply(find_mentioned)\n",
    "df['hashtags'] = df.Tweets.apply(find_hashtags)"
   ]
  },
  {
   "cell_type": "code",
   "execution_count": 14,
   "metadata": {
    "colab": {
     "base_uri": "https://localhost:8080/",
     "height": 1000
    },
    "id": "I8dH3Qt3yOEa",
    "outputId": "02ef2fd9-919a-4612-f452-a497cae9dfb0"
   },
   "outputs": [
    {
     "data": {
      "text/html": [
       "<div>\n",
       "<style scoped>\n",
       "    .dataframe tbody tr th:only-of-type {\n",
       "        vertical-align: middle;\n",
       "    }\n",
       "\n",
       "    .dataframe tbody tr th {\n",
       "        vertical-align: top;\n",
       "    }\n",
       "\n",
       "    .dataframe thead th {\n",
       "        text-align: right;\n",
       "    }\n",
       "</style>\n",
       "<table border=\"1\" class=\"dataframe\">\n",
       "  <thead>\n",
       "    <tr style=\"text-align: right;\">\n",
       "      <th></th>\n",
       "      <th>Tweets</th>\n",
       "      <th>new</th>\n",
       "      <th>tidy_text</th>\n",
       "      <th>tok</th>\n",
       "      <th>nouns</th>\n",
       "      <th>is_retweet</th>\n",
       "      <th>retweeted</th>\n",
       "      <th>mentioned</th>\n",
       "      <th>hashtags</th>\n",
       "    </tr>\n",
       "  </thead>\n",
       "  <tbody>\n",
       "    <tr>\n",
       "      <th>0</th>\n",
       "      <td>RT @Joydas: When Is the Last Election Rally of...</td>\n",
       "      <td>RT @Joydas: When Is the Last Election Rally of...</td>\n",
       "      <td>When Last Election Rally Narendra Modi West Be...</td>\n",
       "      <td>[When, Last, Election, Rally, Narendra, Modi, ...</td>\n",
       "      <td>[Election, Rally, Narendra, Modi, West, Bengal...</td>\n",
       "      <td>True</td>\n",
       "      <td>[@Joydas]</td>\n",
       "      <td>[]</td>\n",
       "      <td>[]</td>\n",
       "    </tr>\n",
       "    <tr>\n",
       "      <th>1</th>\n",
       "      <td>RT @abir_1729: #cancelboardexam2021\\n#cancelbo...</td>\n",
       "      <td>RT @abir_1729: #cancelboardexam2021\\n#cancelbo...</td>\n",
       "      <td>#cancelboardexam #cancelboardexams students co...</td>\n",
       "      <td>[#, cancelboardexam, #, cancelboardexams, stud...</td>\n",
       "      <td>[cancelboardexam, students, exam, dates]</td>\n",
       "      <td>True</td>\n",
       "      <td>[@abir_1729]</td>\n",
       "      <td>[]</td>\n",
       "      <td>[#cancelboardexam2021, #cancelboardexams2021]</td>\n",
       "    </tr>\n",
       "    <tr>\n",
       "      <th>2</th>\n",
       "      <td>RT @LiveLawIndia: Can Centre Intervene If A St...</td>\n",
       "      <td>RT @LiveLawIndia: Can Centre Intervene If A St...</td>\n",
       "      <td>Centre Intervene State Doing Well High Court A...</td>\n",
       "      <td>[Centre, Intervene, State, Doing, Well, High, ...</td>\n",
       "      <td>[Centre, Intervene, State, Doing, Well, High, ...</td>\n",
       "      <td>True</td>\n",
       "      <td>[@LiveLawIndia]</td>\n",
       "      <td>[]</td>\n",
       "      <td>[]</td>\n",
       "    </tr>\n",
       "    <tr>\n",
       "      <th>3</th>\n",
       "      <td>RT @soompi: #GOT7's #BamBam Pauses Activities ...</td>\n",
       "      <td>RT @soompi: #GOT7's #BamBam Pauses Activities ...</td>\n",
       "      <td>#GOT #BamBam Pauses Activities After Staff Mem...</td>\n",
       "      <td>[#, GOT, #, BamBam, Pauses, Activities, After,...</td>\n",
       "      <td>[GOT, BamBam, Pauses, Activities, Staff, Membe...</td>\n",
       "      <td>True</td>\n",
       "      <td>[@soompi]</td>\n",
       "      <td>[]</td>\n",
       "      <td>[#GOT7, #BamBam]</td>\n",
       "    </tr>\n",
       "    <tr>\n",
       "      <th>4</th>\n",
       "      <td>RT @NagpurKaRajini: So Covid in Maharashtra sp...</td>\n",
       "      <td>RT @NagpurKaRajini: So Covid in Maharashtra sp...</td>\n",
       "      <td>Covid Maharashtra spread because Modi rally We...</td>\n",
       "      <td>[Covid, Maharashtra, spread, because, Modi, ra...</td>\n",
       "      <td>[Covid, Maharashtra, spread, Modi, West, Benga...</td>\n",
       "      <td>True</td>\n",
       "      <td>[@NagpurKaRajini]</td>\n",
       "      <td>[]</td>\n",
       "      <td>[]</td>\n",
       "    </tr>\n",
       "    <tr>\n",
       "      <th>5</th>\n",
       "      <td>UK economy returns to growth despite Covid res...</td>\n",
       "      <td>UK economy returns to growth despite Covid res...</td>\n",
       "      <td>economy returns growth despite Covid restrictions</td>\n",
       "      <td>[economy, returns, growth, despite, Covid, res...</td>\n",
       "      <td>[economy, growth, Covid, restrictions]</td>\n",
       "      <td>False</td>\n",
       "      <td>[]</td>\n",
       "      <td>[]</td>\n",
       "      <td>[]</td>\n",
       "    </tr>\n",
       "    <tr>\n",
       "      <th>6</th>\n",
       "      <td>RT @PGaspirant7: #postponeneetpg \\n@profplal\\n...</td>\n",
       "      <td>RT @PGaspirant7: #postponeneetpg \\n@profplal\\n...</td>\n",
       "      <td>#postponeneetpg Covid stay here long Surge wil...</td>\n",
       "      <td>[#, postponeneetpg, Covid, stay, here, long, S...</td>\n",
       "      <td>[postponeneetpg, Covid, stay, Surge, wait, Surge]</td>\n",
       "      <td>True</td>\n",
       "      <td>[@PGaspirant7]</td>\n",
       "      <td>[@profplal]</td>\n",
       "      <td>[#postponeneetpg]</td>\n",
       "    </tr>\n",
       "    <tr>\n",
       "      <th>7</th>\n",
       "      <td>RT @dinesh_sir: Thanks for taking decisions fo...</td>\n",
       "      <td>RT @dinesh_sir: Thanks for taking decisions fo...</td>\n",
       "      <td>Thanks taking decisions safety students please...</td>\n",
       "      <td>[Thanks, taking, decisions, safety, students, ...</td>\n",
       "      <td>[Thanks, decisions, safety, students, picture,...</td>\n",
       "      <td>True</td>\n",
       "      <td>[@dinesh_sir]</td>\n",
       "      <td>[]</td>\n",
       "      <td>[]</td>\n",
       "    </tr>\n",
       "    <tr>\n",
       "      <th>8</th>\n",
       "      <td>RT @Nher_who: Now that India is facing Second ...</td>\n",
       "      <td>RT @Nher_who: Now that India is facing Second ...</td>\n",
       "      <td>that India facing Second COVID wave Lets Hope ...</td>\n",
       "      <td>[that, India, facing, Second, COVID, wave, Let...</td>\n",
       "      <td>[India, Second, COVID, Lets, Hope, funds, name...</td>\n",
       "      <td>True</td>\n",
       "      <td>[@Nher_who]</td>\n",
       "      <td>[]</td>\n",
       "      <td>[]</td>\n",
       "    </tr>\n",
       "    <tr>\n",
       "      <th>9</th>\n",
       "      <td>RT @abcnews: Thousands of vulnerable Australia...</td>\n",
       "      <td>RT @abcnews: Thousands of vulnerable Australia...</td>\n",
       "      <td>Thousands vulnerable Australians anxiously wai...</td>\n",
       "      <td>[Thousands, vulnerable, Australians, anxiously...</td>\n",
       "      <td>[Thousands, Australians, COVID, vaccine]</td>\n",
       "      <td>True</td>\n",
       "      <td>[@abcnews]</td>\n",
       "      <td>[]</td>\n",
       "      <td>[]</td>\n",
       "    </tr>\n",
       "  </tbody>\n",
       "</table>\n",
       "</div>"
      ],
      "text/plain": [
       "                                              Tweets  \\\n",
       "0  RT @Joydas: When Is the Last Election Rally of...   \n",
       "1  RT @abir_1729: #cancelboardexam2021\\n#cancelbo...   \n",
       "2  RT @LiveLawIndia: Can Centre Intervene If A St...   \n",
       "3  RT @soompi: #GOT7's #BamBam Pauses Activities ...   \n",
       "4  RT @NagpurKaRajini: So Covid in Maharashtra sp...   \n",
       "5  UK economy returns to growth despite Covid res...   \n",
       "6  RT @PGaspirant7: #postponeneetpg \\n@profplal\\n...   \n",
       "7  RT @dinesh_sir: Thanks for taking decisions fo...   \n",
       "8  RT @Nher_who: Now that India is facing Second ...   \n",
       "9  RT @abcnews: Thousands of vulnerable Australia...   \n",
       "\n",
       "                                                 new  \\\n",
       "0  RT @Joydas: When Is the Last Election Rally of...   \n",
       "1  RT @abir_1729: #cancelboardexam2021\\n#cancelbo...   \n",
       "2  RT @LiveLawIndia: Can Centre Intervene If A St...   \n",
       "3  RT @soompi: #GOT7's #BamBam Pauses Activities ...   \n",
       "4  RT @NagpurKaRajini: So Covid in Maharashtra sp...   \n",
       "5  UK economy returns to growth despite Covid res...   \n",
       "6  RT @PGaspirant7: #postponeneetpg \\n@profplal\\n...   \n",
       "7  RT @dinesh_sir: Thanks for taking decisions fo...   \n",
       "8  RT @Nher_who: Now that India is facing Second ...   \n",
       "9  RT @abcnews: Thousands of vulnerable Australia...   \n",
       "\n",
       "                                           tidy_text  \\\n",
       "0  When Last Election Rally Narendra Modi West Be...   \n",
       "1  #cancelboardexam #cancelboardexams students co...   \n",
       "2  Centre Intervene State Doing Well High Court A...   \n",
       "3  #GOT #BamBam Pauses Activities After Staff Mem...   \n",
       "4  Covid Maharashtra spread because Modi rally We...   \n",
       "5  economy returns growth despite Covid restrictions   \n",
       "6  #postponeneetpg Covid stay here long Surge wil...   \n",
       "7  Thanks taking decisions safety students please...   \n",
       "8  that India facing Second COVID wave Lets Hope ...   \n",
       "9  Thousands vulnerable Australians anxiously wai...   \n",
       "\n",
       "                                                 tok  \\\n",
       "0  [When, Last, Election, Rally, Narendra, Modi, ...   \n",
       "1  [#, cancelboardexam, #, cancelboardexams, stud...   \n",
       "2  [Centre, Intervene, State, Doing, Well, High, ...   \n",
       "3  [#, GOT, #, BamBam, Pauses, Activities, After,...   \n",
       "4  [Covid, Maharashtra, spread, because, Modi, ra...   \n",
       "5  [economy, returns, growth, despite, Covid, res...   \n",
       "6  [#, postponeneetpg, Covid, stay, here, long, S...   \n",
       "7  [Thanks, taking, decisions, safety, students, ...   \n",
       "8  [that, India, facing, Second, COVID, wave, Let...   \n",
       "9  [Thousands, vulnerable, Australians, anxiously...   \n",
       "\n",
       "                                               nouns  is_retweet  \\\n",
       "0  [Election, Rally, Narendra, Modi, West, Bengal...        True   \n",
       "1           [cancelboardexam, students, exam, dates]        True   \n",
       "2  [Centre, Intervene, State, Doing, Well, High, ...        True   \n",
       "3  [GOT, BamBam, Pauses, Activities, Staff, Membe...        True   \n",
       "4  [Covid, Maharashtra, spread, Modi, West, Benga...        True   \n",
       "5             [economy, growth, Covid, restrictions]       False   \n",
       "6  [postponeneetpg, Covid, stay, Surge, wait, Surge]        True   \n",
       "7  [Thanks, decisions, safety, students, picture,...        True   \n",
       "8  [India, Second, COVID, Lets, Hope, funds, name...        True   \n",
       "9           [Thousands, Australians, COVID, vaccine]        True   \n",
       "\n",
       "           retweeted    mentioned  \\\n",
       "0          [@Joydas]           []   \n",
       "1       [@abir_1729]           []   \n",
       "2    [@LiveLawIndia]           []   \n",
       "3          [@soompi]           []   \n",
       "4  [@NagpurKaRajini]           []   \n",
       "5                 []           []   \n",
       "6     [@PGaspirant7]  [@profplal]   \n",
       "7      [@dinesh_sir]           []   \n",
       "8        [@Nher_who]           []   \n",
       "9         [@abcnews]           []   \n",
       "\n",
       "                                        hashtags  \n",
       "0                                             []  \n",
       "1  [#cancelboardexam2021, #cancelboardexams2021]  \n",
       "2                                             []  \n",
       "3                               [#GOT7, #BamBam]  \n",
       "4                                             []  \n",
       "5                                             []  \n",
       "6                              [#postponeneetpg]  \n",
       "7                                             []  \n",
       "8                                             []  \n",
       "9                                             []  "
      ]
     },
     "execution_count": 14,
     "metadata": {},
     "output_type": "execute_result"
    }
   ],
   "source": [
    "df[:10]\n"
   ]
  },
  {
   "cell_type": "code",
   "execution_count": 16,
   "metadata": {
    "id": "7K6JXsya1aZC"
   },
   "outputs": [],
   "source": [
    "hashtags_list_df = df.loc[\n",
    "                       df.hashtags.apply(\n",
    "                           lambda hashtags_list: hashtags_list !=[]\n",
    "                       ),['hashtags']]\n",
    "\n",
    "flattened_hashtags_df = pd.DataFrame(\n",
    "    [hashtag for hashtags_list in hashtags_list_df.hashtags\n",
    "    for hashtag in hashtags_list],\n",
    "    columns=['hashtag'])\n"
   ]
  },
  {
   "cell_type": "code",
   "execution_count": 17,
   "metadata": {
    "colab": {
     "base_uri": "https://localhost:8080/",
     "height": 347
    },
    "id": "an7ZN-Bo1dj6",
    "outputId": "d477fe7c-5519-4fba-ebb0-53033397d4b9"
   },
   "outputs": [
    {
     "data": {
      "text/html": [
       "<div>\n",
       "<style scoped>\n",
       "    .dataframe tbody tr th:only-of-type {\n",
       "        vertical-align: middle;\n",
       "    }\n",
       "\n",
       "    .dataframe tbody tr th {\n",
       "        vertical-align: top;\n",
       "    }\n",
       "\n",
       "    .dataframe thead th {\n",
       "        text-align: right;\n",
       "    }\n",
       "</style>\n",
       "<table border=\"1\" class=\"dataframe\">\n",
       "  <thead>\n",
       "    <tr style=\"text-align: right;\">\n",
       "      <th></th>\n",
       "      <th>hashtag</th>\n",
       "    </tr>\n",
       "  </thead>\n",
       "  <tbody>\n",
       "    <tr>\n",
       "      <th>0</th>\n",
       "      <td>#cancelboardexam2021</td>\n",
       "    </tr>\n",
       "    <tr>\n",
       "      <th>1</th>\n",
       "      <td>#cancelboardexams2021</td>\n",
       "    </tr>\n",
       "    <tr>\n",
       "      <th>2</th>\n",
       "      <td>#GOT7</td>\n",
       "    </tr>\n",
       "    <tr>\n",
       "      <th>3</th>\n",
       "      <td>#BamBam</td>\n",
       "    </tr>\n",
       "    <tr>\n",
       "      <th>4</th>\n",
       "      <td>#postponeneetpg</td>\n",
       "    </tr>\n",
       "    <tr>\n",
       "      <th>5</th>\n",
       "      <td>#Zimbabwe</td>\n",
       "    </tr>\n",
       "    <tr>\n",
       "      <th>6</th>\n",
       "      <td>#Africa</td>\n",
       "    </tr>\n",
       "    <tr>\n",
       "      <th>7</th>\n",
       "      <td>#cancelboardexam2021</td>\n",
       "    </tr>\n",
       "    <tr>\n",
       "      <th>8</th>\n",
       "      <td>#CongratulationsHaji</td>\n",
       "    </tr>\n",
       "    <tr>\n",
       "      <th>9</th>\n",
       "      <td>#cancelboardexams2021</td>\n",
       "    </tr>\n",
       "  </tbody>\n",
       "</table>\n",
       "</div>"
      ],
      "text/plain": [
       "                 hashtag\n",
       "0   #cancelboardexam2021\n",
       "1  #cancelboardexams2021\n",
       "2                  #GOT7\n",
       "3                #BamBam\n",
       "4        #postponeneetpg\n",
       "5              #Zimbabwe\n",
       "6                #Africa\n",
       "7   #cancelboardexam2021\n",
       "8   #CongratulationsHaji\n",
       "9  #cancelboardexams2021"
      ]
     },
     "execution_count": 17,
     "metadata": {},
     "output_type": "execute_result"
    }
   ],
   "source": [
    "flattened_hashtags_df[:10]\n"
   ]
  },
  {
   "cell_type": "code",
   "execution_count": 18,
   "metadata": {
    "colab": {
     "base_uri": "https://localhost:8080/"
    },
    "id": "62acjbEO1hSV",
    "outputId": "83ac8b37-990d-4378-e561-af603eeb0a5e"
   },
   "outputs": [
    {
     "data": {
      "text/plain": [
       "449"
      ]
     },
     "execution_count": 18,
     "metadata": {},
     "output_type": "execute_result"
    }
   ],
   "source": [
    "flattened_hashtags_df['hashtag'].unique().size"
   ]
  },
  {
   "cell_type": "code",
   "execution_count": 19,
   "metadata": {
    "id": "_-Xh5VyN1kI5"
   },
   "outputs": [],
   "source": [
    "popular_hashtags = flattened_hashtags_df.groupby('hashtag').size()\\\n",
    "                                        .reset_index(name='counts')\\\n",
    "                                        .sort_values('counts', ascending=False)\\\n",
    "                                        .reset_index(drop=True)\n"
   ]
  },
  {
   "cell_type": "code",
   "execution_count": 20,
   "metadata": {
    "colab": {
     "base_uri": "https://localhost:8080/",
     "height": 347
    },
    "id": "8FSQwrko1m_d",
    "outputId": "7736864c-777c-4ff3-8070-e2c307e245ed"
   },
   "outputs": [
    {
     "data": {
      "text/html": [
       "<div>\n",
       "<style scoped>\n",
       "    .dataframe tbody tr th:only-of-type {\n",
       "        vertical-align: middle;\n",
       "    }\n",
       "\n",
       "    .dataframe tbody tr th {\n",
       "        vertical-align: top;\n",
       "    }\n",
       "\n",
       "    .dataframe thead th {\n",
       "        text-align: right;\n",
       "    }\n",
       "</style>\n",
       "<table border=\"1\" class=\"dataframe\">\n",
       "  <thead>\n",
       "    <tr style=\"text-align: right;\">\n",
       "      <th></th>\n",
       "      <th>hashtag</th>\n",
       "      <th>counts</th>\n",
       "    </tr>\n",
       "  </thead>\n",
       "  <tbody>\n",
       "    <tr>\n",
       "      <th>0</th>\n",
       "      <td>#cancelboardexams2021</td>\n",
       "      <td>56</td>\n",
       "    </tr>\n",
       "    <tr>\n",
       "      <th>1</th>\n",
       "      <td>#cancelcbseboardexams2021</td>\n",
       "      <td>34</td>\n",
       "    </tr>\n",
       "    <tr>\n",
       "      <th>2</th>\n",
       "      <td>#COVID19</td>\n",
       "      <td>33</td>\n",
       "    </tr>\n",
       "    <tr>\n",
       "      <th>3</th>\n",
       "      <td>#COVID</td>\n",
       "      <td>20</td>\n",
       "    </tr>\n",
       "    <tr>\n",
       "      <th>4</th>\n",
       "      <td>#cancelboardexam2021</td>\n",
       "      <td>17</td>\n",
       "    </tr>\n",
       "    <tr>\n",
       "      <th>5</th>\n",
       "      <td>#India</td>\n",
       "      <td>14</td>\n",
       "    </tr>\n",
       "    <tr>\n",
       "      <th>6</th>\n",
       "      <td>#Covid</td>\n",
       "      <td>13</td>\n",
       "    </tr>\n",
       "    <tr>\n",
       "      <th>7</th>\n",
       "      <td>#CBSE</td>\n",
       "      <td>13</td>\n",
       "    </tr>\n",
       "    <tr>\n",
       "      <th>8</th>\n",
       "      <td>#KumbhMela2021</td>\n",
       "      <td>13</td>\n",
       "    </tr>\n",
       "    <tr>\n",
       "      <th>9</th>\n",
       "      <td>#SIDEBYSIDE_NEXT_TO_THE8</td>\n",
       "      <td>12</td>\n",
       "    </tr>\n",
       "  </tbody>\n",
       "</table>\n",
       "</div>"
      ],
      "text/plain": [
       "                     hashtag  counts\n",
       "0      #cancelboardexams2021      56\n",
       "1  #cancelcbseboardexams2021      34\n",
       "2                   #COVID19      33\n",
       "3                     #COVID      20\n",
       "4       #cancelboardexam2021      17\n",
       "5                     #India      14\n",
       "6                     #Covid      13\n",
       "7                      #CBSE      13\n",
       "8             #KumbhMela2021      13\n",
       "9   #SIDEBYSIDE_NEXT_TO_THE8      12"
      ]
     },
     "execution_count": 20,
     "metadata": {},
     "output_type": "execute_result"
    }
   ],
   "source": [
    "popular_hashtags[:10]\n"
   ]
  },
  {
   "cell_type": "code",
   "execution_count": 21,
   "metadata": {
    "colab": {
     "base_uri": "https://localhost:8080/",
     "height": 278
    },
    "id": "VvFEpYqH1p9g",
    "outputId": "267fb403-7e9d-43c5-dcb1-e1c76e097dcf"
   },
   "outputs": [
    {
     "data": {
      "image/png": "[encoded data removed]",
      "text/plain": [
       "<Figure size 432x288 with 1 Axes>"
      ]
     },
     "metadata": {
      "needs_background": "light"
     },
     "output_type": "display_data"
    }
   ],
   "source": [
    "counts = flattened_hashtags_df.groupby(['hashtag']).size()\\\n",
    "                              .reset_index(name='counts')\\\n",
    "                              .counts\n",
    "\n",
    "# define bins for histogram                              \n",
    "my_bins = np.arange(0,counts.max()+2, 5)-0.5\n",
    "\n",
    "# plot histogram of tweet counts\n",
    "plt.figure()\n",
    "plt.hist(counts, bins = my_bins)\n",
    "plt.xlabels = np.arange(1,counts.max()+1, 1)\n",
    "plt.xlabel('hashtag number of appearances')\n",
    "plt.ylabel('frequency')\n",
    "plt.yscale('log', nonposy='clip')\n",
    "plt.show()\n"
   ]
  },
  {
   "cell_type": "code",
   "execution_count": 22,
   "metadata": {
    "id": "FlvgaNdH1w4U"
   },
   "outputs": [],
   "source": [
    "min_appearance = 10\n",
    "# find popular hashtags - make into python set for efficiency\n",
    "popular_hashtags_set = set(popular_hashtags[\n",
    "                           popular_hashtags.counts>=min_appearance\n",
    "                           ]['hashtag'])\n",
    "\n",
    "hashtags_list_df['popular_hashtags'] = hashtags_list_df.hashtags.apply(\n",
    "            lambda hashtag_list: [hashtag for hashtag in hashtag_list\n",
    "                                  if hashtag in popular_hashtags_set])\n",
    "# drop rows without popular hashtag\n",
    "popular_hashtags_list_df = hashtags_list_df.loc[\n",
    "            hashtags_list_df.popular_hashtags.apply(lambda hashtag_list: hashtag_list !=[])]\n",
    "\n",
    "hashtag_vector_df = popular_hashtags_list_df.loc[:, ['popular_hashtags']]\n",
    "\n",
    "for hashtag in popular_hashtags_set:\n",
    "    # make columns to encode presence of hashtags\n",
    "    hashtag_vector_df['{}'.format(hashtag)] = hashtag_vector_df.popular_hashtags.apply(\n",
    "        lambda hashtag_list: int(hashtag in hashtag_list))\n",
    "\n",
    "hashtag_matrix = hashtag_vector_df.drop('popular_hashtags', axis=1)\n"
   ]
  },
  {
   "cell_type": "code",
   "execution_count": 23,
   "metadata": {
    "colab": {
     "base_uri": "https://localhost:8080/",
     "height": 645
    },
    "id": "wRjy9c5C10HZ",
    "outputId": "fd8421a8-b262-41e1-b635-ea779a507570"
   },
   "outputs": [
    {
     "data": {
      "image/png": "[encoded data removed]",
      "text/plain": [
       "<Figure size 720x720 with 2 Axes>"
      ]
     },
     "metadata": {
      "needs_background": "light"
     },
     "output_type": "display_data"
    }
   ],
   "source": [
    "import seaborn as sns\n",
    "\n",
    "correlations = hashtag_matrix.corr()\n",
    "\n",
    "# plot the correlation matrix\n",
    "plt.figure(figsize=(10,10))\n",
    "sns.heatmap(correlations,\n",
    "    cmap='RdBu',\n",
    "    vmin=-1,\n",
    "    vmax=1,\n",
    "    square = True,\n",
    "    cbar_kws={'label':'correlation'})\n",
    "plt.show()"
   ]
  },
  {
   "cell_type": "code",
   "execution_count": 24,
   "metadata": {
    "colab": {
     "base_uri": "https://localhost:8080/"
    },
    "id": "-1AHeQPX18I8",
    "outputId": "de21fea6-50e0-4bbe-aa9b-87c707242383"
   },
   "outputs": [
    {
     "name": "stderr",
     "output_type": "stream",
     "text": [
      "[nltk_data] Downloading package stopwords to\n",
      "[nltk_data]     C:\\Users\\Admin\\AppData\\Roaming\\nltk_data...\n",
      "[nltk_data]   Package stopwords is already up-to-date!\n",
      "[nltk_data] Downloading package stopwords to\n",
      "[nltk_data]     C:\\Users\\Admin\\AppData\\Roaming\\nltk_data...\n",
      "[nltk_data]   Package stopwords is already up-to-date!\n"
     ]
    }
   ],
   "source": [
    "import nltk\n",
    "from nltk.tokenize import RegexpTokenizer\n",
    "from nltk.corpus import stopwords\n",
    "\n",
    "nltk.download('stopwords')\n",
    "\n",
    "def remove_links(tweet):\n",
    "\n",
    "    '''Takes a string and removes web links from it'''\n",
    "    tweet = re.sub(r'http\\S+', '', tweet) # remove http links\n",
    "    tweet = re.sub(r'bit.ly/\\S+', '', tweet) # rempve bitly links\n",
    "    tweet = tweet.strip('[link]') # remove [links]\n",
    "    return tweet\n",
    "\n",
    "def remove_users(tweet):\n",
    "    '''Takes a string and removes retweet and @user information'''\n",
    "    tweet = re.sub('(RT\\s@[A-Za-z]+[A-Za-z0-9-_]+)', '', tweet) # remove retweet\n",
    "    tweet = re.sub('(@[A-Za-z]+[A-Za-z0-9-_]+)', '', tweet) # remove tweeted at\n",
    "    return tweet\n",
    "\n",
    "my_stopwords = nltk.corpus.stopwords.words('english')\n",
    "word_rooter = nltk.stem.snowball.PorterStemmer(ignore_stopwords=False).stem\n",
    "my_punctuation = '!\"$%&\\'()*+,-./:;<=>?[\\\\]^_`{|}~•@'\n",
    "\n",
    "# cleaning master function\n",
    "def clean_tweet(tweet, bigrams=False):\n",
    "    tweet = remove_users(tweet)\n",
    "    tweet = remove_links(tweet)\n",
    "    tweet = tweet.lower() # lower case\n",
    "    tweet = re.sub('['+my_punctuation + ']+', ' ', tweet) # strip punctuation\n",
    "    tweet = re.sub('\\s+', ' ', tweet) #remove double spacing\n",
    "    tweet = re.sub('([0-9]+)', '', tweet) # remove numbers\n",
    "    tweet_token_list = [word for word in tweet.split(' ')\n",
    "                            if word not in my_stopwords] # remove stopwords\n",
    "\n",
    "    tweet_token_list = [word_rooter(word) if '#' not in word else word\n",
    "                        for word in tweet_token_list] # apply word rooter\n",
    "    if bigrams:\n",
    "        tweet_token_list = tweet_token_list+[tweet_token_list[i]+'_'+tweet_token_list[i+1]\n",
    "                                            for i in range(len(tweet_token_list)-1)]\n",
    "    tweet = ' '.join(tweet_token_list)\n",
    "    return tweet\n",
    "\n",
    "nltk.download('stopwords')\n",
    "\n",
    "df['clean_tweet'] = df.Tweets.apply(clean_tweet)\n"
   ]
  },
  {
   "cell_type": "code",
   "execution_count": 25,
   "metadata": {
    "colab": {
     "base_uri": "https://localhost:8080/"
    },
    "id": "r5MDIlBe2C92",
    "outputId": "6317e211-dbe7-41bc-f124-7859bf1f56af"
   },
   "outputs": [
    {
     "data": {
      "text/plain": [
       "LatentDirichletAllocation(random_state=0)"
      ]
     },
     "execution_count": 25,
     "metadata": {},
     "output_type": "execute_result"
    }
   ],
   "source": [
    "# Using Latent Dirichlet Mixture model\n",
    "from sklearn.feature_extraction.text import CountVectorizer\n",
    "vectorizer = CountVectorizer(max_df=0.9, min_df=25, token_pattern='\\w+|\\$[\\d\\.]+|\\S+')\n",
    "\n",
    "# apply transformation\n",
    "tf = vectorizer.fit_transform(df['clean_tweet']).toarray()\n",
    "\n",
    "# tf_feature_names tells us what word each column in the matric represents\n",
    "tf_feature_names = vectorizer.get_feature_names()\n",
    "\n",
    "from sklearn.decomposition import LatentDirichletAllocation\n",
    "\n",
    "number_of_topics = 10\n",
    "\n",
    "model = LatentDirichletAllocation(n_components=number_of_topics, random_state=0)\n",
    "\n",
    "model.fit(tf)"
   ]
  },
  {
   "cell_type": "code",
   "execution_count": 26,
   "metadata": {
    "id": "QQVeb3wX2GOF"
   },
   "outputs": [],
   "source": [
    "\n",
    "def display_topics(model, feature_names, no_top_words):\n",
    "\n",
    "    topic_dict = {}\n",
    "    for topic_idx, topic in enumerate(model.components_):\n",
    "        topic_dict[\"Topic %d words\" % (topic_idx)]= ['{}'.format(feature_names[i])\n",
    "                        for i in topic.argsort()[:-no_top_words - 1:-1]]\n",
    "        topic_dict[\"Topic %d weights\" % (topic_idx)]= ['{:.1f}'.format(topic[i])\n",
    "                        for i in topic.argsort()[:-no_top_words - 1:-1]]\n",
    "    return pd.DataFrame(topic_dict)\n"
   ]
  },
  {
   "cell_type": "code",
   "execution_count": null,
   "metadata": {
    "id": "uKwJf1gksxFV"
   },
   "outputs": [],
   "source": []
  },
  {
   "cell_type": "code",
   "execution_count": 27,
   "metadata": {
    "id": "Lk-oAOK72I8U"
   },
   "outputs": [],
   "source": [
    "no_top_words = 10\n",
    "\n",
    "p = display_topics(model, tf_feature_names, no_top_words)\n",
    "\n",
    "#df['clean_tweet'][0].split(\" \")"
   ]
  },
  {
   "cell_type": "code",
   "execution_count": 28,
   "metadata": {
    "colab": {
     "base_uri": "https://localhost:8080/",
     "height": 401
    },
    "id": "pqJZkjLvtgCy",
    "outputId": "ae56ab4f-f094-4d31-fa76-671202592c6c"
   },
   "outputs": [
    {
     "data": {
      "text/html": [
       "<div>\n",
       "<style scoped>\n",
       "    .dataframe tbody tr th:only-of-type {\n",
       "        vertical-align: middle;\n",
       "    }\n",
       "\n",
       "    .dataframe tbody tr th {\n",
       "        vertical-align: top;\n",
       "    }\n",
       "\n",
       "    .dataframe thead th {\n",
       "        text-align: right;\n",
       "    }\n",
       "</style>\n",
       "<table border=\"1\" class=\"dataframe\">\n",
       "  <thead>\n",
       "    <tr style=\"text-align: right;\">\n",
       "      <th></th>\n",
       "      <th>Topic 0 words</th>\n",
       "      <th>Topic 0 weights</th>\n",
       "      <th>Topic 1 words</th>\n",
       "      <th>Topic 1 weights</th>\n",
       "      <th>Topic 2 words</th>\n",
       "      <th>Topic 2 weights</th>\n",
       "      <th>Topic 3 words</th>\n",
       "      <th>Topic 3 weights</th>\n",
       "      <th>Topic 4 words</th>\n",
       "      <th>Topic 4 weights</th>\n",
       "      <th>Topic 5 words</th>\n",
       "      <th>Topic 5 weights</th>\n",
       "      <th>Topic 6 words</th>\n",
       "      <th>Topic 6 weights</th>\n",
       "      <th>Topic 7 words</th>\n",
       "      <th>Topic 7 weights</th>\n",
       "      <th>Topic 8 words</th>\n",
       "      <th>Topic 8 weights</th>\n",
       "      <th>Topic 9 words</th>\n",
       "      <th>Topic 9 weights</th>\n",
       "    </tr>\n",
       "  </thead>\n",
       "  <tbody>\n",
       "    <tr>\n",
       "      <th>0</th>\n",
       "      <td>exam</td>\n",
       "      <td>712.2</td>\n",
       "      <td>…</td>\n",
       "      <td>165.8</td>\n",
       "      <td>…</td>\n",
       "      <td>310.2</td>\n",
       "      <td>…</td>\n",
       "      <td>243.8</td>\n",
       "      <td>…</td>\n",
       "      <td>186.8</td>\n",
       "      <td>call</td>\n",
       "      <td>106.1</td>\n",
       "      <td>…</td>\n",
       "      <td>234.4</td>\n",
       "      <td>…</td>\n",
       "      <td>181.7</td>\n",
       "      <td>covid</td>\n",
       "      <td>398.7</td>\n",
       "      <td>…</td>\n",
       "      <td>299.6</td>\n",
       "    </tr>\n",
       "    <tr>\n",
       "      <th>1</th>\n",
       "      <td>board</td>\n",
       "      <td>358.1</td>\n",
       "      <td>lakh</td>\n",
       "      <td>86.1</td>\n",
       "      <td>india</td>\n",
       "      <td>247.0</td>\n",
       "      <td>covid</td>\n",
       "      <td>158.5</td>\n",
       "      <td>take</td>\n",
       "      <td>73.0</td>\n",
       "      <td>friend</td>\n",
       "      <td>97.1</td>\n",
       "      <td>covid</td>\n",
       "      <td>179.0</td>\n",
       "      <td>covid</td>\n",
       "      <td>127.5</td>\n",
       "      <td>…</td>\n",
       "      <td>261.9</td>\n",
       "      <td>covid</td>\n",
       "      <td>227.0</td>\n",
       "    </tr>\n",
       "    <tr>\n",
       "      <th>2</th>\n",
       "      <td>centr</td>\n",
       "      <td>356.6</td>\n",
       "      <td>delhi</td>\n",
       "      <td>74.1</td>\n",
       "      <td>amp</td>\n",
       "      <td>144.7</td>\n",
       "      <td>’</td>\n",
       "      <td>130.6</td>\n",
       "      <td>vaccin</td>\n",
       "      <td>66.7</td>\n",
       "      <td>pleas</td>\n",
       "      <td>94.3</td>\n",
       "      <td>india</td>\n",
       "      <td>78.4</td>\n",
       "      <td>posit</td>\n",
       "      <td>96.2</td>\n",
       "      <td>vaccin</td>\n",
       "      <td>214.3</td>\n",
       "      <td>us</td>\n",
       "      <td>107.6</td>\n",
       "    </tr>\n",
       "    <tr>\n",
       "      <th>3</th>\n",
       "      <td>cancel</td>\n",
       "      <td>352.1</td>\n",
       "      <td>world</td>\n",
       "      <td>69.1</td>\n",
       "      <td>time</td>\n",
       "      <td>62.2</td>\n",
       "      <td>test</td>\n",
       "      <td>85.5</td>\n",
       "      <td>thank</td>\n",
       "      <td>63.5</td>\n",
       "      <td>…</td>\n",
       "      <td>89.9</td>\n",
       "      <td>case</td>\n",
       "      <td>71.8</td>\n",
       "      <td>peopl</td>\n",
       "      <td>92.2</td>\n",
       "      <td>case</td>\n",
       "      <td>82.7</td>\n",
       "      <td>year</td>\n",
       "      <td>100.5</td>\n",
       "    </tr>\n",
       "    <tr>\n",
       "      <th>4</th>\n",
       "      <td>becom</td>\n",
       "      <td>345.1</td>\n",
       "      <td>student</td>\n",
       "      <td>68.4</td>\n",
       "      <td>like</td>\n",
       "      <td>62.1</td>\n",
       "      <td>’t</td>\n",
       "      <td>85.1</td>\n",
       "      <td>india</td>\n",
       "      <td>53.9</td>\n",
       "      <td>covid</td>\n",
       "      <td>87.0</td>\n",
       "      <td>need</td>\n",
       "      <td>64.8</td>\n",
       "      <td>good</td>\n",
       "      <td>79.8</td>\n",
       "      <td>death</td>\n",
       "      <td>80.1</td>\n",
       "      <td>vaccin</td>\n",
       "      <td>87.9</td>\n",
       "    </tr>\n",
       "    <tr>\n",
       "      <th>5</th>\n",
       "      <td>…</td>\n",
       "      <td>318.9</td>\n",
       "      <td>come</td>\n",
       "      <td>58.4</td>\n",
       "      <td>peopl</td>\n",
       "      <td>60.3</td>\n",
       "      <td>one</td>\n",
       "      <td>64.7</td>\n",
       "      <td>covid</td>\n",
       "      <td>52.3</td>\n",
       "      <td>place</td>\n",
       "      <td>83.1</td>\n",
       "      <td>hospit</td>\n",
       "      <td>61.1</td>\n",
       "      <td>test</td>\n",
       "      <td>74.0</td>\n",
       "      <td>new</td>\n",
       "      <td>61.3</td>\n",
       "      <td>book</td>\n",
       "      <td>74.8</td>\n",
       "    </tr>\n",
       "    <tr>\n",
       "      <th>6</th>\n",
       "      <td>let</td>\n",
       "      <td>315.8</td>\n",
       "      <td>india</td>\n",
       "      <td>51.4</td>\n",
       "      <td>th</td>\n",
       "      <td>54.0</td>\n",
       "      <td>live</td>\n",
       "      <td>64.1</td>\n",
       "      <td>say</td>\n",
       "      <td>49.0</td>\n",
       "      <td>emerg</td>\n",
       "      <td>74.1</td>\n",
       "      <td>second</td>\n",
       "      <td>50.5</td>\n",
       "      <td>request</td>\n",
       "      <td>65.1</td>\n",
       "      <td>get</td>\n",
       "      <td>59.4</td>\n",
       "      <td>last</td>\n",
       "      <td>70.2</td>\n",
       "    </tr>\n",
       "    <tr>\n",
       "      <th>7</th>\n",
       "      <td>covid</td>\n",
       "      <td>311.1</td>\n",
       "      <td>cbse</td>\n",
       "      <td>50.2</td>\n",
       "      <td>would</td>\n",
       "      <td>38.1</td>\n",
       "      <td>india</td>\n",
       "      <td>58.4</td>\n",
       "      <td>tri</td>\n",
       "      <td>45.1</td>\n",
       "      <td>blood</td>\n",
       "      <td>72.1</td>\n",
       "      <td>pm</td>\n",
       "      <td>47.1</td>\n",
       "      <td>mask</td>\n",
       "      <td>64.1</td>\n",
       "      <td>#covid</td>\n",
       "      <td>54.2</td>\n",
       "      <td>due</td>\n",
       "      <td>51.7</td>\n",
       "    </tr>\n",
       "    <tr>\n",
       "      <th>8</th>\n",
       "      <td>student</td>\n",
       "      <td>310.0</td>\n",
       "      <td>exam</td>\n",
       "      <td>50.2</td>\n",
       "      <td>also</td>\n",
       "      <td>33.1</td>\n",
       "      <td>first</td>\n",
       "      <td>55.4</td>\n",
       "      <td>post</td>\n",
       "      <td>43.1</td>\n",
       "      <td>requir</td>\n",
       "      <td>70.1</td>\n",
       "      <td>trend</td>\n",
       "      <td>42.1</td>\n",
       "      <td>pleas</td>\n",
       "      <td>58.6</td>\n",
       "      <td>uk</td>\n",
       "      <td>50.7</td>\n",
       "      <td>peopl</td>\n",
       "      <td>47.7</td>\n",
       "    </tr>\n",
       "    <tr>\n",
       "      <th>9</th>\n",
       "      <td>’</td>\n",
       "      <td>294.2</td>\n",
       "      <td>minist</td>\n",
       "      <td>46.9</td>\n",
       "      <td>i</td>\n",
       "      <td>32.4</td>\n",
       "      <td>news</td>\n",
       "      <td>53.3</td>\n",
       "      <td>futur</td>\n",
       "      <td>41.9</td>\n",
       "      <td>trust</td>\n",
       "      <td>67.1</td>\n",
       "      <td>#cancelboardexams</td>\n",
       "      <td>42.1</td>\n",
       "      <td>know</td>\n",
       "      <td>58.0</td>\n",
       "      <td>emerg</td>\n",
       "      <td>50.1</td>\n",
       "      <td>age</td>\n",
       "      <td>44.6</td>\n",
       "    </tr>\n",
       "  </tbody>\n",
       "</table>\n",
       "</div>"
      ],
      "text/plain": [
       "  Topic 0 words Topic 0 weights Topic 1 words Topic 1 weights Topic 2 words  \\\n",
       "0          exam           712.2             …           165.8             …   \n",
       "1         board           358.1          lakh            86.1         india   \n",
       "2         centr           356.6         delhi            74.1           amp   \n",
       "3        cancel           352.1         world            69.1          time   \n",
       "4         becom           345.1       student            68.4          like   \n",
       "5             …           318.9          come            58.4         peopl   \n",
       "6           let           315.8         india            51.4            th   \n",
       "7         covid           311.1          cbse            50.2         would   \n",
       "8       student           310.0          exam            50.2          also   \n",
       "9             ’           294.2        minist            46.9             i   \n",
       "\n",
       "  Topic 2 weights Topic 3 words Topic 3 weights Topic 4 words Topic 4 weights  \\\n",
       "0           310.2             …           243.8             …           186.8   \n",
       "1           247.0         covid           158.5          take            73.0   \n",
       "2           144.7             ’           130.6        vaccin            66.7   \n",
       "3            62.2          test            85.5         thank            63.5   \n",
       "4            62.1            ’t            85.1         india            53.9   \n",
       "5            60.3           one            64.7         covid            52.3   \n",
       "6            54.0          live            64.1           say            49.0   \n",
       "7            38.1         india            58.4           tri            45.1   \n",
       "8            33.1         first            55.4          post            43.1   \n",
       "9            32.4          news            53.3         futur            41.9   \n",
       "\n",
       "  Topic 5 words Topic 5 weights      Topic 6 words Topic 6 weights  \\\n",
       "0          call           106.1                  …           234.4   \n",
       "1        friend            97.1              covid           179.0   \n",
       "2         pleas            94.3              india            78.4   \n",
       "3             …            89.9               case            71.8   \n",
       "4         covid            87.0               need            64.8   \n",
       "5         place            83.1             hospit            61.1   \n",
       "6         emerg            74.1             second            50.5   \n",
       "7         blood            72.1                 pm            47.1   \n",
       "8        requir            70.1              trend            42.1   \n",
       "9         trust            67.1  #cancelboardexams            42.1   \n",
       "\n",
       "  Topic 7 words Topic 7 weights Topic 8 words Topic 8 weights Topic 9 words  \\\n",
       "0             …           181.7         covid           398.7             …   \n",
       "1         covid           127.5             …           261.9         covid   \n",
       "2         posit            96.2        vaccin           214.3            us   \n",
       "3         peopl            92.2          case            82.7          year   \n",
       "4          good            79.8         death            80.1        vaccin   \n",
       "5          test            74.0           new            61.3          book   \n",
       "6       request            65.1           get            59.4          last   \n",
       "7          mask            64.1        #covid            54.2           due   \n",
       "8         pleas            58.6            uk            50.7         peopl   \n",
       "9          know            58.0         emerg            50.1           age   \n",
       "\n",
       "  Topic 9 weights  \n",
       "0           299.6  \n",
       "1           227.0  \n",
       "2           107.6  \n",
       "3           100.5  \n",
       "4            87.9  \n",
       "5            74.8  \n",
       "6            70.2  \n",
       "7            51.7  \n",
       "8            47.7  \n",
       "9            44.6  "
      ]
     },
     "execution_count": 28,
     "metadata": {},
     "output_type": "execute_result"
    }
   ],
   "source": [
    "p"
   ]
  },
  {
   "cell_type": "code",
   "execution_count": null,
   "metadata": {
    "id": "Ppzso1DqE7oi"
   },
   "outputs": [],
   "source": []
  },
  {
   "cell_type": "code",
   "execution_count": 29,
   "metadata": {
    "id": "2lTh8iI92QAw"
   },
   "outputs": [],
   "source": [
    "# Using Extension to LDA model\n",
    "from numpy import log, exp\n",
    "from numpy import argmax\n",
    "import json\n",
    "from numpy.random import multinomial\n",
    "\n",
    "class MovieGroupProcess:\n",
    "    def __init__(self, K=8, alpha=0.1, beta=0.1, n_iters=30):\n",
    "        '''\n",
    "        A MovieGroupProcess is a conceptual model introduced by Yin and Wang 2014 to\n",
    "        describe their Gibbs sampling algorithm for a Dirichlet Mixture Model for the\n",
    "        clustering short text documents.\n",
    "        Reference: http://dbgroup.cs.tsinghua.edu.cn/wangjy/papers/KDD14-GSDMM.pdf\n",
    "        Imagine a professor is leading a film class. At the start of the class, the students\n",
    "        are randomly assigned to K tables. Before class begins, the students make lists of\n",
    "        their favorite films. The teacher reads the role n_iters times. When\n",
    "        a student is called, the student must select a new table satisfying either:\n",
    "            1) The new table has more students than the current table.\n",
    "        OR\n",
    "            2) The new table has students with similar lists of favorite movies.\n",
    "        :param K: int\n",
    "            Upper bound on the number of possible clusters. Typically many fewer\n",
    "        :param alpha: float between 0 and 1\n",
    "            Alpha controls the probability that a student will join a table that is currently empty\n",
    "            When alpha is 0, no one will join an empty table.\n",
    "        :param beta: float between 0 and 1\n",
    "            Beta controls the student's affinity for other students with similar interests. A low beta means\n",
    "            that students desire to sit with students of similar interests. A high beta means they are less\n",
    "            concerned with affinity and are more influenced by the popularity of a table\n",
    "        :param n_iters:\n",
    "        '''\n",
    "        self.K = K\n",
    "        self.alpha = alpha\n",
    "        self.beta = beta\n",
    "        self.n_iters = n_iters\n",
    "\n",
    "        # slots for computed variables\n",
    "        self.number_docs = None\n",
    "        self.vocab_size = None\n",
    "        self.cluster_doc_count = [0 for _ in range(K)]\n",
    "        self.cluster_word_count = [0 for _ in range(K)]\n",
    "        self.cluster_word_distribution = [{} for i in range(K)]\n",
    "    @staticmethod\n",
    "    def from_data(K, alpha, beta, D, vocab_size, cluster_doc_count, cluster_word_count, cluster_word_distribution):\n",
    "        '''\n",
    "        Reconstitute a MovieGroupProcess from previously fit data\n",
    "        :param K:\n",
    "        :param alpha:\n",
    "        :param beta:\n",
    "        :param D:\n",
    "        :param vocab_size:\n",
    "        :param cluster_doc_count:\n",
    "        :param cluster_word_count:\n",
    "        :param cluster_word_distribution:\n",
    "        :return:\n",
    "        '''\n",
    "        mgp = MovieGroupProcess(K, alpha, beta, n_iters=30)\n",
    "        mgp.number_docs = D\n",
    "        mgp.vocab_size = vocab_size\n",
    "        mgp.cluster_doc_count = cluster_doc_count\n",
    "        mgp.cluster_word_count = cluster_word_count\n",
    "        mgp.cluster_word_distribution = cluster_word_distribution\n",
    "        return mgp\n",
    "\n",
    "    @staticmethod\n",
    "    def _sample(p):\n",
    "        '''\n",
    "        Sample with probability vector p from a multinomial distribution\n",
    "        :param p: list\n",
    "            List of probabilities representing probability vector for the multinomial distribution\n",
    "        :return: int\n",
    "            index of randomly selected output\n",
    "        '''\n",
    "        return [i for i, entry in enumerate(multinomial(1, p)) if entry != 0][0]\n",
    "    def fit(self, docs, vocab_size):\n",
    "        '''\n",
    "        Cluster the input documents\n",
    "        :param docs: list of list\n",
    "            list of lists containing the unique token set of each document\n",
    "        :param V: total vocabulary size for each document\n",
    "        :return: list of length len(doc)\n",
    "            cluster label for each document\n",
    "        '''\n",
    "        alpha, beta, K, n_iters, V = self.alpha, self.beta, self.K, self.n_iters, vocab_size\n",
    "\n",
    "        D = len(docs)\n",
    "        self.number_docs = D\n",
    "        self.vocab_size = vocab_size\n",
    "\n",
    "        # unpack to easy var names\n",
    "        m_z, n_z, n_z_w = self.cluster_doc_count, self.cluster_word_count, self.cluster_word_distribution\n",
    "        cluster_count = K\n",
    "        d_z = [None for i in range(len(docs))]\n",
    "\n",
    "        # initialize the clusters\n",
    "        for i, doc in enumerate(docs):\n",
    "\n",
    "            # choose a random  initial cluster for the doc\n",
    "            z = self._sample([1.0 / K for _ in range(K)])\n",
    "            d_z[i] = z\n",
    "            m_z[z] += 1\n",
    "            n_z[z] += len(doc)\n",
    "           \n",
    "            for word in doc:\n",
    "                if word not in n_z_w[z]:\n",
    "                    n_z_w[z][word] = 0\n",
    "                n_z_w[z][word] += 1\n",
    "\n",
    "        for _iter in range(n_iters):\n",
    "            total_transfers = 0\n",
    "            for i, doc in enumerate(docs):\n",
    "\n",
    "                # remove the doc from it's current cluster\n",
    "                z_old = d_z[i]\n",
    "\n",
    "                m_z[z_old] -= 1\n",
    "                n_z[z_old] -= len(doc)\n",
    "\n",
    "                for word in doc:\n",
    "                    n_z_w[z_old][word] -= 1\n",
    "\n",
    "                    # compact dictionary to save space\n",
    "                    if n_z_w[z_old][word] == 0:\n",
    "                        del n_z_w[z_old][word]\n",
    "\n",
    "                # draw sample from distribution to find new cluster\n",
    "                p = self.score(doc)\n",
    "                z_new = self._sample(p)\n",
    "\n",
    "                # transfer doc to the new cluster\n",
    "                if z_new != z_old:\n",
    "                    total_transfers += 1\n",
    "\n",
    "                d_z[i] = z_new\n",
    "                m_z[z_new] += 1\n",
    "                n_z[z_new] += len(doc)\n",
    "\n",
    "                for word in doc:\n",
    "                    if word not in n_z_w[z_new]:\n",
    "                        n_z_w[z_new][word] = 0\n",
    "                    n_z_w[z_new][word] += 1\n",
    "\n",
    "            cluster_count_new = sum([1 for v in m_z if v > 0])\n",
    "            print(\"In stage %d: transferred %d clusters with %d clusters populated\" % (\n",
    "            _iter, total_transfers, cluster_count_new))\n",
    "            if total_transfers == 0 and cluster_count_new == cluster_count and _iter>25:\n",
    "                print(\"Converged.  Breaking out.\")\n",
    "                break\n",
    "            cluster_count = cluster_count_new\n",
    "        self.cluster_word_distribution = n_z_w\n",
    "        return d_z\n",
    "\n",
    "    def score(self, doc):\n",
    "        '''\n",
    "        Score a document\n",
    "        Implements formula (3) of Yin and Wang 2014.\n",
    "        http://dbgroup.cs.tsinghua.edu.cn/wangjy/papers/KDD14-GSDMM.pdf\n",
    "        :param doc: list[str]: The doc token stream\n",
    "        :return: list[float]: A length K probability vector where each component represents\n",
    "                              the probability of the document appearing in a particular cluster\n",
    "        '''\n",
    "        alpha, beta, K, V, D = self.alpha, self.beta, self.K, self.vocab_size, self.number_docs\n",
    "        m_z, n_z, n_z_w = self.cluster_doc_count, self.cluster_word_count, self.cluster_word_distribution\n",
    "\n",
    "        p = [0 for _ in range(K)]\n",
    "\n",
    "        #  We break the formula into the following pieces\n",
    "        #  p = N1*N2/(D1*D2) = exp(lN1 - lD1 + lN2 - lD2)\n",
    "        #  lN1 = log(m_z[z] + alpha)\n",
    "        #  lN2 = log(D - 1 + K*alpha)\n",
    "        #  lN2 = log(product(n_z_w[w] + beta)) = sum(log(n_z_w[w] + beta))\n",
    "        #  lD2 = log(product(n_z[d] + V*beta + i -1)) = sum(log(n_z[d] + V*beta + i -1))\n",
    "\n",
    "        lD1 = log(D - 1 + K * alpha)\n",
    "        doc_size = len(doc)\n",
    "        for label in range(K):\n",
    "            lN1 = log(m_z[label] + alpha)\n",
    "            lN2 = 0\n",
    "            lD2 = 0\n",
    "            for word in doc:\n",
    "                lN2 += log(n_z_w[label].get(word, 0) + beta)\n",
    "                for j in range(1, doc_size +1):\n",
    "                  lD2 += log(n_z[label] + V * beta + j - 1)\n",
    "            p[label] = exp(lN1 - lD1 + lN2 - lD2)\n",
    "\n",
    "        # normalize the probability vector\n",
    "        pnorm = sum(p)\n",
    "        pnorm = pnorm if pnorm>0 else 1\n",
    "        return [pp/pnorm for pp in p]\n",
    "\n",
    "    def choose_best_label(self, doc):\n",
    "        '''\n",
    "        Choose the highest probability label for the input document\n",
    "        :param doc: list[str]: The doc token stream\n",
    "        :return:\n",
    "        '''\n",
    "        p = self.score(doc)\n",
    "        return argmax(p),max(p)"
   ]
  },
  {
   "cell_type": "code",
   "execution_count": 30,
   "metadata": {
    "id": "VHH-9jcn2TZu"
   },
   "outputs": [],
   "source": [
    "mgp = MovieGroupProcess(K= 100, alpha=0.1, beta=0.1, n_iters=100)\n",
    "\n",
    "\n",
    "\n",
    "\n"
   ]
  },
  {
   "cell_type": "code",
   "execution_count": 31,
   "metadata": {
    "colab": {
     "base_uri": "https://localhost:8080/"
    },
    "id": "KkOYKEP9FrNB",
    "outputId": "21bb3073-2643-4833-ecf8-429069c62d2c"
   },
   "outputs": [
    {
     "data": {
      "text/plain": [
       "3537"
      ]
     },
     "execution_count": 31,
     "metadata": {},
     "output_type": "execute_result"
    }
   ],
   "source": [
    "n_terms"
   ]
  },
  {
   "cell_type": "code",
   "execution_count": 32,
   "metadata": {
    "id": "GBFl45u8FQn3"
   },
   "outputs": [],
   "source": [
    "import numpy as np\n",
    "\n",
    "np.random.seed(0)"
   ]
  },
  {
   "cell_type": "code",
   "execution_count": null,
   "metadata": {
    "colab": {
     "base_uri": "https://localhost:8080/"
    },
    "id": "WuXPAarK2WfC",
    "outputId": "73db9cc1-e966-446c-f254-9c8b453d9348"
   },
   "outputs": [
    {
     "name": "stdout",
     "output_type": "stream",
     "text": [
      "In stage 0: transferred 2955 clusters with 100 clusters populated\n",
      "In stage 1: transferred 1651 clusters with 100 clusters populated\n",
      "In stage 2: transferred 1379 clusters with 100 clusters populated\n",
      "In stage 3: transferred 1310 clusters with 100 clusters populated\n",
      "In stage 4: transferred 1300 clusters with 100 clusters populated\n",
      "In stage 5: transferred 1256 clusters with 100 clusters populated\n",
      "In stage 6: transferred 1220 clusters with 100 clusters populated\n",
      "In stage 7: transferred 1217 clusters with 100 clusters populated\n",
      "In stage 8: transferred 1261 clusters with 100 clusters populated\n",
      "In stage 9: transferred 1248 clusters with 100 clusters populated\n",
      "In stage 10: transferred 1226 clusters with 100 clusters populated\n",
      "In stage 11: transferred 1191 clusters with 100 clusters populated\n",
      "In stage 12: transferred 1220 clusters with 100 clusters populated\n",
      "In stage 13: transferred 1205 clusters with 100 clusters populated\n"
     ]
    }
   ],
   "source": [
    "\n",
    "y = mgp.fit(docs ,n_terms)\n"
   ]
  },
  {
   "cell_type": "code",
   "execution_count": null,
   "metadata": {
    "colab": {
     "base_uri": "https://localhost:8080/"
    },
    "id": "mPkai5iZFQ6R",
    "outputId": "15cdd82e-f972-4bcf-83c0-bc6cd58e9132"
   },
   "outputs": [],
   "source": [
    "docs"
   ]
  },
  {
   "cell_type": "code",
   "execution_count": null,
   "metadata": {
    "colab": {
     "base_uri": "https://localhost:8080/"
    },
    "id": "zPN52Mff2m-9",
    "outputId": "9e74b5bf-0223-4495-eee6-60c7fada27c8"
   },
   "outputs": [],
   "source": [
    "import numpy as np\n",
    "doc_count = np.array(mgp.cluster_doc_count)\n",
    "\n",
    "print('Number_of_documents per topic:', doc_count)\n",
    "print('*'*20)\n",
    "\n"
   ]
  },
  {
   "cell_type": "code",
   "execution_count": null,
   "metadata": {
    "colab": {
     "base_uri": "https://localhost:8080/"
    },
    "id": "yQ-V3tb72e-_",
    "outputId": "8aa9f4cd-4dc3-4ccc-94e4-06ab368fa552"
   },
   "outputs": [],
   "source": [
    "doc_count"
   ]
  },
  {
   "cell_type": "markdown",
   "metadata": {
    "id": "T6zZ_q4BXmXp"
   },
   "source": []
  },
  {
   "cell_type": "code",
   "execution_count": null,
   "metadata": {
    "id": "YJ2qLAm4GymU"
   },
   "outputs": [],
   "source": [
    "temp = mgp.cluster_word_distribution\n"
   ]
  },
  {
   "cell_type": "code",
   "execution_count": null,
   "metadata": {
    "colab": {
     "base_uri": "https://localhost:8080/"
    },
    "id": "wG7nXqOdG0Wh",
    "outputId": "f26450ef-e898-4194-fb21-0693326ac408"
   },
   "outputs": [],
   "source": [
    "temp"
   ]
  },
  {
   "cell_type": "code",
   "execution_count": null,
   "metadata": {
    "id": "oUqDj1gzHBC9"
   },
   "outputs": [],
   "source": [
    "top_index = doc_count.argsort()[-10:][::-1]\n"
   ]
  },
  {
   "cell_type": "code",
   "execution_count": null,
   "metadata": {
    "id": "QVSnkjI2XsVv"
   },
   "outputs": [],
   "source": [
    "top_index = top_index.tolist()"
   ]
  },
  {
   "cell_type": "code",
   "execution_count": null,
   "metadata": {
    "colab": {
     "base_uri": "https://localhost:8080/"
    },
    "id": "JJVQqFlYajps",
    "outputId": "04e957aa-72ca-492d-d55a-2fd7db919fe0"
   },
   "outputs": [],
   "source": [
    "top_index"
   ]
  },
  {
   "cell_type": "code",
   "execution_count": null,
   "metadata": {
    "colab": {
     "base_uri": "https://localhost:8080/"
    },
    "id": "023a4P4FHFtV",
    "outputId": "fcf70c20-0fcc-4cf2-bcc1-89e31d7a16aa"
   },
   "outputs": [],
   "source": [
    "print('Most important Topics/clusters (by number of documents inside):', top_index)\n"
   ]
  },
  {
   "cell_type": "code",
   "execution_count": null,
   "metadata": {
    "id": "fOlItXoN2zrB"
   },
   "outputs": [],
   "source": [
    "def top_words(cluster_word_distribution, top_cluster, values):\n",
    "    for cluster in top_cluster:\n",
    "        sort_dicts =sorted(mgp.cluster_word_distribution[cluster].items(), key=lambda k: k[1], reverse=True)[:values]\n",
    "        print(\"\\nCluster %s : %s\"%(cluster,sort_dicts))"
   ]
  },
  {
   "cell_type": "code",
   "execution_count": null,
   "metadata": {
    "colab": {
     "base_uri": "https://localhost:8080/"
    },
    "id": "G6s9zSOI24ov",
    "outputId": "24687e79-4abb-4000-b6ab-b39ae32e043d"
   },
   "outputs": [],
   "source": [
    "top_words(mgp.cluster_word_distribution, top_index, 10)"
   ]
  },
  {
   "cell_type": "code",
   "execution_count": null,
   "metadata": {},
   "outputs": [],
   "source": [
    "!pip install plotly"
   ]
  },
  {
   "cell_type": "code",
   "execution_count": null,
   "metadata": {
    "id": "vhGrbWSr2giG"
   },
   "outputs": [],
   "source": [
    "z = []\n",
    "\n",
    "for item in y: \n",
    "    if item not in z:\n",
    "        z.append(item)\n",
    "\n"
   ]
  },
  {
   "cell_type": "code",
   "execution_count": null,
   "metadata": {
    "colab": {
     "base_uri": "https://localhost:8080/"
    },
    "id": "ShX91x212isa",
    "outputId": "6969aec7-67d4-49b0-a55f-6a78a027435f"
   },
   "outputs": [],
   "source": [
    "z"
   ]
  },
  {
   "cell_type": "code",
   "execution_count": null,
   "metadata": {
    "colab": {
     "base_uri": "https://localhost:8080/"
    },
    "id": "OVd-3oGY2oJq",
    "outputId": "a4d5269f-afdb-410f-ef04-b6a0a054e19c"
   },
   "outputs": [],
   "source": [
    "for item in z: \n",
    "\n",
    "    print(y.count(item))\n",
    "\n",
    "\n"
   ]
  },
  {
   "cell_type": "code",
   "execution_count": null,
   "metadata": {
    "colab": {
     "base_uri": "https://localhost:8080/",
     "height": 1000
    },
    "id": "_5Ssi56O2u7Z",
    "outputId": "00467ac7-3d0d-40e5-9bc5-da325beac6dd"
   },
   "outputs": [],
   "source": [
    "\n",
    "df\n",
    "\n",
    "\n",
    "\n"
   ]
  },
  {
   "cell_type": "code",
   "execution_count": null,
   "metadata": {
    "id": "piRPzTA32189"
   },
   "outputs": [],
   "source": [
    "df['cluster']=y\n"
   ]
  },
  {
   "cell_type": "code",
   "execution_count": null,
   "metadata": {
    "id": "-5cGrt1D3HfC"
   },
   "outputs": [],
   "source": []
  },
  {
   "cell_type": "code",
   "execution_count": null,
   "metadata": {
    "colab": {
     "base_uri": "https://localhost:8080/",
     "height": 1000
    },
    "id": "2VITyPVI24cV",
    "outputId": "4aa5a991-3093-4500-ecd0-5a2684155035"
   },
   "outputs": [],
   "source": [
    "df[:10]"
   ]
  },
  {
   "cell_type": "code",
   "execution_count": null,
   "metadata": {
    "colab": {
     "base_uri": "https://localhost:8080/",
     "height": 1000
    },
    "id": "XS-si-ex2-xn",
    "outputId": "f4495fa0-2020-4105-a297-4c940c99dca1"
   },
   "outputs": [],
   "source": [
    "df[df['cluster']==9]"
   ]
  },
  {
   "cell_type": "code",
   "execution_count": null,
   "metadata": {
    "id": "f-_mJCg-6yVr"
   },
   "outputs": [],
   "source": [
    "c0 = df[df['cluster']==0]\n",
    "c1 = df[df['cluster']==1]\n",
    "c2 = df[df['cluster']==2]\n",
    "c3 = df[df['cluster']==3]\n",
    "c4 = df[df['cluster']==4]\n",
    "c5 = df[df['cluster']==5]\n",
    "c6 = df[df['cluster']==6]\n",
    "c7 = df[df['cluster']==7]\n",
    "c8 = df[df['cluster']==8]\n",
    "c9 = df[df['cluster']==9]"
   ]
  },
  {
   "cell_type": "code",
   "execution_count": null,
   "metadata": {
    "colab": {
     "base_uri": "https://localhost:8080/",
     "height": 1000
    },
    "id": "qAUGeFRY64p8",
    "outputId": "a6b0620d-e367-4821-b1a4-4358299b512d"
   },
   "outputs": [],
   "source": [
    "c0"
   ]
  },
  {
   "cell_type": "code",
   "execution_count": null,
   "metadata": {
    "id": "Rj67XDlc6xQA"
   },
   "outputs": [],
   "source": [
    "import csv \n",
    "c0.to_csv('c0.csv')\n",
    "c1.to_csv('c1.csv')\n",
    "c2.to_csv('c2.csv')\n",
    "c3.to_csv('c3.csv')\n",
    "c4.to_csv('c4.csv')\n",
    "c5.to_csv('c5.csv')\n",
    "c6.to_csv('c6.csv')\n",
    "c7.to_csv('c7.csv')\n",
    "c8.to_csv('c8.csv')\n",
    "c9.to_csv('c9.csv')\n"
   ]
  },
  {
   "cell_type": "code",
   "execution_count": null,
   "metadata": {
    "id": "PtJK13KD_yo9"
   },
   "outputs": [],
   "source": []
  },
  {
   "cell_type": "code",
   "execution_count": null,
   "metadata": {
    "id": "aVM6aFI_Ggoc"
   },
   "outputs": [],
   "source": [
    "import pandas as pd\n",
    "colnames = ['Tweets','is_retweet','retweeted','mentioned','hashtags','clean_tweet','cluster','new', 'tidy_text', 'tok', 'nouns']\n",
    "df1 = pd.read_csv('c0.csv', names=colnames)\n"
   ]
  },
  {
   "cell_type": "code",
   "execution_count": null,
   "metadata": {
    "colab": {
     "base_uri": "https://localhost:8080/"
    },
    "id": "_CudseGy_3lS",
    "outputId": "d2a4fa71-b6bf-4238-9095-633d17bffbd8"
   },
   "outputs": [],
   "source": [
    "import nltk\n",
    "from nltk.tokenize import RegexpTokenizer\n",
    "from nltk.corpus import stopwords\n",
    "\n",
    "nltk.download('stopwords')\n",
    "\n",
    "def remove_links(tweet):\n",
    "\n",
    "    '''Takes a string and removes web links from it'''\n",
    "    tweet = re.sub(r'http\\S+', '', tweet) # remove http links\n",
    "    tweet = re.sub(r'bit.ly/\\S+', '', tweet) # rempve bitly links\n",
    "    tweet = tweet.strip('[link]') # remove [links]\n",
    "    return tweet\n",
    "\n",
    "def remove_users(tweet):\n",
    "    '''Takes a string and removes retweet and @user information'''\n",
    "    tweet = re.sub('(RT\\s@[A-Za-z]+[A-Za-z0-9-_]+)', '', tweet) # remove retweet\n",
    "    tweet = re.sub('(@[A-Za-z]+[A-Za-z0-9-_]+)', '', tweet) # remove tweeted at\n",
    "    return tweet\n",
    "\n",
    "my_stopwords = nltk.corpus.stopwords.words('english')\n",
    "word_rooter = nltk.stem.snowball.PorterStemmer(ignore_stopwords=False).stem\n",
    "my_punctuation = '!\"$%&\\'()*+,-./:;<=>?[\\\\]^_`{|}~•@'\n",
    "\n",
    "# cleaning master function\n",
    "def clean_tweet(tweet, bigrams=False):\n",
    "    tweet = remove_users(tweet)\n",
    "    tweet = remove_links(tweet)\n",
    "    tweet = tweet.lower() # lower case\n",
    "    tweet = re.sub('['+my_punctuation + ']+', ' ', tweet) # strip punctuation\n",
    "    tweet = re.sub('\\s+', ' ', tweet) #remove double spacing\n",
    "    tweet = re.sub('([0-9]+)', '', tweet) # remove numbers\n",
    "    tweet_token_list = [word for word in tweet.split(' ')\n",
    "                            if word not in my_stopwords] # remove stopwords\n",
    "\n",
    "    tweet_token_list = [word_rooter(word) if '#' not in word else word\n",
    "                        for word in tweet_token_list] # apply word rooter\n",
    "    if bigrams:\n",
    "        tweet_token_list = tweet_token_list+[tweet_token_list[i]+'_'+tweet_token_list[i+1]\n",
    "                                            for i in range(len(tweet_token_list)-1)]\n",
    "    tweet = ' '.join(tweet_token_list)\n",
    "    return tweet\n",
    "\n",
    "nltk.download('stopwords')\n",
    "\n",
    "df1['clean_tweet'] = df1.Tweets.apply(clean_tweet)\n"
   ]
  },
  {
   "cell_type": "code",
   "execution_count": null,
   "metadata": {
    "id": "wi5dtYdaVdQo"
   },
   "outputs": [],
   "source": [
    "fetched_tweets = df1.clean_tweet.tolist()\n"
   ]
  },
  {
   "cell_type": "code",
   "execution_count": null,
   "metadata": {
    "id": "dtsB1O8fZezN"
   },
   "outputs": [],
   "source": []
  },
  {
   "cell_type": "code",
   "execution_count": null,
   "metadata": {
    "colab": {
     "base_uri": "https://localhost:8080/"
    },
    "id": "FgqL4XppGnyH",
    "outputId": "4e12ea02-b1d6-4b44-890e-0bd02115c91b"
   },
   "outputs": [],
   "source": [
    "fetched_tweets"
   ]
  },
  {
   "cell_type": "code",
   "execution_count": null,
   "metadata": {
    "colab": {
     "base_uri": "https://localhost:8080/",
     "height": 240
    },
    "id": "zclw4yQ5uWvX",
    "outputId": "54614f21-ed96-4328-b6c8-bb5936efe2d4"
   },
   "outputs": [],
   "source": [
    "from wordcloud import WordCloud \n",
    "\n",
    "allWords = ' '.join([tweets for tweets in df1['clean_tweet']])\n",
    "wordCloud = WordCloud(width = 800, height = 500, random_state = 21, max_font_size = 119).generate(allWords)\n",
    "plt.imshow(wordCloud, interpolation = \"bilinear\")\n",
    "plt.axis('off')\n",
    "plt.show()"
   ]
  },
  {
   "cell_type": "code",
   "execution_count": null,
   "metadata": {
    "colab": {
     "base_uri": "https://localhost:8080/"
    },
    "id": "X4DFLhQbvp3J",
    "outputId": "6c0086d6-b592-4a2b-e11a-7fa2c74f4d1b"
   },
   "outputs": [],
   "source": [
    "!pip install wordCloud"
   ]
  },
  {
   "cell_type": "code",
   "execution_count": null,
   "metadata": {
    "id": "Ps283-hKGOoH"
   },
   "outputs": [],
   "source": [
    "def get_tweet_sentiment(tweet):\n",
    "\t\t'''\n",
    "\t\tUtility function to classify sentiment of passed tweet\n",
    "\t\tusing textblob's sentiment method\n",
    "\t\t'''\n",
    "\t\t# create TextBlob object of passed tweet text\n",
    "\t\tanalysis = TextBlob(tweet)\n",
    "\t\t# set sentiment\n",
    "\t\tif analysis.sentiment.polarity > 0:\n",
    "\t\t\treturn 'positive'\n",
    "\t\telif analysis.sentiment.polarity == 0:\n",
    "\t\t\treturn 'neutral'\n",
    "\t\telse:\n",
    "\t\t\treturn 'negative'\n"
   ]
  },
  {
   "cell_type": "code",
   "execution_count": null,
   "metadata": {
    "colab": {
     "base_uri": "https://localhost:8080/"
    },
    "id": "Z2a1ifTq39N-",
    "outputId": "b4f2dc25-c2e5-40e9-ca47-bf74cb20fdce"
   },
   "outputs": [],
   "source": [
    "\t# parsing tweets one by one\n",
    "\n",
    "from textblob import TextBlob\n",
    "tweets = []\n",
    "for tweet in fetched_tweets:\n",
    "  #print(tweet)\n",
    "\t\t\t\t# empty dictionary to store required params of a tweet\n",
    "  parsed_tweet = {}\n",
    "  parsed_tweet['text'] = tweet\n",
    "  parsed_tweet['sentiment']=get_tweet_sentiment(tweet)\n",
    "  tweets.append(parsed_tweet)\n",
    "\t\n",
    " \n",
    "\t\n",
    "print(tweets)"
   ]
  },
  {
   "cell_type": "code",
   "execution_count": null,
   "metadata": {},
   "outputs": [],
   "source": [
    "!pip install textblob"
   ]
  },
  {
   "cell_type": "code",
   "execution_count": null,
   "metadata": {
    "colab": {
     "base_uri": "https://localhost:8080/"
    },
    "id": "_h0BAZLoGkKv",
    "outputId": "5b2ec417-9e97-4c7d-ed61-6451d862ab8e"
   },
   "outputs": [],
   "source": [
    "tweets"
   ]
  },
  {
   "cell_type": "code",
   "execution_count": null,
   "metadata": {
    "id": "NkOHaqG5Zis7"
   },
   "outputs": [],
   "source": []
  },
  {
   "cell_type": "code",
   "execution_count": null,
   "metadata": {
    "id": "yohNjGomZK7v"
   },
   "outputs": [],
   "source": []
  },
  {
   "cell_type": "code",
   "execution_count": null,
   "metadata": {
    "colab": {
     "base_uri": "https://localhost:8080/"
    },
    "id": "pQUCy6ezFAru",
    "outputId": "0f75a972-401b-4705-e122-9e1b2e36e03e"
   },
   "outputs": [],
   "source": [
    "\n",
    "   \n",
    "# output the dataframe\n",
    "  \n",
    "\n",
    "ptweets = [tweet for tweet in tweets if tweet['sentiment'] == 'positive']\n",
    "\t# percentage of positive tweets\n",
    "print(\"Positive tweets percentage: {} %\".format(100*len(ptweets)/len(tweets)))\n",
    "\t# picking negative tweets from tweets\n",
    "ntweets = [tweet for tweet in tweets if tweet['sentiment'] == 'negative']\n",
    "\t# percentage of negative tweets\n",
    "print(\"Negative tweets percentage: {} %\".format(100*len(ntweets)/len(tweets)))\n",
    "\t# percentage of neutral tweets\n",
    "print(\"Neutral tweets percentage: {} % \\\n",
    "\t\t\".format(100*(len(tweets) -(len( ntweets )+len( ptweets)))/len(tweets)))\n",
    "\n",
    "\t# printing first 5 positive tweets\n",
    "print(\"\\n\\nPositive tweets:\")\n",
    "for tweet in ptweets[:400]:\n",
    "\tprint(tweet['text'])\n",
    "\n",
    "\t# printing first 5 negative tweets\n",
    "print(\"\\n\\nNegative tweets:\")\n",
    "for tweet in ntweets[:10]:\n",
    "  print(tweet['text'])\n"
   ]
  },
  {
   "cell_type": "code",
   "execution_count": null,
   "metadata": {
    "colab": {
     "base_uri": "https://localhost:8080/",
     "height": 406
    },
    "id": "0OLk3L8O01-S",
    "outputId": "fc1f5142-1f1e-4123-c6bc-4c8024d709fb"
   },
   "outputs": [],
   "source": [
    "\n",
    "import pandas as pd\n",
    "\n",
    "df1 = pd.DataFrame(tweets, columns=['sentiment'])\n",
    "df1.head(1000)\n"
   ]
  },
  {
   "cell_type": "code",
   "execution_count": null,
   "metadata": {
    "colab": {
     "base_uri": "https://localhost:8080/",
     "height": 718
    },
    "id": "dA8IgFBQFqcT",
    "outputId": "f1fbab5b-56e5-49e8-979d-139b9c0f71c1"
   },
   "outputs": [],
   "source": [
    "df1.apply(pd.Series.value_counts)\n",
    "plt.title('Sentiment Analysis')\n",
    "plt.xlabel ('Sentiment')\n",
    "plt.ylabel('Counts')\n",
    "df1.apply(pd.Series.value_counts).plot(kind = 'bar')\n",
    "plt.show()\n"
   ]
  },
  {
   "cell_type": "code",
   "execution_count": null,
   "metadata": {
    "id": "b1LwxgYGZMdI"
   },
   "outputs": [],
   "source": []
  },
  {
   "cell_type": "code",
   "execution_count": null,
   "metadata": {
    "id": "0Z7bnZibZMsE"
   },
   "outputs": [],
   "source": [
    "import pandas as pd\n",
    "colnames = ['Tweets','is_retweet','retweeted','mentioned','hashtags','clean_tweet','cluster','new', 'tidy_text', 'tok', 'nouns']\n",
    "df2 = pd.read_csv('c1.csv', names=colnames)\n"
   ]
  },
  {
   "cell_type": "code",
   "execution_count": null,
   "metadata": {
    "id": "eAGRLlykZT75"
   },
   "outputs": [],
   "source": [
    "import nltk\n",
    "from nltk.tokenize import RegexpTokenizer\n",
    "from nltk.corpus import stopwords\n",
    "\n",
    "nltk.download('stopwords')\n",
    "\n",
    "def remove_links(tweet):\n",
    "\n",
    "    '''Takes a string and removes web links from it'''\n",
    "    tweet = re.sub(r'http\\S+', '', tweet) # remove http links\n",
    "    tweet = re.sub(r'bit.ly/\\S+', '', tweet) # rempve bitly links\n",
    "    tweet = tweet.strip('[link]') # remove [links]\n",
    "    return tweet\n",
    "\n",
    "def remove_users(tweet):\n",
    "    '''Takes a string and removes retweet and @user information'''\n",
    "    tweet = re.sub('(RT\\s@[A-Za-z]+[A-Za-z0-9-_]+)', '', tweet) # remove retweet\n",
    "    tweet = re.sub('(@[A-Za-z]+[A-Za-z0-9-_]+)', '', tweet) # remove tweeted at\n",
    "    return tweet\n",
    "\n",
    "my_stopwords = nltk.corpus.stopwords.words('english')\n",
    "word_rooter = nltk.stem.snowball.PorterStemmer(ignore_stopwords=False).stem\n",
    "my_punctuation = '!\"$%&\\'()*+,-./:;<=>?[\\\\]^_`{|}~•@'\n",
    "\n",
    "# cleaning master function\n",
    "def clean_tweet(tweet, bigrams=False):\n",
    "    tweet = remove_users(tweet)\n",
    "    tweet = remove_links(tweet)\n",
    "    tweet = tweet.lower() # lower case\n",
    "    tweet = re.sub('['+my_punctuation + ']+', ' ', tweet) # strip punctuation\n",
    "    tweet = re.sub('\\s+', ' ', tweet) #remove double spacing\n",
    "    tweet = re.sub('([0-9]+)', '', tweet) # remove numbers\n",
    "    tweet_token_list = [word for word in tweet.split(' ')\n",
    "                            if word not in my_stopwords] # remove stopwords\n",
    "\n",
    "    tweet_token_list = [word_rooter(word) if '#' not in word else word\n",
    "                        for word in tweet_token_list] # apply word rooter\n",
    "    if bigrams:\n",
    "        tweet_token_list = tweet_token_list+[tweet_token_list[i]+'_'+tweet_token_list[i+1]\n",
    "                                            for i in range(len(tweet_token_list)-1)]\n",
    "    tweet = ' '.join(tweet_token_list)\n",
    "    return tweet\n",
    "\n",
    "nltk.download('stopwords')\n",
    "\n",
    "df2['clean_tweet'] = df2.Tweets.apply(clean_tweet)"
   ]
  },
  {
   "cell_type": "code",
   "execution_count": null,
   "metadata": {
    "id": "Ra4uGelWZj9l"
   },
   "outputs": [],
   "source": [
    "fetched_tweets = df2.clean_tweet.tolist()\n"
   ]
  },
  {
   "cell_type": "code",
   "execution_count": null,
   "metadata": {
    "id": "TyYhLSssZkgg"
   },
   "outputs": [],
   "source": [
    "fetched_tweets"
   ]
  },
  {
   "cell_type": "code",
   "execution_count": null,
   "metadata": {
    "id": "Vaz88MwzaVnm"
   },
   "outputs": [],
   "source": []
  },
  {
   "cell_type": "code",
   "execution_count": null,
   "metadata": {
    "id": "MuTaiOeZoNEP"
   },
   "outputs": [],
   "source": [
    "from wordcloud import WordCloud \n",
    "\n",
    "allWords = ' '.join([tweets for tweets in df2['clean_tweet']])\n",
    "wordCloud = WordCloud(width = 800, height = 500, random_state = 21, max_font_size = 119).generate(allWords)\n",
    "plt.imshow(wordCloud, interpolation = \"bilinear\")\n",
    "plt.axis('off')\n",
    "plt.show()"
   ]
  },
  {
   "cell_type": "code",
   "execution_count": null,
   "metadata": {
    "id": "__V6srb2ZpWn"
   },
   "outputs": [],
   "source": [
    "def get_tweet_sentiment(tweet):\n",
    "\t\t'''\n",
    "\t\tUtility function to classify sentiment of passed tweet\n",
    "\t\tusing textblob's sentiment method\n",
    "\t\t'''\n",
    "\t\t# create TextBlob object of passed tweet text\n",
    "\t\tanalysis = TextBlob(tweet)\n",
    "\t\t# set sentiment\n",
    "\t\tif analysis.sentiment.polarity > 0:\n",
    "\t\t\treturn 'positive'\n",
    "\t\telif analysis.sentiment.polarity == 0:\n",
    "\t\t\treturn 'neutral'\n",
    "\t\telse:\n",
    "\t\t\treturn 'negative'\n"
   ]
  },
  {
   "cell_type": "code",
   "execution_count": null,
   "metadata": {},
   "outputs": [],
   "source": [
    "from textblob import TextBlob\n",
    "tweets = []\n",
    "for tweet in fetched_tweets:\n",
    "  #print(tweet)\n",
    "\t\t\t\t# empty dictionary to store required params of a tweet\n",
    "  parsed_tweet = {}\n",
    "  parsed_tweet['text'] = tweet\n",
    "  parsed_tweet['sentiment']=get_tweet_sentiment(tweet)\n",
    "  tweets.append(parsed_tweet)\n",
    "\t\n",
    " \n",
    "\t\n",
    "print(tweets)"
   ]
  },
  {
   "cell_type": "code",
   "execution_count": null,
   "metadata": {
    "id": "Ya7lBv4tZsLa"
   },
   "outputs": [],
   "source": [
    "\n",
    "   \n",
    "# output the dataframe\n",
    "  \n",
    "\n",
    "ptweets = [tweet for tweet in tweets if tweet['sentiment'] == 'positive']\n",
    "\t# percentage of positive tweets\n",
    "print(\"Positive tweets percentage: {} %\".format(100*len(ptweets)/len(tweets)))\n",
    "\t# picking negative tweets from tweets\n",
    "ntweets = [tweet for tweet in tweets if tweet['sentiment'] == 'negative']\n",
    "\t# percentage of negative tweets\n",
    "print(\"Negative tweets percentage: {} %\".format(100*len(ntweets)/len(tweets)))\n",
    "\t# percentage of neutral tweets\n",
    "print(\"Neutral tweets percentage: {} % \\\n",
    "\t\t\".format(100*(len(tweets) -(len( ntweets )+len( ptweets)))/len(tweets)))\n",
    "\n",
    "\t# printing first 5 positive tweets\n",
    "print(\"\\n\\nPositive tweets:\")\n",
    "for tweet in ptweets[:400]:\n",
    "\tprint(tweet['text'])\n",
    "\n",
    "\t# printing first 5 negative tweets\n",
    "print(\"\\n\\nNegative tweets:\")\n",
    "for tweet in ntweets[:10]:\n",
    "  print(tweet['text'])\n"
   ]
  },
  {
   "cell_type": "code",
   "execution_count": null,
   "metadata": {
    "id": "vnRT6lskZyev"
   },
   "outputs": [],
   "source": [
    "\n",
    "import pandas as pd\n",
    "\n",
    "df2 = pd.DataFrame(tweets, columns=['sentiment'])\n",
    "df2.head(1000)\n"
   ]
  },
  {
   "cell_type": "code",
   "execution_count": null,
   "metadata": {
    "id": "fcdjTQiKZ1Jf"
   },
   "outputs": [],
   "source": [
    "df2.apply(pd.Series.value_counts)\n",
    "plt.title('Sentiment Analysis')\n",
    "plt.xlabel ('Sentiment')\n",
    "plt.ylabel('Counts')\n",
    "df2.apply(pd.Series.value_counts).plot(kind = 'bar')\n",
    "plt.show()\n"
   ]
  },
  {
   "cell_type": "code",
   "execution_count": null,
   "metadata": {
    "id": "fuIbTFheZ7ef"
   },
   "outputs": [],
   "source": []
  },
  {
   "cell_type": "code",
   "execution_count": null,
   "metadata": {
    "id": "ATpqlBDiZ7vO"
   },
   "outputs": [],
   "source": [
    "import pandas as pd\n",
    "colnames = ['Tweets','is_retweet','retweeted','mentioned','hashtags','clean_tweet','cluster','new', 'tidy_text', 'tok', 'nouns']\n",
    "df3 = pd.read_csv('c2.csv', names=colnames)\n"
   ]
  },
  {
   "cell_type": "code",
   "execution_count": null,
   "metadata": {
    "id": "tVlegMK-Z_IH"
   },
   "outputs": [],
   "source": [
    "import nltk\n",
    "from nltk.tokenize import RegexpTokenizer\n",
    "from nltk.corpus import stopwords\n",
    "\n",
    "nltk.download('stopwords')\n",
    "\n",
    "def remove_links(tweet):\n",
    "\n",
    "    '''Takes a string and removes web links from it'''\n",
    "    tweet = re.sub(r'http\\S+', '', tweet) # remove http links\n",
    "    tweet = re.sub(r'bit.ly/\\S+', '', tweet) # rempve bitly links\n",
    "    tweet = tweet.strip('[link]') # remove [links]\n",
    "    return tweet\n",
    "\n",
    "def remove_users(tweet):\n",
    "    '''Takes a string and removes retweet and @user information'''\n",
    "    tweet = re.sub('(RT\\s@[A-Za-z]+[A-Za-z0-9-_]+)', '', tweet) # remove retweet\n",
    "    tweet = re.sub('(@[A-Za-z]+[A-Za-z0-9-_]+)', '', tweet) # remove tweeted at\n",
    "    return tweet\n",
    "\n",
    "my_stopwords = nltk.corpus.stopwords.words('english')\n",
    "word_rooter = nltk.stem.snowball.PorterStemmer(ignore_stopwords=False).stem\n",
    "my_punctuation = '!\"$%&\\'()*+,-./:;<=>?[\\\\]^_`{|}~•@'\n",
    "\n",
    "# cleaning master function\n",
    "def clean_tweet(tweet, bigrams=False):\n",
    "    tweet = remove_users(tweet)\n",
    "    tweet = remove_links(tweet)\n",
    "    tweet = tweet.lower() # lower case\n",
    "    tweet = re.sub('['+my_punctuation + ']+', ' ', tweet) # strip punctuation\n",
    "    tweet = re.sub('\\s+', ' ', tweet) #remove double spacing\n",
    "    tweet = re.sub('([0-9]+)', '', tweet) # remove numbers\n",
    "    tweet_token_list = [word for word in tweet.split(' ')\n",
    "                            if word not in my_stopwords] # remove stopwords\n",
    "\n",
    "    tweet_token_list = [word_rooter(word) if '#' not in word else word\n",
    "                        for word in tweet_token_list] # apply word rooter\n",
    "    if bigrams:\n",
    "        tweet_token_list = tweet_token_list+[tweet_token_list[i]+'_'+tweet_token_list[i+1]\n",
    "                                            for i in range(len(tweet_token_list)-1)]\n",
    "    tweet = ' '.join(tweet_token_list)\n",
    "    return tweet\n",
    "nltk.download('stopwords')\n",
    "\n",
    "df3['clean_tweet'] = df3.Tweets.apply(clean_tweet)"
   ]
  },
  {
   "cell_type": "code",
   "execution_count": null,
   "metadata": {
    "id": "32X-efmUaB0d"
   },
   "outputs": [],
   "source": [
    "fetched_tweets = df3.clean_tweet.tolist()\n"
   ]
  },
  {
   "cell_type": "code",
   "execution_count": null,
   "metadata": {
    "id": "Y4HA9AH4oRUR"
   },
   "outputs": [],
   "source": [
    "from wordcloud import WordCloud \n",
    "\n",
    "allWords = ' '.join([tweets for tweets in df3['clean_tweet']])\n",
    "wordCloud = WordCloud(width = 800, height = 500, random_state = 21, max_font_size = 119).generate(allWords)\n",
    "plt.imshow(wordCloud, interpolation = \"bilinear\")\n",
    "plt.axis('off')\n",
    "plt.show()"
   ]
  },
  {
   "cell_type": "code",
   "execution_count": null,
   "metadata": {
    "id": "4kT0FHrTaEju"
   },
   "outputs": [],
   "source": [
    "def get_tweet_sentiment(tweet):\n",
    "\t\t'''\n",
    "\t\tUtility function to classify sentiment of passed tweet\n",
    "\t\tusing textblob's sentiment method\n",
    "\t\t'''\n",
    "\t\t# create TextBlob object of passed tweet text\n",
    "\t\tanalysis = TextBlob(tweet)\n",
    "\t\t# set sentiment\n",
    "\t\tif analysis.sentiment.polarity > 0:\n",
    "\t\t\treturn 'positive'\n",
    "\t\telif analysis.sentiment.polarity == 0:\n",
    "\t\t\treturn 'neutral'\n",
    "\t\telse:\n",
    "\t\t\treturn 'negative'\n"
   ]
  },
  {
   "cell_type": "code",
   "execution_count": null,
   "metadata": {},
   "outputs": [],
   "source": [
    "from textblob import TextBlob\n",
    "tweets = []\n",
    "for tweet in fetched_tweets:\n",
    "  #print(tweet)\n",
    "\t\t\t\t# empty dictionary to store required params of a tweet\n",
    "  parsed_tweet = {}\n",
    "  parsed_tweet['text'] = tweet\n",
    "  parsed_tweet['sentiment']=get_tweet_sentiment(tweet)\n",
    "  tweets.append(parsed_tweet)\n",
    "\t\n",
    " \n",
    "\t\n",
    "print(tweets)"
   ]
  },
  {
   "cell_type": "code",
   "execution_count": null,
   "metadata": {
    "id": "bcnWI5YRaHIJ"
   },
   "outputs": [],
   "source": [
    "\n",
    "   \n",
    "# output the dataframe\n",
    "  \n",
    "\n",
    "ptweets = [tweet for tweet in tweets if tweet['sentiment'] == 'positive']\n",
    "\t# percentage of positive tweets\n",
    "print(\"Positive tweets percentage: {} %\".format(100*len(ptweets)/len(tweets)))\n",
    "\t# picking negative tweets from tweets\n",
    "ntweets = [tweet for tweet in tweets if tweet['sentiment'] == 'negative']\n",
    "\t# percentage of negative tweets\n",
    "print(\"Negative tweets percentage: {} %\".format(100*len(ntweets)/len(tweets)))\n",
    "\t# percentage of neutral tweets\n",
    "print(\"Neutral tweets percentage: {} % \\\n",
    "\t\t\".format(100*(len(tweets) -(len( ntweets )+len( ptweets)))/len(tweets)))\n",
    "\n",
    "\t# printing first 5 positive tweets\n",
    "print(\"\\n\\nPositive tweets:\")\n",
    "for tweet in ptweets[:400]:\n",
    "\tprint(tweet['text'])\n",
    "\n",
    "\t# printing first 5 negative tweets\n",
    "print(\"\\n\\nNegative tweets:\")\n",
    "for tweet in ntweets[:10]:\n",
    "  print(tweet['text'])\n"
   ]
  },
  {
   "cell_type": "code",
   "execution_count": null,
   "metadata": {
    "id": "zy-X7CT3aKeP"
   },
   "outputs": [],
   "source": [
    "\n",
    "import pandas as pd\n",
    "\n",
    "df3 = pd.DataFrame(tweets, columns=['sentiment'])\n",
    "df3.head(1000)\n"
   ]
  },
  {
   "cell_type": "code",
   "execution_count": null,
   "metadata": {
    "id": "OktRxTWraM7S"
   },
   "outputs": [],
   "source": []
  },
  {
   "cell_type": "code",
   "execution_count": null,
   "metadata": {
    "id": "sQxS68ctaNK1"
   },
   "outputs": [],
   "source": [
    "df3.apply(pd.Series.value_counts)\n",
    "plt.title('Sentiment Analysis')\n",
    "plt.xlabel ('Sentiment')\n",
    "plt.ylabel('Counts')\n",
    "df3.apply(pd.Series.value_counts).plot(kind = 'bar')\n",
    "plt.show()\n"
   ]
  },
  {
   "cell_type": "code",
   "execution_count": null,
   "metadata": {
    "id": "TqMZ9uxraSCI"
   },
   "outputs": [],
   "source": [
    "import pandas as pd\n",
    "colnames = ['Tweets','is_retweet','retweeted','mentioned','hashtags','clean_tweet','cluster','new', 'tidy_text', 'tok', 'nouns']\n",
    "df4 = pd.read_csv('c3.csv', names=colnames)\n"
   ]
  },
  {
   "cell_type": "code",
   "execution_count": null,
   "metadata": {
    "id": "ddkwlSb1abm1"
   },
   "outputs": [],
   "source": [
    "import nltk\n",
    "from nltk.tokenize import RegexpTokenizer\n",
    "from nltk.corpus import stopwords\n",
    "\n",
    "nltk.download('stopwords')\n",
    "\n",
    "def remove_links(tweet):\n",
    "\n",
    "    '''Takes a string and removes web links from it'''\n",
    "    tweet = re.sub(r'http\\S+', '', tweet) # remove http links\n",
    "    tweet = re.sub(r'bit.ly/\\S+', '', tweet) # rempve bitly links\n",
    "    tweet = tweet.strip('[link]') # remove [links]\n",
    "    return tweet\n",
    "\n",
    "def remove_users(tweet):\n",
    "    '''Takes a string and removes retweet and @user information'''\n",
    "    tweet = re.sub('(RT\\s@[A-Za-z]+[A-Za-z0-9-_]+)', '', tweet) # remove retweet\n",
    "    tweet = re.sub('(@[A-Za-z]+[A-Za-z0-9-_]+)', '', tweet) # remove tweeted at\n",
    "    return tweet\n",
    "\n",
    "my_stopwords = nltk.corpus.stopwords.words('english')\n",
    "word_rooter = nltk.stem.snowball.PorterStemmer(ignore_stopwords=False).stem\n",
    "my_punctuation = '!\"$%&\\'()*+,-./:;<=>?[\\\\]^_`{|}~•@'\n",
    "\n",
    "# cleaning master function\n",
    "def clean_tweet(tweet, bigrams=False):\n",
    "    tweet = remove_users(tweet)\n",
    "    tweet = remove_links(tweet)\n",
    "    tweet = tweet.lower() # lower case\n",
    "    tweet = re.sub('['+my_punctuation + ']+', ' ', tweet) # strip punctuation\n",
    "    tweet = re.sub('\\s+', ' ', tweet) #remove double spacing\n",
    "    tweet = re.sub('([0-9]+)', '', tweet) # remove numbers\n",
    "    tweet_token_list = [word for word in tweet.split(' ')\n",
    "                            if word not in my_stopwords] # remove stopwords\n",
    "\n",
    "    tweet_token_list = [word_rooter(word) if '#' not in word else word\n",
    "                        for word in tweet_token_list] # apply word rooter\n",
    "    if bigrams:\n",
    "        tweet_token_list = tweet_token_list+[tweet_token_list[i]+'_'+tweet_token_list[i+1]\n",
    "                                            for i in range(len(tweet_token_list)-1)]\n",
    "    tweet = ' '.join(tweet_token_list)\n",
    "    return tweet\n",
    "\n",
    "nltk.download('stopwords')\n",
    "\n",
    "df4['clean_tweet'] = df4.Tweets.apply(clean_tweet)\n"
   ]
  },
  {
   "cell_type": "code",
   "execution_count": null,
   "metadata": {
    "id": "TkTStIMLalzw"
   },
   "outputs": [],
   "source": [
    "fetched_tweets = df4.clean_tweet.tolist()\n"
   ]
  },
  {
   "cell_type": "code",
   "execution_count": null,
   "metadata": {
    "id": "NvBtlyucoXIR"
   },
   "outputs": [],
   "source": [
    "from wordcloud import WordCloud \n",
    "\n",
    "allWords = ' '.join([tweets for tweets in df4['clean_tweet']])\n",
    "wordCloud = WordCloud(width = 800, height = 500, random_state = 21, max_font_size = 119).generate(allWords)\n",
    "plt.imshow(wordCloud, interpolation = \"bilinear\")\n",
    "plt.axis('off')\n",
    "plt.show()"
   ]
  },
  {
   "cell_type": "code",
   "execution_count": null,
   "metadata": {
    "id": "6EDgpTelavb4"
   },
   "outputs": [],
   "source": [
    "def get_tweet_sentiment(tweet):\n",
    "\t\t'''\n",
    "\t\tUtility function to classify sentiment of passed tweet\n",
    "\t\tusing textblob's sentiment method\n",
    "\t\t'''\n",
    "\t\t# create TextBlob object of passed tweet text\n",
    "\t\tanalysis = TextBlob(tweet)\n",
    "\t\t# set sentiment\n",
    "\t\tif analysis.sentiment.polarity > 0:\n",
    "\t\t\treturn 'positive'\n",
    "\t\telif analysis.sentiment.polarity == 0:\n",
    "\t\t\treturn 'neutral'\n",
    "\t\telse:\n",
    "\t\t\treturn 'negative'\n"
   ]
  },
  {
   "cell_type": "code",
   "execution_count": null,
   "metadata": {},
   "outputs": [],
   "source": [
    "from textblob import TextBlob\n",
    "tweets = []\n",
    "for tweet in fetched_tweets:\n",
    "  #print(tweet)\n",
    "\t\t\t\t# empty dictionary to store required params of a tweet\n",
    "  parsed_tweet = {}\n",
    "  parsed_tweet['text'] = tweet\n",
    "  parsed_tweet['sentiment']=get_tweet_sentiment(tweet)\n",
    "  tweets.append(parsed_tweet)\n",
    "\t\n",
    " \n",
    "\t\n",
    "print(tweets)"
   ]
  },
  {
   "cell_type": "code",
   "execution_count": null,
   "metadata": {
    "id": "F71BxKembhDl"
   },
   "outputs": [],
   "source": [
    "\n",
    "   \n",
    "# output the dataframe\n",
    "  \n",
    "\n",
    "ptweets = [tweet for tweet in tweets if tweet['sentiment'] == 'positive']\n",
    "\t# percentage of positive tweets\n",
    "print(\"Positive tweets percentage: {} %\".format(100*len(ptweets)/len(tweets)))\n",
    "\t# picking negative tweets from tweets\n",
    "ntweets = [tweet for tweet in tweets if tweet['sentiment'] == 'negative']\n",
    "\t# percentage of negative tweets\n",
    "print(\"Negative tweets percentage: {} %\".format(100*len(ntweets)/len(tweets)))\n",
    "\t# percentage of neutral tweets\n",
    "print(\"Neutral tweets percentage: {} % \\\n",
    "\t\t\".format(100*(len(tweets) -(len( ntweets )+len( ptweets)))/len(tweets)))\n",
    "\n",
    "\t# printing first 5 positive tweets\n",
    "print(\"\\n\\nPositive tweets:\")\n",
    "for tweet in ptweets[:400]:\n",
    "\tprint(tweet['text'])\n",
    "\n",
    "\t# printing first 5 negative tweets\n",
    "print(\"\\n\\nNegative tweets:\")\n",
    "for tweet in ntweets[:10]:\n",
    "  print(tweet['text'])\n"
   ]
  },
  {
   "cell_type": "code",
   "execution_count": null,
   "metadata": {
    "id": "dVGxCq4rbNOt"
   },
   "outputs": [],
   "source": [
    "\n",
    "import pandas as pd\n",
    "\n",
    "df4 = pd.DataFrame(tweets, columns=['sentiment'])\n",
    "df4.head(1000)\n"
   ]
  },
  {
   "cell_type": "code",
   "execution_count": null,
   "metadata": {
    "id": "OEnxK1mebtIt"
   },
   "outputs": [],
   "source": [
    "df4.apply(pd.Series.value_counts)\n",
    "plt.title('Sentiment Analysis')\n",
    "plt.xlabel ('Sentiment')\n",
    "plt.ylabel('Counts')\n",
    "df4.apply(pd.Series.value_counts).plot(kind = 'bar')\n",
    "plt.show()\n"
   ]
  },
  {
   "cell_type": "code",
   "execution_count": null,
   "metadata": {
    "id": "IrD74Nk8aTSI"
   },
   "outputs": [],
   "source": [
    "import pandas as pd\n",
    "colnames = ['Tweets','is_retweet','retweeted','mentioned','hashtags','clean_tweet','cluster','new', 'tidy_text', 'tok', 'nouns']\n",
    "df5 = pd.read_csv('c4.csv', names=colnames)\n"
   ]
  },
  {
   "cell_type": "code",
   "execution_count": null,
   "metadata": {
    "id": "Get9RyXBac2H"
   },
   "outputs": [],
   "source": [
    "import nltk\n",
    "from nltk.tokenize import RegexpTokenizer\n",
    "from nltk.corpus import stopwords\n",
    "\n",
    "nltk.download('stopwords')\n",
    "\n",
    "def remove_links(tweet):\n",
    "\n",
    "    '''Takes a string and removes web links from it'''\n",
    "    tweet = re.sub(r'http\\S+', '', tweet) # remove http links\n",
    "    tweet = re.sub(r'bit.ly/\\S+', '', tweet) # rempve bitly links\n",
    "    tweet = tweet.strip('[link]') # remove [links]\n",
    "    return tweet\n",
    "\n",
    "def remove_users(tweet):\n",
    "    '''Takes a string and removes retweet and @user information'''\n",
    "    tweet = re.sub('(RT\\s@[A-Za-z]+[A-Za-z0-9-_]+)', '', tweet) # remove retweet\n",
    "    tweet = re.sub('(@[A-Za-z]+[A-Za-z0-9-_]+)', '', tweet) # remove tweeted at\n",
    "    return tweet\n",
    "\n",
    "my_stopwords = nltk.corpus.stopwords.words('english')\n",
    "word_rooter = nltk.stem.snowball.PorterStemmer(ignore_stopwords=False).stem\n",
    "my_punctuation = '!\"$%&\\'()*+,-./:;<=>?[\\\\]^_`{|}~•@'\n",
    "\n",
    "# cleaning master function\n",
    "def clean_tweet(tweet, bigrams=False):\n",
    "    tweet = remove_users(tweet)\n",
    "    tweet = remove_links(tweet)\n",
    "    tweet = tweet.lower() # lower case\n",
    "    tweet = re.sub('['+my_punctuation + ']+', ' ', tweet) # strip punctuation\n",
    "    tweet = re.sub('\\s+', ' ', tweet) #remove double spacing\n",
    "    tweet = re.sub('([0-9]+)', '', tweet) # remove numbers\n",
    "    tweet_token_list = [word for word in tweet.split(' ')\n",
    "                            if word not in my_stopwords] # remove stopwords\n",
    "\n",
    "    tweet_token_list = [word_rooter(word) if '#' not in word else word\n",
    "                        for word in tweet_token_list] # apply word rooter\n",
    "    if bigrams:\n",
    "        tweet_token_list = tweet_token_list+[tweet_token_list[i]+'_'+tweet_token_list[i+1]\n",
    "                                            for i in range(len(tweet_token_list)-1)]\n",
    "    tweet = ' '.join(tweet_token_list)\n",
    "    return tweet\n",
    "\n",
    "nltk.download('stopwords')\n",
    "\n",
    "df5['clean_tweet'] = df5.Tweets.apply(clean_tweet)\n"
   ]
  },
  {
   "cell_type": "code",
   "execution_count": null,
   "metadata": {
    "id": "XT900u0Pamwd"
   },
   "outputs": [],
   "source": [
    "fetched_tweets = df5.clean_tweet.tolist()\n"
   ]
  },
  {
   "cell_type": "code",
   "execution_count": null,
   "metadata": {
    "id": "FCp6JUJ4oaPU"
   },
   "outputs": [],
   "source": [
    "from wordcloud import WordCloud \n",
    "\n",
    "allWords = ' '.join([tweets for tweets in df5['clean_tweet']])\n",
    "wordCloud = WordCloud(width = 800, height = 500, random_state = 21, max_font_size = 119).generate(allWords)\n",
    "plt.imshow(wordCloud, interpolation = \"bilinear\")\n",
    "plt.axis('off')\n",
    "plt.show()"
   ]
  },
  {
   "cell_type": "code",
   "execution_count": null,
   "metadata": {
    "id": "5oRReJDEaw1q"
   },
   "outputs": [],
   "source": [
    "def get_tweet_sentiment(tweet):\n",
    "\t\t'''\n",
    "\t\tUtility function to classify sentiment of passed tweet\n",
    "\t\tusing textblob's sentiment method\n",
    "\t\t'''\n",
    "\t\t# create TextBlob object of passed tweet text\n",
    "\t\tanalysis = TextBlob(tweet)\n",
    "\t\t# set sentiment\n",
    "\t\tif analysis.sentiment.polarity > 0:\n",
    "\t\t\treturn 'positive'\n",
    "\t\telif analysis.sentiment.polarity == 0:\n",
    "\t\t\treturn 'neutral'\n",
    "\t\telse:\n",
    "\t\t\treturn 'negative'\n"
   ]
  },
  {
   "cell_type": "code",
   "execution_count": null,
   "metadata": {},
   "outputs": [],
   "source": [
    "from textblob import TextBlob\n",
    "tweets = []\n",
    "for tweet in fetched_tweets:\n",
    "  #print(tweet)\n",
    "\t\t\t\t# empty dictionary to store required params of a tweet\n",
    "  parsed_tweet = {}\n",
    "  parsed_tweet['text'] = tweet\n",
    "  parsed_tweet['sentiment']=get_tweet_sentiment(tweet)\n",
    "  tweets.append(parsed_tweet)\n",
    "\t\n",
    " \n",
    "\t\n",
    "print(tweets)"
   ]
  },
  {
   "cell_type": "code",
   "execution_count": null,
   "metadata": {
    "id": "hJJL7ppPbfMq"
   },
   "outputs": [],
   "source": [
    "\n",
    "   \n",
    "# output the dataframe\n",
    "  \n",
    "\n",
    "ptweets = [tweet for tweet in tweets if tweet['sentiment'] == 'positive']\n",
    "\t# percentage of positive tweets\n",
    "print(\"Positive tweets percentage: {} %\".format(100*len(ptweets)/len(tweets)))\n",
    "\t# picking negative tweets from tweets\n",
    "ntweets = [tweet for tweet in tweets if tweet['sentiment'] == 'negative']\n",
    "\t# percentage of negative tweets\n",
    "print(\"Negative tweets percentage: {} %\".format(100*len(ntweets)/len(tweets)))\n",
    "\t# percentage of neutral tweets\n",
    "print(\"Neutral tweets percentage: {} % \\\n",
    "\t\t\".format(100*(len(tweets) -(len( ntweets )+len( ptweets)))/len(tweets)))\n",
    "\n",
    "\t# printing first 5 positive tweets\n",
    "print(\"\\n\\nPositive tweets:\")\n",
    "for tweet in ptweets[:400]:\n",
    "\tprint(tweet['text'])\n",
    "\n",
    "\t# printing first 5 negative tweets\n",
    "print(\"\\n\\nNegative tweets:\")\n",
    "for tweet in ntweets[:10]:\n",
    "  print(tweet['text'])\n"
   ]
  },
  {
   "cell_type": "code",
   "execution_count": null,
   "metadata": {
    "id": "mNrvq338bPR9"
   },
   "outputs": [],
   "source": [
    "\n",
    "import pandas as pd\n",
    "\n",
    "df5 = pd.DataFrame(tweets, columns=['sentiment'])\n",
    "df5.head(1000)\n"
   ]
  },
  {
   "cell_type": "code",
   "execution_count": null,
   "metadata": {
    "id": "qJp016bFbvpA"
   },
   "outputs": [],
   "source": [
    "df5.apply(pd.Series.value_counts)\n",
    "plt.title('Sentiment Analysis')\n",
    "plt.xlabel ('Sentiment')\n",
    "plt.ylabel('Counts')\n",
    "df5.apply(pd.Series.value_counts).plot(kind = 'bar')\n",
    "plt.show()\n"
   ]
  },
  {
   "cell_type": "code",
   "execution_count": null,
   "metadata": {
    "id": "w0mhqwWiaTjD"
   },
   "outputs": [],
   "source": [
    "import pandas as pd\n",
    "colnames = ['Tweets','is_retweet','retweeted','mentioned','hashtags','clean_tweet','cluster','new', 'tidy_text', 'tok', 'nouns']\n",
    "df6 = pd.read_csv('c5.csv', names=colnames)\n"
   ]
  },
  {
   "cell_type": "code",
   "execution_count": null,
   "metadata": {
    "id": "PhrBTjXoann2"
   },
   "outputs": [],
   "source": [
    "fetched_tweets = df6.clean_tweet.tolist()\n"
   ]
  },
  {
   "cell_type": "code",
   "execution_count": null,
   "metadata": {
    "id": "U92ccx-xohJT"
   },
   "outputs": [],
   "source": []
  },
  {
   "cell_type": "code",
   "execution_count": null,
   "metadata": {
    "id": "CqHPQco8ohrO"
   },
   "outputs": [],
   "source": [
    "from wordcloud import WordCloud \n",
    "\n",
    "allWords = ' '.join([tweets for tweets in df6['clean_tweet']])\n",
    "wordCloud = WordCloud(width = 800, height = 500, random_state = 21, max_font_size = 119).generate(allWords)\n",
    "plt.imshow(wordCloud, interpolation = \"bilinear\")\n",
    "plt.axis('off')\n",
    "plt.show()"
   ]
  },
  {
   "cell_type": "code",
   "execution_count": null,
   "metadata": {
    "id": "5K0QY9dhax3K"
   },
   "outputs": [],
   "source": [
    "def get_tweet_sentiment(tweet):\n",
    "\t\t'''\n",
    "\t\tUtility function to classify sentiment of passed tweet\n",
    "\t\tusing textblob's sentiment method\n",
    "\t\t'''\n",
    "\t\t# create TextBlob object of passed tweet text\n",
    "\t\tanalysis = TextBlob(tweet)\n",
    "\t\t# set sentiment\n",
    "\t\tif analysis.sentiment.polarity > 0:\n",
    "\t\t\treturn 'positive'\n",
    "\t\telif analysis.sentiment.polarity == 0:\n",
    "\t\t\treturn 'neutral'\n",
    "\t\telse:\n",
    "\t\t\treturn 'negative'\n"
   ]
  },
  {
   "cell_type": "code",
   "execution_count": null,
   "metadata": {},
   "outputs": [],
   "source": [
    "from textblob import TextBlob\n",
    "tweets = []\n",
    "for tweet in fetched_tweets:\n",
    "  #print(tweet)\n",
    "\t\t\t\t# empty dictionary to store required params of a tweet\n",
    "  parsed_tweet = {}\n",
    "  parsed_tweet['text'] = tweet\n",
    "  parsed_tweet['sentiment']=get_tweet_sentiment(tweet)\n",
    "  tweets.append(parsed_tweet)\n",
    "\t\n",
    " \n",
    "\t\n",
    "print(tweets)"
   ]
  },
  {
   "cell_type": "code",
   "execution_count": null,
   "metadata": {
    "id": "6DnMjBvpa7GR"
   },
   "outputs": [],
   "source": [
    "\n",
    "   \n",
    "# output the dataframe\n",
    "  \n",
    "\n",
    "ptweets = [tweet for tweet in tweets if tweet['sentiment'] == 'positive']\n",
    "\t# percentage of positive tweets\n",
    "print(\"Positive tweets percentage: {} %\".format(100*len(ptweets)/len(tweets)))\n",
    "\t# picking negative tweets from tweets\n",
    "ntweets = [tweet for tweet in tweets if tweet['sentiment'] == 'negative']\n",
    "\t# percentage of negative tweets\n",
    "print(\"Negative tweets percentage: {} %\".format(100*len(ntweets)/len(tweets)))\n",
    "\t# percentage of neutral tweets\n",
    "print(\"Neutral tweets percentage: {} % \\\n",
    "\t\t\".format(100*(len(tweets) -(len( ntweets )+len( ptweets)))/len(tweets)))\n",
    "\n",
    "\t# printing first 5 positive tweets\n",
    "print(\"\\n\\nPositive tweets:\")\n",
    "for tweet in ptweets[:400]:\n",
    "\tprint(tweet['text'])\n",
    "\n",
    "\t# printing first 5 negative tweets\n",
    "print(\"\\n\\nNegative tweets:\")\n",
    "for tweet in ntweets[:10]:\n",
    "  print(tweet['text'])\n"
   ]
  },
  {
   "cell_type": "code",
   "execution_count": null,
   "metadata": {
    "id": "f-Kv6GSKbRIQ"
   },
   "outputs": [],
   "source": []
  },
  {
   "cell_type": "code",
   "execution_count": null,
   "metadata": {
    "id": "LQCpqe2DbRXD"
   },
   "outputs": [],
   "source": [
    "\n",
    "import pandas as pd\n",
    "\n",
    "df6 = pd.DataFrame(tweets, columns=['sentiment'])\n",
    "df6.head(1000)\n"
   ]
  },
  {
   "cell_type": "code",
   "execution_count": null,
   "metadata": {
    "id": "XnVhLwjxbxy6"
   },
   "outputs": [],
   "source": [
    "df6.apply(pd.Series.value_counts)\n",
    "plt.title('Sentiment Analysis')\n",
    "plt.xlabel ('Sentiment')\n",
    "plt.ylabel('Counts')\n",
    "df6.apply(pd.Series.value_counts).plot(kind = 'bar')\n",
    "plt.show()\n"
   ]
  },
  {
   "cell_type": "code",
   "execution_count": null,
   "metadata": {
    "id": "PkPIPvOVaTxW"
   },
   "outputs": [],
   "source": [
    "import pandas as pd\n",
    "colnames = ['Tweets','is_retweet','retweeted','mentioned','hashtags','clean_tweet','cluster','new', 'tidy_text', 'tok', 'nouns']\n",
    "df7 = pd.read_csv('c6.csv', names=colnames)\n"
   ]
  },
  {
   "cell_type": "code",
   "execution_count": null,
   "metadata": {
    "id": "4W3HFBJZokeI"
   },
   "outputs": [],
   "source": [
    "from wordcloud import WordCloud \n",
    "\n",
    "allWords = ' '.join([tweets for tweets in df7['clean_tweet']])\n",
    "wordCloud = WordCloud(width = 800, height = 500, random_state = 21, max_font_size = 119).generate(allWords)\n",
    "plt.imshow(wordCloud, interpolation = \"bilinear\")\n",
    "plt.axis('off')\n",
    "plt.show()"
   ]
  },
  {
   "cell_type": "code",
   "execution_count": null,
   "metadata": {
    "id": "4EXLLliEopIb"
   },
   "outputs": [],
   "source": [
    "from wordcloud import WordCloud \n",
    "\n",
    "allWords = ' '.join([tweets for tweets in df7['clean_tweet']])\n",
    "wordCloud = WordCloud(width = 800, height = 500, random_state = 21, max_font_size = 119).generate(allWords)\n",
    "plt.imshow(wordCloud, interpolation = \"bilinear\")\n",
    "plt.axis('off')\n",
    "plt.show()"
   ]
  },
  {
   "cell_type": "code",
   "execution_count": null,
   "metadata": {
    "id": "69vdn4d8ayxr"
   },
   "outputs": [],
   "source": [
    "def get_tweet_sentiment(tweet):\n",
    "\t\t'''\n",
    "\t\tUtility function to classify sentiment of passed tweet\n",
    "\t\tusing textblob's sentiment method\n",
    "\t\t'''\n",
    "\t\t# create TextBlob object of passed tweet text\n",
    "\t\tanalysis = TextBlob(tweet)\n",
    "\t\t# set sentiment\n",
    "\t\tif analysis.sentiment.polarity > 0:\n",
    "\t\t\treturn 'positive'\n",
    "\t\telif analysis.sentiment.polarity == 0:\n",
    "\t\t\treturn 'neutral'\n",
    "\t\telse:\n",
    "\t\t\treturn 'negative'\n"
   ]
  },
  {
   "cell_type": "code",
   "execution_count": null,
   "metadata": {},
   "outputs": [],
   "source": [
    "from textblob import TextBlob\n",
    "tweets = []\n",
    "for tweet in fetched_tweets:\n",
    "  #print(tweet)\n",
    "\t\t\t\t# empty dictionary to store required params of a tweet\n",
    "  parsed_tweet = {}\n",
    "  parsed_tweet['text'] = tweet\n",
    "  parsed_tweet['sentiment']=get_tweet_sentiment(tweet)\n",
    "  tweets.append(parsed_tweet)\n",
    "\t\n",
    " \n",
    "\t\n",
    "print(tweets)"
   ]
  },
  {
   "cell_type": "code",
   "execution_count": null,
   "metadata": {
    "id": "hmjBOKJea86R"
   },
   "outputs": [],
   "source": [
    "\n",
    "   \n",
    "# output the dataframe\n",
    "  \n",
    "\n",
    "ptweets = [tweet for tweet in tweets if tweet['sentiment'] == 'positive']\n",
    "\t# percentage of positive tweets\n",
    "print(\"Positive tweets percentage: {} %\".format(100*len(ptweets)/len(tweets)))\n",
    "\t# picking negative tweets from tweets\n",
    "ntweets = [tweet for tweet in tweets if tweet['sentiment'] == 'negative']\n",
    "\t# percentage of negative tweets\n",
    "print(\"Negative tweets percentage: {} %\".format(100*len(ntweets)/len(tweets)))\n",
    "\t# percentage of neutral tweets\n",
    "print(\"Neutral tweets percentage: {} % \\\n",
    "\t\t\".format(100*(len(tweets) -(len( ntweets )+len( ptweets)))/len(tweets)))\n",
    "\n",
    "\t# printing first 5 positive tweets\n",
    "print(\"\\n\\nPositive tweets:\")\n",
    "for tweet in ptweets[:400]:\n",
    "\tprint(tweet['text'])\n",
    "\n",
    "\t# printing first 5 negative tweets\n",
    "print(\"\\n\\nNegative tweets:\")\n",
    "for tweet in ntweets[:10]:\n",
    "  print(tweet['text'])\n"
   ]
  },
  {
   "cell_type": "code",
   "execution_count": null,
   "metadata": {
    "id": "DS3kz59pbTLt"
   },
   "outputs": [],
   "source": [
    "\n",
    "import pandas as pd\n",
    "\n",
    "df7 = pd.DataFrame(tweets, columns=['sentiment'])\n",
    "df7.head(1000)\n"
   ]
  },
  {
   "cell_type": "code",
   "execution_count": null,
   "metadata": {
    "id": "YOdt0rn1bz6S"
   },
   "outputs": [],
   "source": [
    "df7.apply(pd.Series.value_counts)\n",
    "plt.title('Sentiment Analysis')\n",
    "plt.xlabel ('Sentiment')\n",
    "plt.ylabel('Counts')\n",
    "df7.apply(pd.Series.value_counts).plot(kind = 'bar')\n",
    "plt.show()\n"
   ]
  },
  {
   "cell_type": "code",
   "execution_count": null,
   "metadata": {
    "id": "T3SDPRnwaUAB"
   },
   "outputs": [],
   "source": [
    "import pandas as pd\n",
    "colnames = ['Tweets','is_retweet','retweeted','mentioned','hashtags','clean_tweet','cluster','new', 'tidy_text', 'tok', 'nouns']\n",
    "df8 = pd.read_csv('c7.csv', names=colnames)\n"
   ]
  },
  {
   "cell_type": "code",
   "execution_count": null,
   "metadata": {
    "id": "lmjbKRqFapPK"
   },
   "outputs": [],
   "source": [
    "fetched_tweets = df8.clean_tweet.tolist()\n"
   ]
  },
  {
   "cell_type": "code",
   "execution_count": null,
   "metadata": {
    "id": "W0EGLspUosUR"
   },
   "outputs": [],
   "source": [
    "from wordcloud import WordCloud \n",
    "\n",
    "allWords = ' '.join([tweets for tweets in df8['clean_tweet']])\n",
    "wordCloud = WordCloud(width = 800, height = 500, random_state = 21, max_font_size = 119).generate(allWords)\n",
    "plt.imshow(wordCloud, interpolation = \"bilinear\")\n",
    "plt.axis('off')\n",
    "plt.show()"
   ]
  },
  {
   "cell_type": "code",
   "execution_count": null,
   "metadata": {
    "id": "-Ce8rE9zaz-r"
   },
   "outputs": [],
   "source": [
    "def get_tweet_sentiment(tweet):\n",
    "\t\t'''\n",
    "\t\tUtility function to classify sentiment of passed tweet\n",
    "\t\tusing textblob's sentiment method\n",
    "\t\t'''\n",
    "\t\t# create TextBlob object of passed tweet text\n",
    "\t\tanalysis = TextBlob(tweet)\n",
    "\t\t# set sentiment\n",
    "\t\tif analysis.sentiment.polarity > 0:\n",
    "\t\t\treturn 'positive'\n",
    "\t\telif analysis.sentiment.polarity == 0:\n",
    "\t\t\treturn 'neutral'\n",
    "\t\telse:\n",
    "\t\t\treturn 'negative'\n"
   ]
  },
  {
   "cell_type": "code",
   "execution_count": null,
   "metadata": {},
   "outputs": [],
   "source": [
    "from textblob import TextBlob\n",
    "tweets = []\n",
    "for tweet in fetched_tweets:\n",
    "  #print(tweet)\n",
    "\t\t\t\t# empty dictionary to store required params of a tweet\n",
    "  parsed_tweet = {}\n",
    "  parsed_tweet['text'] = tweet\n",
    "  parsed_tweet['sentiment']=get_tweet_sentiment(tweet)\n",
    "  tweets.append(parsed_tweet)\n",
    "\t\n",
    " \n",
    "\t\n",
    "print(tweets)"
   ]
  },
  {
   "cell_type": "code",
   "execution_count": null,
   "metadata": {
    "id": "n_yutAPOa-J_"
   },
   "outputs": [],
   "source": [
    "\n",
    "   \n",
    "# output the dataframe\n",
    "  \n",
    "\n",
    "ptweets = [tweet for tweet in tweets if tweet['sentiment'] == 'positive']\n",
    "\t# percentage of positive tweets\n",
    "print(\"Positive tweets percentage: {} %\".format(100*len(ptweets)/len(tweets)))\n",
    "\t# picking negative tweets from tweets\n",
    "ntweets = [tweet for tweet in tweets if tweet['sentiment'] == 'negative']\n",
    "\t# percentage of negative tweets\n",
    "print(\"Negative tweets percentage: {} %\".format(100*len(ntweets)/len(tweets)))\n",
    "\t# percentage of neutral tweets\n",
    "print(\"Neutral tweets percentage: {} % \\\n",
    "\t\t\".format(100*(len(tweets) -(len( ntweets )+len( ptweets)))/len(tweets)))\n",
    "\n",
    "\t# printing first 5 positive tweets\n",
    "print(\"\\n\\nPositive tweets:\")\n",
    "for tweet in ptweets[:400]:\n",
    "\tprint(tweet['text'])\n",
    "\n",
    "\t# printing first 5 negative tweets\n",
    "print(\"\\n\\nNegative tweets:\")\n",
    "for tweet in ntweets[:10]:\n",
    "  print(tweet['text'])\n"
   ]
  },
  {
   "cell_type": "code",
   "execution_count": null,
   "metadata": {
    "id": "4X0reVTpbU4Q"
   },
   "outputs": [],
   "source": [
    "\n",
    "import pandas as pd\n",
    "\n",
    "df8 = pd.DataFrame(tweets, columns=['sentiment'])\n",
    "df8.head(1000)\n"
   ]
  },
  {
   "cell_type": "code",
   "execution_count": null,
   "metadata": {
    "id": "_eDu7CYDb1n8"
   },
   "outputs": [],
   "source": [
    "df8.apply(pd.Series.value_counts)\n",
    "plt.title('Sentiment Analysis')\n",
    "plt.xlabel ('Sentiment')\n",
    "plt.ylabel('Counts')\n",
    "df8.apply(pd.Series.value_counts).plot(kind = 'bar')\n",
    "plt.show()\n"
   ]
  },
  {
   "cell_type": "code",
   "execution_count": null,
   "metadata": {
    "id": "lzo1qpkAaUOP"
   },
   "outputs": [],
   "source": [
    "import pandas as pd\n",
    "colnames = ['Tweets','is_retweet','retweeted','mentioned','hashtags','clean_tweet','cluster','new', 'tidy_text', 'tok', 'nouns']\n",
    "df9 = pd.read_csv('c8.csv', names=colnames)\n"
   ]
  },
  {
   "cell_type": "code",
   "execution_count": null,
   "metadata": {
    "id": "ce5mVdOJap69"
   },
   "outputs": [],
   "source": [
    "fetched_tweets = df9.clean_tweet.tolist()\n"
   ]
  },
  {
   "cell_type": "code",
   "execution_count": null,
   "metadata": {
    "id": "2DAXxsvYowDa"
   },
   "outputs": [],
   "source": []
  },
  {
   "cell_type": "code",
   "execution_count": null,
   "metadata": {
    "id": "Qx7BmQZgowuk"
   },
   "outputs": [],
   "source": [
    "from wordcloud import WordCloud \n",
    "\n",
    "allWords = ' '.join([tweets for tweets in df9['clean_tweet']])\n",
    "wordCloud = WordCloud(width = 800, height = 500, random_state = 21, max_font_size = 119).generate(allWords)\n",
    "plt.imshow(wordCloud, interpolation = \"bilinear\")\n",
    "plt.axis('off')\n",
    "plt.show()"
   ]
  },
  {
   "cell_type": "code",
   "execution_count": null,
   "metadata": {
    "id": "brEC9OmLa1b2"
   },
   "outputs": [],
   "source": [
    "def get_tweet_sentiment(tweet):\n",
    "\t\t'''\n",
    "\t\tUtility function to classify sentiment of passed tweet\n",
    "\t\tusing textblob's sentiment method\n",
    "\t\t'''\n",
    "\t\t# create TextBlob object of passed tweet text\n",
    "\t\tanalysis = TextBlob(tweet)\n",
    "\t\t# set sentiment\n",
    "\t\tif analysis.sentiment.polarity > 0:\n",
    "\t\t\treturn 'positive'\n",
    "\t\telif analysis.sentiment.polarity == 0:\n",
    "\t\t\treturn 'neutral'\n",
    "\t\telse:\n",
    "\t\t\treturn 'negative'\n"
   ]
  },
  {
   "cell_type": "code",
   "execution_count": null,
   "metadata": {},
   "outputs": [],
   "source": [
    "from textblob import TextBlob\n",
    "tweets = []\n",
    "for tweet in fetched_tweets:\n",
    "  #print(tweet)\n",
    "\t\t\t\t# empty dictionary to store required params of a tweet\n",
    "  parsed_tweet = {}\n",
    "  parsed_tweet['text'] = tweet\n",
    "  parsed_tweet['sentiment']=get_tweet_sentiment(tweet)\n",
    "  tweets.append(parsed_tweet)\n",
    "\t\n",
    " \n",
    "\t\n",
    "print(tweets)"
   ]
  },
  {
   "cell_type": "code",
   "execution_count": null,
   "metadata": {
    "id": "2NPt9lzPa_MU"
   },
   "outputs": [],
   "source": [
    "\n",
    "   \n",
    "# output the dataframe\n",
    "  \n",
    "\n",
    "ptweets = [tweet for tweet in tweets if tweet['sentiment'] == 'positive']\n",
    "\t# percentage of positive tweets\n",
    "print(\"Positive tweets percentage: {} %\".format(100*len(ptweets)/len(tweets)))\n",
    "\t# picking negative tweets from tweets\n",
    "ntweets = [tweet for tweet in tweets if tweet['sentiment'] == 'negative']\n",
    "\t# percentage of negative tweets\n",
    "print(\"Negative tweets percentage: {} %\".format(100*len(ntweets)/len(tweets)))\n",
    "\t# percentage of neutral tweets\n",
    "print(\"Neutral tweets percentage: {} % \\\n",
    "\t\t\".format(100*(len(tweets) -(len( ntweets )+len( ptweets)))/len(tweets)))\n",
    "\n",
    "\t# printing first 5 positive tweets\n",
    "print(\"\\n\\nPositive tweets:\")\n",
    "for tweet in ptweets[:400]:\n",
    "\tprint(tweet['text'])\n",
    "\n",
    "\t# printing first 5 negative tweets\n",
    "print(\"\\n\\nNegative tweets:\")\n",
    "for tweet in ntweets[:10]:\n",
    "  print(tweet['text'])\n"
   ]
  },
  {
   "cell_type": "code",
   "execution_count": null,
   "metadata": {
    "id": "1PAlvwJAbWmQ"
   },
   "outputs": [],
   "source": [
    "\n",
    "import pandas as pd\n",
    "\n",
    "df9 = pd.DataFrame(tweets, columns=['sentiment'])\n",
    "df9.head(1000)\n"
   ]
  },
  {
   "cell_type": "code",
   "execution_count": null,
   "metadata": {
    "id": "fiPK_7wwb3o3"
   },
   "outputs": [],
   "source": [
    "df9.apply(pd.Series.value_counts)\n",
    "plt.title('Sentiment Analysis')\n",
    "plt.xlabel ('Sentiment')\n",
    "plt.ylabel('Counts')\n",
    "df9.apply(pd.Series.value_counts).plot(kind = 'bar')\n",
    "plt.show()\n"
   ]
  },
  {
   "cell_type": "code",
   "execution_count": null,
   "metadata": {
    "id": "WOpg24xaaUdp"
   },
   "outputs": [],
   "source": [
    "import pandas as pd\n",
    "colnames = ['Tweets','is_retweet','retweeted','mentioned','hashtags','clean_tweet','cluster','new', 'tidy_text', 'tok', 'nouns']\n",
    "df10 = pd.read_csv('c9.csv', names=colnames)\n"
   ]
  },
  {
   "cell_type": "code",
   "execution_count": null,
   "metadata": {
    "id": "K12MfWFbaqk_"
   },
   "outputs": [],
   "source": [
    "fetched_tweets = df10.clean_tweet.tolist()\n"
   ]
  },
  {
   "cell_type": "code",
   "execution_count": null,
   "metadata": {
    "id": "iRoVgFojo6gA"
   },
   "outputs": [],
   "source": [
    "from wordcloud import WordCloud \n",
    "\n",
    "allWords = ' '.join([tweets for tweets in df10['clean_tweet']])\n",
    "wordCloud = WordCloud(width = 800, height = 500, random_state = 21, max_font_size = 119).generate(allWords)\n",
    "plt.imshow(wordCloud, interpolation = \"bilinear\")\n",
    "plt.axis('off')\n",
    "plt.show()"
   ]
  },
  {
   "cell_type": "code",
   "execution_count": null,
   "metadata": {
    "id": "l63kqWlGa2Va"
   },
   "outputs": [],
   "source": [
    "def get_tweet_sentiment(tweet):\n",
    "\t\t'''\n",
    "\t\tUtility function to classify sentiment of passed tweet\n",
    "\t\tusing textblob's sentiment method\n",
    "\t\t'''\n",
    "\t\t# create TextBlob object of passed tweet text\n",
    "\t\tanalysis = TextBlob(tweet)\n",
    "\t\t# set sentiment\n",
    "\t\tif analysis.sentiment.polarity > 0:\n",
    "\t\t\treturn 'positive'\n",
    "\t\telif analysis.sentiment.polarity == 0:\n",
    "\t\t\treturn 'neutral'\n",
    "\t\telse:\n",
    "\t\t\treturn 'negative'\n"
   ]
  },
  {
   "cell_type": "code",
   "execution_count": null,
   "metadata": {},
   "outputs": [],
   "source": [
    "from textblob import TextBlob\n",
    "tweets = []\n",
    "for tweet in fetched_tweets:\n",
    "  #print(tweet)\n",
    "\t\t\t\t# empty dictionary to store required params of a tweet\n",
    "  parsed_tweet = {}\n",
    "  parsed_tweet['text'] = tweet\n",
    "  parsed_tweet['sentiment']=get_tweet_sentiment(tweet)\n",
    "  tweets.append(parsed_tweet)\n",
    "\t\n",
    " \n",
    "\t\n",
    "print(tweets)"
   ]
  },
  {
   "cell_type": "code",
   "execution_count": null,
   "metadata": {
    "id": "Rgl8ju0lbBuG"
   },
   "outputs": [],
   "source": [
    "\n",
    "   \n",
    "# output the dataframe\n",
    "  \n",
    "\n",
    "ptweets = [tweet for tweet in tweets if tweet['sentiment'] == 'positive']\n",
    "\t# percentage of positive tweets\n",
    "print(\"Positive tweets percentage: {} %\".format(100*len(ptweets)/len(tweets)))\n",
    "\t# picking negative tweets from tweets\n",
    "ntweets = [tweet for tweet in tweets if tweet['sentiment'] == 'negative']\n",
    "\t# percentage of negative tweets\n",
    "print(\"Negative tweets percentage: {} %\".format(100*len(ntweets)/len(tweets)))\n",
    "\t# percentage of neutral tweets\n",
    "print(\"Neutral tweets percentage: {} % \\\n",
    "\t\t\".format(100*(len(tweets) -(len( ntweets )+len( ptweets)))/len(tweets)))\n",
    "\n",
    "\t# printing first 5 positive tweets\n",
    "print(\"\\n\\nPositive tweets:\")\n",
    "for tweet in ptweets[:400]:\n",
    "\tprint(tweet['text'])\n",
    "\n",
    "\t# printing first 5 negative tweets\n",
    "print(\"\\n\\nNegative tweets:\")\n",
    "for tweet in ntweets[:10]:\n",
    "  print(tweet['text'])\n"
   ]
  },
  {
   "cell_type": "code",
   "execution_count": null,
   "metadata": {
    "id": "SIaiIrZhbYN3"
   },
   "outputs": [],
   "source": []
  },
  {
   "cell_type": "code",
   "execution_count": null,
   "metadata": {
    "id": "NxfYmqfibYd8"
   },
   "outputs": [],
   "source": [
    "\n",
    "import pandas as pd\n",
    "\n",
    "df10 = pd.DataFrame(tweets, columns=['sentiment'])\n",
    "df10.head(1000)\n"
   ]
  },
  {
   "cell_type": "code",
   "execution_count": null,
   "metadata": {
    "id": "-UdGnRc7b5r9"
   },
   "outputs": [],
   "source": [
    "df10.apply(pd.Series.value_counts)\n",
    "plt.title('Sentiment Analysis')\n",
    "plt.xlabel ('Sentiment')\n",
    "plt.ylabel('Counts')\n",
    "df10.apply(pd.Series.value_counts).plot(kind = 'bar')\n",
    "plt.show()\n"
   ]
  },
  {
   "cell_type": "code",
   "execution_count": null,
   "metadata": {},
   "outputs": [],
   "source": []
  },
  {
   "cell_type": "code",
   "execution_count": null,
   "metadata": {},
   "outputs": [],
   "source": []
  },
  {
   "cell_type": "code",
   "execution_count": null,
   "metadata": {},
   "outputs": [],
   "source": []
  },
  {
   "cell_type": "code",
   "execution_count": null,
   "metadata": {},
   "outputs": [],
   "source": []
  },
  {
   "cell_type": "code",
   "execution_count": null,
   "metadata": {},
   "outputs": [],
   "source": []
  }
 ],
 "metadata": {
  "colab": {
   "collapsed_sections": [],
   "name": "ProjectFinal.ipynb",
   "provenance": []
  },
  "kernelspec": {
   "display_name": "Python 3",
   "language": "python",
   "name": "python3"
  },
  "language_info": {
   "codemirror_mode": {
    "name": "ipython",
    "version": 3
   },
   "file_extension": ".py",
   "mimetype": "text/x-python",
   "name": "python",
   "nbconvert_exporter": "python",
   "pygments_lexer": "ipython3",
   "version": "3.8.3"
  }
 },
 "nbformat": 4,
 "nbformat_minor": 1
}
